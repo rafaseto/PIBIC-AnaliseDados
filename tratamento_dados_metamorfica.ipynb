{
 "cells": [
  {
   "cell_type": "markdown",
   "metadata": {},
   "source": [
    "# Caracterização de eletrofáceis por meio de inteligência artificial com abordagem supervisionada\n",
    "## Reclassificação da litologia metamorfica em xisto ou filito"
   ]
  },
  {
   "cell_type": "markdown",
   "metadata": {},
   "source": [
    "- **Nome do Arquivo**: tratamento_dados_metamorfica.ipynb\n",
    "- **Autor**: Rafael Takeguma Goto\n",
    "- **Versão**: 1.0\n",
    "- **Data de Criação**: 11/07/2024\n",
    "- **Data de Modificação**: 12/07/2024"
   ]
  },
  {
   "cell_type": "markdown",
   "metadata": {},
   "source": [
    "### Descrição: \n",
    "Este notebook contém a etapa do trabalho referente à reclassificação da litologia METAMORFICA NAO IDE em XISTO ou FILITO.\n",
    "\n",
    "Para reclassificar a metamorfica, será utilizado um modelo de classificação de floresta aleatória, que utilizará as propriedades de perfis dos registros de xisto e filito para aprender e ser capaz de rotular a metamorfica como uma dessas duas litologias."
   ]
  },
  {
   "cell_type": "markdown",
   "metadata": {},
   "source": [
    "### Leitura do conjunto de dados\n",
    "\n",
    "O conjunto de dados é constituído por um arquivo csv, que é resultado da concatenação dos arquivos csv gerados a partir da fusão da extração dos arquivos dlis com os arquivos agp de cada poço, seguida da aplicação dos filtros de constantes, nulos e perfis (DCAL e DRHO)."
   ]
  },
  {
   "cell_type": "code",
   "execution_count": 1,
   "metadata": {},
   "outputs": [],
   "source": [
    "import pandas as pd\n",
    "\n",
    "path_pocos_pre_transicao = 'Dados-filtrados-concatenados\\pocos_pre_transicao.csv'\n",
    "\n",
    "dados_concatenados_leitura = pd.read_csv(path_pocos_pre_transicao)\n",
    "\n",
    "dados_concatenados = pd.DataFrame(dados_concatenados_leitura)"
   ]
  },
  {
   "cell_type": "markdown",
   "metadata": {},
   "source": [
    "### Separa os registros de XISTO e FILITO\n",
    "Separa as linhas (registros) em que a litologia é XISTO ou FILITO para treinar o modelo com base nesses dados."
   ]
  },
  {
   "cell_type": "code",
   "execution_count": 2,
   "metadata": {},
   "outputs": [],
   "source": [
    "dados_xisto_filito = dados_concatenados[(dados_concatenados['Litologia'] == 'XISTO') | (dados_concatenados['Litologia'] == 'FILITO')]"
   ]
  }
 ],
 "metadata": {
  "kernelspec": {
   "display_name": "Python 3",
   "language": "python",
   "name": "python3"
  },
  "language_info": {
   "codemirror_mode": {
    "name": "ipython",
    "version": 3
   },
   "file_extension": ".py",
   "mimetype": "text/x-python",
   "name": "python",
   "nbconvert_exporter": "python",
   "pygments_lexer": "ipython3",
   "version": "3.10.2"
  }
 },
 "nbformat": 4,
 "nbformat_minor": 2
}
