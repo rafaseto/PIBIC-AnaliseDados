{
 "cells": [
  {
   "cell_type": "markdown",
   "metadata": {},
   "source": [
    "# Caracterização de eletrofáceis por meio de inteligência artificial com abordagem supervisionada\n",
    "## Verificação dos dados da fusão"
   ]
  },
  {
   "cell_type": "markdown",
   "metadata": {},
   "source": [
    "- **Nome do Arquivo**: verificacao_fusao.ipynb\n",
    "- **Autor**: Rafael Takeguma Goto\n",
    "- **Versão**: 1.0\n",
    "- **Data de Criação**: 01/07/2024\n",
    "- **Data de Modificação**: 01/07/2024"
   ]
  },
  {
   "cell_type": "markdown",
   "metadata": {},
   "source": [
    "### Descrição: \n",
    "Este notebook contém uma etapa adicional do trabalho referente à verificação dos dados fusão, a fim de certificar que o encaixe dos dados da fusão está correta."
   ]
  },
  {
   "cell_type": "markdown",
   "metadata": {},
   "source": [
    "### Leitura dos dados da extração dlis\n",
    "\n",
    "Leitura dos dados dos arquivos da extração dlis, que estão localizados na pasta Dados-dlis-pre-processados."
   ]
  },
  {
   "cell_type": "code",
   "execution_count": 1,
   "metadata": {},
   "outputs": [],
   "source": [
    "import glob\n",
    "import pandas as pd\n",
    "\n",
    "leituras_extracao_dlis = []      # Armazena as leituras dos arquivos .csv da extração dlis\n",
    "nomes_extracao_dlis = []          # Armazena os nomes obtidos das leituras dos arquivos da extração dlis\n",
    "\n",
    "for file in glob.glob(r'**/Dados-dlis-pre-processados' + \"/*.csv\", recursive=True):\n",
    "    try:\n",
    "        # Salva os dados da leitura\n",
    "        leitura = pd.read_csv(f'{file}')\n",
    "        leituras_extracao_dlis.append(leitura)\n",
    "\n",
    "        # Salva o nome do poço\n",
    "        nomes_extracao_dlis.append(file)\n",
    "    except:\n",
    "        print(file)"
   ]
  },
  {
   "cell_type": "code",
   "execution_count": 2,
   "metadata": {},
   "outputs": [],
   "source": [
    "# Casa itens da lista 'nomes_extacao_dlis' com os itens da lista 'leituras_extracao_dlis'\n",
    "pares = zip(nomes_extracao_dlis, leituras_extracao_dlis)\n",
    "\n",
    "# Cria dicionário 'dados'\n",
    "dados_extracao_dlis = dict(pares)"
   ]
  },
  {
   "cell_type": "markdown",
   "metadata": {},
   "source": [
    "### Leitura dos dados da fusão do dlis com o agp\n",
    "\n",
    "Leitura dos dados dos arquivos da fusão do dlis com o agp, que estão localizados na pasta Dados-fusao."
   ]
  },
  {
   "cell_type": "code",
   "execution_count": 3,
   "metadata": {},
   "outputs": [],
   "source": [
    "import glob\n",
    "import pandas as pd\n",
    "\n",
    "leituras_fusao = []      # Armazena as leituras dos arquivos .csv da fusão\n",
    "nomes_fusao = []          # Armazena os nomes obtidos das leituras dos arquivos da fusão\n",
    "\n",
    "for file in glob.glob(r'**/Dados-fusao' + \"/*.csv\", recursive=True):\n",
    "    try:\n",
    "        # Salva os dados da leitura\n",
    "        leitura = pd.read_csv(f'{file}')\n",
    "        leituras_fusao.append(leitura)\n",
    "\n",
    "        # Salva o nome do poço\n",
    "        nomes_fusao.append(file)\n",
    "    except:\n",
    "        print(file)"
   ]
  },
  {
   "cell_type": "code",
   "execution_count": 4,
   "metadata": {},
   "outputs": [],
   "source": [
    "# Casa itens da lista 'nomes_fusao' com os itens da lista 'leituras_fusao'\n",
    "pares_02 = zip(nomes_fusao, leituras_fusao)\n",
    "\n",
    "# Cria dicionário 'dados'\n",
    "dados_fusao = dict(pares_02)"
   ]
  },
  {
   "cell_type": "markdown",
   "metadata": {},
   "source": [
    "### Separa os dados da curva GR nos conjuntos de dados da extração dlis e da fusão.\n",
    "\n",
    "Os dados da curva GR serão a base para a verificação da fusão, ao comparar os registros de GR de cada poço nos dados da extração dlis e da fusão."
   ]
  },
  {
   "cell_type": "code",
   "execution_count": 5,
   "metadata": {},
   "outputs": [],
   "source": [
    "# Curvas da extração dlis que serão utilizadas para verificação\n",
    "gr_tdep = ['GR', 'TDEP']\n",
    "\n",
    "# Curvas da fusão que serão utilizadas para verificação\n",
    "gr_profundidade = ['GR', 'Profundidade']\n",
    "\n",
    "# Dicionário que armazenará os dataframes (da extração dlis) focados nessas curvas\n",
    "dados_dlis_gr_tdep = {}\n",
    "\n",
    "# Dicionário que armazenará os dataframes (da fusão) focados nessas curvas\n",
    "dados_fusao_gr_profundidade = {}\n",
    "\n",
    "# Itera para criar os dataframes focados com as curvas GR e TDEP (extração dlis)\n",
    "for key, value in dados_extracao_dlis.items():\n",
    "    # Cria dataframe apenas com as curvas para verificação\n",
    "    dataframe_dlis_gr_tdep = value[gr_tdep]\n",
    "\n",
    "    # Armazena o dataframe no dict\n",
    "    dados_dlis_gr_tdep[key] = dataframe_dlis_gr_tdep\n",
    "\n",
    "# Itera para criar os dataframes focados com as curvas GR e Profundidade (fusão)\n",
    "for key, value in dados_fusao.items():\n",
    "    # Cria um dataframe sem as linhas interpoladas\n",
    "    dataframe_fusao_gr_profundidade = value[value['interpolada'] == False]\n",
    "   \n",
    "    # Separa apenas as curvas que serão usadas para verificação\n",
    "    dataframe_fusao_gr_profundidade = dataframe_fusao_gr_profundidade[gr_profundidade]\n",
    "    \n",
    "    # Armazena o dataframe no dict \n",
    "    dados_fusao_gr_profundidade[key] = dataframe_fusao_gr_profundidade"
   ]
  }
 ],
 "metadata": {
  "kernelspec": {
   "display_name": "Python 3",
   "language": "python",
   "name": "python3"
  },
  "language_info": {
   "codemirror_mode": {
    "name": "ipython",
    "version": 3
   },
   "file_extension": ".py",
   "mimetype": "text/x-python",
   "name": "python",
   "nbconvert_exporter": "python",
   "pygments_lexer": "ipython3",
   "version": "3.10.2"
  }
 },
 "nbformat": 4,
 "nbformat_minor": 2
}
