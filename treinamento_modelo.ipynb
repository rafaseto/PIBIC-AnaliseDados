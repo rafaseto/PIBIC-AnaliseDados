{
 "cells": [
  {
   "cell_type": "markdown",
   "metadata": {},
   "source": [
    "#### Nome do Arquivo: treinamento_modelo.ipynb\n",
    "#### Versão: 1.0\n",
    "#### Autor: Rafael Takeguma Goto\n",
    "#### Data de Criação: 24/06/2024\n",
    "#### Data de Modificação: 24/06/2024"
   ]
  }
 ],
 "metadata": {
  "language_info": {
   "name": "python"
  }
 },
 "nbformat": 4,
 "nbformat_minor": 2
}
