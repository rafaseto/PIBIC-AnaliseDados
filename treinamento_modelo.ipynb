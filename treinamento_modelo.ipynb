{
 "cells": [
  {
   "cell_type": "markdown",
   "metadata": {},
   "source": [
    "# Caracterização de eletrofáceis por meio de inteligência artificial com abordagem supervisionada\n",
    "## Treinamento teste e análise do modelo"
   ]
  },
  {
   "cell_type": "markdown",
   "metadata": {},
   "source": [
    "- **Nome do Arquivo**: treinamento_modelo.ipynb\n",
    "- **Autor**: Rafael Takeguma Goto\n",
    "- **Versão**: 1.0\n",
    "- **Data de Criação**: 24/06/2024\n",
    "- **Data de Modificação**: 18/07/2024"
   ]
  },
  {
   "cell_type": "markdown",
   "metadata": {},
   "source": [
    "### Descrição: \n",
    "Este notebook contém a etapa do trabalho referente à realização do treinamento, teste e análise do algoritmo de identificação de eletrofáceis a partir dos dados rotulados."
   ]
  },
  {
   "cell_type": "markdown",
   "metadata": {},
   "source": [
    "### Leitura do conjunto de dados\n",
    "O conjunto de dados é constituído por um arquivo csv, que é resultado da concatenação dos arquivos csv gerados a partir da fusão da extração dos arquivos dlis com os arquivos agp de cada poço, seguida da aplicação dos seguintes processamentos:\n",
    "- filtros de constantes \n",
    "- filtros de nulos\n",
    "- filtros de perfis (DCAL e DRHO)\n",
    "- reclassificação da litologia metamórfica"
   ]
  },
  {
   "cell_type": "code",
   "execution_count": 1,
   "metadata": {},
   "outputs": [],
   "source": [
    "import pandas as pd\n",
    "\n",
    "path_pocos_pre_transicao = 'Dados-filtrados-concatenados\\pocos_pre_transicao_v2.csv'\n",
    "\n",
    "dados_concatenados_leitura = pd.read_csv(path_pocos_pre_transicao)\n",
    "\n",
    "dados_concatenados = pd.DataFrame(dados_concatenados_leitura)"
   ]
  },
  {
   "cell_type": "markdown",
   "metadata": {},
   "source": [
    "### Divide os dados em treinamento e teste (sem unidades geológicas)\n",
    "Divide os dados armazenados em dados_concatenados em 2/3 para treinamento do modelo, e 1/3 para teste do modelo."
   ]
  },
  {
   "cell_type": "code",
   "execution_count": 2,
   "metadata": {},
   "outputs": [],
   "source": [
    "from sklearn.model_selection import train_test_split\n",
    "\n",
    "# Define as variáveis que serão utilizadas (propriedades de perfis) \n",
    "propriedades = ['GR', 'DCAL', 'RESD', 'DT', 'RHOB', 'DRHO', 'NPHI', 'PE']\n",
    "\n",
    "# Separa as variáveis (propriedades de perfis) e armazena em X\n",
    "X = dados_concatenados[propriedades]\n",
    "\n",
    "# Separa a variável alvo (litologia) e armazena em y\n",
    "y = dados_concatenados['Litologia']\n",
    "\n",
    "# Divide os dados em 2/3 para treinamento e 1/3 para teste\n",
    "X_train, X_test, y_train, y_test = train_test_split(X, y, test_size=1/3, random_state=42)"
   ]
  },
  {
   "cell_type": "markdown",
   "metadata": {},
   "source": [
    "### Verifica quantidade de amostras para treinamento por litologia"
   ]
  },
  {
   "cell_type": "code",
   "execution_count": 4,
   "metadata": {},
   "outputs": [
    {
     "name": "stdout",
     "output_type": "stream",
     "text": [
      "CALCILUTITO: 4117 registros\n",
      "ARENITO: 5720 registros\n",
      "FOLHELHO: 10595 registros\n",
      "ANIDRITA: 849 registros\n",
      "SILTITO: 337 registros\n",
      "CONGLOMERADO: 575 registros\n",
      "XISTO: 756 registros\n",
      "CALCARENITO: 1246 registros\n",
      "DOLOMITO: 245 registros\n",
      "GRANITO: 289 registros\n",
      "FILITO: 137 registros\n"
     ]
    }
   ],
   "source": [
    "# armazena as diferentes litologias existentes na variável 'litologias'\n",
    "litologias = dados_concatenados['Litologia'].unique()\n",
    "\n",
    "litologia_train_set = pd.DataFrame(y_train)\n",
    "\n",
    "for litologia in litologias:\n",
    "    qtde_litologia = len(litologia_train_set[litologia_train_set['Litologia'] == litologia])\n",
    "    print(f'{litologia}: {qtde_litologia} registros')\n"
   ]
  }
 ],
 "metadata": {
  "kernelspec": {
   "display_name": "Python 3",
   "language": "python",
   "name": "python3"
  },
  "language_info": {
   "codemirror_mode": {
    "name": "ipython",
    "version": 3
   },
   "file_extension": ".py",
   "mimetype": "text/x-python",
   "name": "python",
   "nbconvert_exporter": "python",
   "pygments_lexer": "ipython3",
   "version": "3.10.2"
  }
 },
 "nbformat": 4,
 "nbformat_minor": 2
}
