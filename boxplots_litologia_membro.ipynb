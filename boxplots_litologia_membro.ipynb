{
 "cells": [
  {
   "cell_type": "markdown",
   "metadata": {},
   "source": [
    "# Caracterização de eletrofáceis por meio de inteligência artificial com abordagem supervisionada\n",
    "## Boxplots das propriedades de litologias nos diferentes membros"
   ]
  },
  {
   "cell_type": "markdown",
   "metadata": {},
   "source": [
    "- **Nome do Arquivo**: boxplots_litologia_membro.ipynb\n",
    "- **Autor**: Rafael Takeguma Goto\n",
    "- **Versão**: 1.0\n",
    "- **Data de Criação**: 08/07/2024\n",
    "- **Data de Modificação**: 08/07/2024"
   ]
  },
  {
   "cell_type": "markdown",
   "metadata": {},
   "source": [
    "### Descrição: \n",
    "Este notebook contém o a etapa do trabalho referente à criação de boxplots das propriedades (curvas) das litologias em diferentes membros nos poços individuais."
   ]
  },
  {
   "cell_type": "markdown",
   "metadata": {},
   "source": [
    "### Leitura do conjunto de dados\n",
    "\n",
    "O conjunto de dados é constituído por arquivos csv gerados a partir da fusão da extração dos arquivos dlis com os arquivos agp de cada poço, seguida da aplicação dos filtros de constantes, nulos e perfis (DCAL e DRHO)."
   ]
  },
  {
   "cell_type": "code",
   "execution_count": 1,
   "metadata": {},
   "outputs": [],
   "source": [
    "import pandas as pd\n",
    "\n",
    "path_pocos_pre_transicao = 'Dados-filtrados-concatenados\\pocos_pre_transicao.csv'\n",
    "\n",
    "dados_concatenados_leitura = pd.read_csv(path_pocos_pre_transicao)\n",
    "\n",
    "dados_concatenados = pd.DataFrame(dados_concatenados_leitura)"
   ]
  },
  {
   "cell_type": "markdown",
   "metadata": {},
   "source": [
    "### Renomeação de abreviaturas\n",
    "As abreviaturas das unidades formação e membro devem ser renomeadas conforme especificado na [planilha](https://docs.google.com/spreadsheets/d/1PrwJxLCmAqMflmdiupWNOWd1XU3UXX0y/edit?usp=sharing&ouid=105655038426172501016&rtpof=true&sd=true) que Vandelli disponibilizou."
   ]
  },
  {
   "cell_type": "code",
   "execution_count": 2,
   "metadata": {},
   "outputs": [],
   "source": [
    "# renomeia abreviaturas das unidades formação\n",
    "dados_concatenados.loc[dados_concatenados['UnidadeF'] == 'COTING', 'UnidadeF'] = 'COT'\n",
    "dados_concatenados.loc[dados_concatenados['UnidadeF'] == 'SERRAR', 'UnidadeF'] = 'SER'\n",
    "dados_concatenados.loc[dados_concatenados['UnidadeF'] == 'BATING', 'UnidadeF'] = 'BAT'\n",
    "dados_concatenados.loc[dados_concatenados['UnidadeF'] == 'ARACAR', 'UnidadeF'] = 'ARA'\n",
    "dados_concatenados.loc[dados_concatenados['UnidadeF'] == 'PENEDO', 'UnidadeF'] = 'PDO'\n",
    "dados_concatenados.loc[dados_concatenados['UnidadeF'] == 'RIACHU', 'UnidadeF'] = 'RIA'\n",
    "dados_concatenados.loc[dados_concatenados['UnidadeF'] == 'BANANE', 'UnidadeF'] = 'BAN'\n",
    "dados_concatenados.loc[dados_concatenados['UnidadeF'] == 'MURIBE', 'UnidadeF'] = 'MUR'\n",
    "dados_concatenados.loc[dados_concatenados['UnidadeF'] == 'EMBASA', 'UnidadeF'] = 'EMB'\n",
    "\n",
    "# renomeia abreviaturas das unidades membro\n",
    "dados_concatenados.loc[dados_concatenados['UnidadeM'] == 'SAPUCA', 'UnidadeM'] = 'SAP'\n",
    "dados_concatenados.loc[dados_concatenados['UnidadeM'] == 'SERRAR', 'UnidadeM'] = 'SER'\n",
    "dados_concatenados.loc[dados_concatenados['UnidadeM'] == 'ARACAR', 'UnidadeM'] = 'ARA'\n",
    "dados_concatenados.loc[dados_concatenados['UnidadeM'] == 'BATING', 'UnidadeM'] = 'BAT'\n",
    "dados_concatenados.loc[dados_concatenados['UnidadeM'] == 'PENEDO', 'UnidadeM'] = 'PDO'\n",
    "dados_concatenados.loc[dados_concatenados['UnidadeM'] == 'BANANE', 'UnidadeM'] = 'BAN'\n",
    "dados_concatenados.loc[dados_concatenados['UnidadeM'] == 'EMBASA', 'UnidadeM'] = 'EMB'\n",
    "dados_concatenados.loc[dados_concatenados['UnidadeM'] == 'TAQUAR', 'UnidadeM'] = 'TQR'\n",
    "dados_concatenados.loc[dados_concatenados['UnidadeM'] == 'MARUIM', 'UnidadeM'] = 'MAR'\n",
    "dados_concatenados.loc[dados_concatenados['UnidadeM'] == 'ANGICO', 'UnidadeM'] = 'ANG'\n",
    "dados_concatenados.loc[dados_concatenados['UnidadeM'] == 'OITEIR', 'UnidadeM'] = 'OIT'\n",
    "dados_concatenados.loc[dados_concatenados['UnidadeM'] == 'IBURA', 'UnidadeM'] = 'IBU'\n",
    "dados_concatenados.loc[dados_concatenados['UnidadeM'] == 'CARMOP', 'UnidadeM'] = 'CPS'"
   ]
  },
  {
   "cell_type": "markdown",
   "metadata": {},
   "source": [
    "### Separar os dados concatenados em 11 dataframes"
   ]
  },
  {
   "cell_type": "code",
   "execution_count": 3,
   "metadata": {},
   "outputs": [],
   "source": [
    "# Identificar os nomes únicos dos poços\n",
    "nomes_pocos = dados_concatenados['Poço'].unique()\n",
    "\n",
    "# Criar o dicionário de dataframes\n",
    "dados = {poco: dados_concatenados[dados_concatenados['Poço'] == poco].reset_index(drop=True) for poco in nomes_pocos}"
   ]
  }
 ],
 "metadata": {
  "kernelspec": {
   "display_name": "Python 3",
   "language": "python",
   "name": "python3"
  },
  "language_info": {
   "codemirror_mode": {
    "name": "ipython",
    "version": 3
   },
   "file_extension": ".py",
   "mimetype": "text/x-python",
   "name": "python",
   "nbconvert_exporter": "python",
   "pygments_lexer": "ipython3",
   "version": "3.10.2"
  }
 },
 "nbformat": 4,
 "nbformat_minor": 2
}
