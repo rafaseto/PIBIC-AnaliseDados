{
 "cells": [
  {
   "cell_type": "markdown",
   "metadata": {},
   "source": [
    "# Caracterização de eletrofáceis por meio de inteligência artificial com abordagem supervisionada\n",
    "## Boxplots das propriedades de litologias nos diferentes membros"
   ]
  },
  {
   "cell_type": "markdown",
   "metadata": {},
   "source": [
    "- **Nome do Arquivo**: boxplots_litologia_membro.ipynb\n",
    "- **Autor**: Rafael Takeguma Goto\n",
    "- **Versão**: 1.0\n",
    "- **Data de Criação**: 08/07/2024\n",
    "- **Data de Modificação**: 08/07/2024"
   ]
  },
  {
   "cell_type": "markdown",
   "metadata": {},
   "source": [
    "### Descrição: \n",
    "Este notebook contém o a etapa do trabalho referente à criação de boxplots das propriedades (curvas) das litologias em diferentes membros nos poços individuais."
   ]
  },
  {
   "cell_type": "markdown",
   "metadata": {},
   "source": [
    "### Leitura do conjunto de dados\n",
    "\n",
    "O conjunto de dados é constituído por arquivos csv gerados a partir da fusão da extração dos arquivos dlis com os arquivos agp de cada poço."
   ]
  }
 ],
 "metadata": {
  "language_info": {
   "name": "python"
  }
 },
 "nbformat": 4,
 "nbformat_minor": 2
}
