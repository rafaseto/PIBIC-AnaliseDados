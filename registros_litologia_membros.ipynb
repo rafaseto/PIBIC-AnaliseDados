{
 "cells": [
  {
   "cell_type": "markdown",
   "metadata": {},
   "source": [
    "# Caracterização de eletrofáceis por meio de inteligência artificial com abordagem supervisionada\n",
    "## Análise dos registros de litologias nos diferentes membros"
   ]
  },
  {
   "cell_type": "markdown",
   "metadata": {},
   "source": [
    "- **Nome do Arquivo**: treinamento_modelo.ipynb\n",
    "- **Autor**: Rafael Takeguma Goto\n",
    "- **Versão**: 1.0\n",
    "- **Data de Criação**: 05/07/2024\n",
    "- **Data de Modificação**: 05/07/2024"
   ]
  },
  {
   "cell_type": "markdown",
   "metadata": {},
   "source": [
    "### Descrição: \n",
    "Este notebook contém o a etapa do trabalho referente à análise dos registros de litologias nas diferentes unidades Membro existentes."
   ]
  },
  {
   "cell_type": "markdown",
   "metadata": {},
   "source": [
    "### Leitura do conjunto de dados\n",
    "\n",
    "O conjunto de dados é constituído por arquivos csv gerados a partir da fusão da extração dos arquivos dlis com os arquivos agp de cada poço."
   ]
  },
  {
   "cell_type": "markdown",
   "metadata": {},
   "source": [
    "### Leitura do conjunto de dados\n",
    "\n",
    "O conjunto de dados é constituído por arquivos csv gerados a partir da fusão da extração dos arquivos dlis com os arquivos agp de cada poço."
   ]
  },
  {
   "cell_type": "code",
   "execution_count": 1,
   "metadata": {},
   "outputs": [],
   "source": [
    "import glob\n",
    "import pandas as pd\n",
    "\n",
    "leituras = []      # Armazena as leituras dos arquivos .csv\n",
    "nomes = []          # Armazena os nomes obtidos das leituras\n",
    "\n",
    "for file in glob.glob(r'**/Dados-filtrados' + \"/*.csv\", recursive=True):\n",
    "    try:\n",
    "        # Salva os dados da leitura\n",
    "        leitura = pd.read_csv(f'{file}')\n",
    "        leituras.append(leitura)\n",
    "\n",
    "        # Salva o nome do poço\n",
    "        nomes.append(file[23:26])\n",
    "    except:\n",
    "        print(file)"
   ]
  },
  {
   "cell_type": "code",
   "execution_count": 2,
   "metadata": {},
   "outputs": [],
   "source": [
    "# Casa itens da lista 'nomes' com os itens da lista 'leituras'\n",
    "pares = zip(nomes, leituras)\n",
    "\n",
    "# Cria dicionário 'dados'\n",
    "dados = dict(pares)"
   ]
  },
  {
   "cell_type": "markdown",
   "metadata": {},
   "source": [
    "### Litologias existentes\n",
    "\n",
    "O conjunto de dados é constituído por 12 diferentes tipos de litologias."
   ]
  },
  {
   "cell_type": "code",
   "execution_count": 3,
   "metadata": {},
   "outputs": [
    {
     "name": "stdout",
     "output_type": "stream",
     "text": [
      "FOLHELHO\n",
      "CALCILUTITO\n",
      "ARENITO\n",
      "ANIDRITA\n",
      "SILTITO\n",
      "CONGLOMERADO\n",
      "METAMORFICA NAO IDE\n",
      "CALCARENITO\n",
      "DOLOMITO\n",
      "GRANITO\n",
      "FILITO\n",
      "XISTO\n"
     ]
    }
   ],
   "source": [
    "# Faz leitura dos dados concatenados\n",
    "dados_concatenados_leitura = pd.read_csv('arquivos-secundarios\\pocos_filtrados.csv')\n",
    "\n",
    "# Cria um dataframe pandas para os dados concatenados\n",
    "dados_concatenados = pd.DataFrame(dados_concatenados_leitura)\n",
    "\n",
    "# armazena as diferentes litologias existentes na variável 'litologias'\n",
    "litologias = dados_concatenados['Litologia'].unique()\n",
    "\n",
    "# printa as diferentes litologias\n",
    "for litologia in litologias:\n",
    "    print(litologia)\n",
    "\n",
    "# atribui uma cor a cada litologia para usarmos no gráfico (tentei buscar cores semelhantes ao perfil composto)\n",
    "litologias_cores = {\n",
    "    'FOLHELHO': 'lime',\n",
    "    'CALCILUTITO': 'cyan',\n",
    "    'ARENITO': 'yellow',\n",
    "    'ANIDRITA': 'fuchsia',\n",
    "    'SILTITO': 'brown',\n",
    "    'CONGLOMERADO': 'gold',\n",
    "    'METAMORFICA NAO IDE': 'gray',\n",
    "    'CALCARENITO': 'royalblue',\n",
    "    'DOLOMITO': 'darkturquoise',\n",
    "    'GRANITO': 'red',\n",
    "    'FILITO': 'forestgreen',\n",
    "    'XISTO': 'salmon'\n",
    "}"
   ]
  },
  {
   "cell_type": "markdown",
   "metadata": {},
   "source": [
    "### Número de registros de cada poço"
   ]
  },
  {
   "cell_type": "code",
   "execution_count": 4,
   "metadata": {},
   "outputs": [],
   "source": [
    "registros = {}      # Dicionário para armazenar o número de registros de cada poço\n",
    "total = 0\n",
    "\n",
    "for key, poco in dados.items():\n",
    "    registros[key] = poco.shape[0]\n",
    "    total += poco.shape[0]"
   ]
  },
  {
   "cell_type": "markdown",
   "metadata": {},
   "source": [
    "### Renomear abreviaturas"
   ]
  },
  {
   "cell_type": "code",
   "execution_count": 5,
   "metadata": {},
   "outputs": [],
   "source": [
    "for key, value in dados.items():\n",
    "    # renomeia abreviaturas das unidades formação\n",
    "    value.loc[value['UnidadeF'] == 'COTING', 'UnidadeF'] = 'COT'\n",
    "    value.loc[value['UnidadeF'] == 'SERRAR', 'UnidadeF'] = 'SER'\n",
    "    value.loc[value['UnidadeF'] == 'BATING', 'UnidadeF'] = 'BAT'\n",
    "    value.loc[value['UnidadeF'] == 'ARACAR', 'UnidadeF'] = 'ARA'\n",
    "    value.loc[value['UnidadeF'] == 'PENEDO', 'UnidadeF'] = 'PDO'\n",
    "    value.loc[value['UnidadeF'] == 'RIACHU', 'UnidadeF'] = 'RIA'\n",
    "    value.loc[value['UnidadeF'] == 'BANANE', 'UnidadeF'] = 'BAN'\n",
    "    value.loc[value['UnidadeF'] == 'MURIBE', 'UnidadeF'] = 'MUR'\n",
    "    value.loc[value['UnidadeF'] == 'EMBASA', 'UnidadeF'] = 'EMB'\n",
    "\n",
    "    # renomeia abreviaturas das unidades membro\n",
    "    value.loc[value['UnidadeM'] == 'SAPUCA', 'UnidadeM'] = 'SAP'\n",
    "    value.loc[value['UnidadeM'] == 'SERRAR', 'UnidadeM'] = 'SER'\n",
    "    value.loc[value['UnidadeM'] == 'ARACAR', 'UnidadeM'] = 'ARA'\n",
    "    value.loc[value['UnidadeM'] == 'BATING', 'UnidadeM'] = 'BAT'\n",
    "    value.loc[value['UnidadeM'] == 'PENEDO', 'UnidadeM'] = 'PDO'\n",
    "    value.loc[value['UnidadeM'] == 'BANANE', 'UnidadeM'] = 'BAN'\n",
    "    value.loc[value['UnidadeM'] == 'EMBASA', 'UnidadeM'] = 'EMB'\n",
    "    value.loc[value['UnidadeM'] == 'TAQUAR', 'UnidadeM'] = 'TQR'\n",
    "    value.loc[value['UnidadeM'] == 'MARUIM', 'UnidadeM'] = 'MAR'\n",
    "    value.loc[value['UnidadeM'] == 'ANGICO', 'UnidadeM'] = 'ANG'\n",
    "    value.loc[value['UnidadeM'] == 'OITEIR', 'UnidadeM'] = 'OIT'\n",
    "    value.loc[value['UnidadeM'] == 'IBURA', 'UnidadeM'] = 'IBU'\n",
    "    value.loc[value['UnidadeM'] == 'CARMOP', 'UnidadeM'] = 'CPS'"
   ]
  },
  {
   "cell_type": "markdown",
   "metadata": {},
   "source": [
    "### Função para criar gráfico de barra horizonatal"
   ]
  },
  {
   "cell_type": "code",
   "execution_count": 6,
   "metadata": {},
   "outputs": [],
   "source": [
    "import matplotlib.pyplot as plt\n",
    "\n",
    "def criar_grafico_barra_horizontal(ax, x, y, titulo, subtitulo, rotulo_x, rotulo_y, cor):\n",
    "    \"\"\"\n",
    "    Cria um gráfico de barras horizontal.\n",
    "\n",
    "    Parâmetros:\n",
    "    - ax: objeto Axes onde o gráfico será desenhado.\n",
    "    - x: valores no eixo x (largura das barras).\n",
    "    - y: valores no eixo y (posição das barras).\n",
    "    - titulo: título do gráfico.\n",
    "    - subtitulo: subtítulo do gráfico (pode ser None).\n",
    "    - rotulo_x: rótulo do eixo x.\n",
    "    - rotulo_y: rótulo do eixo y.\n",
    "    - cor: cor das barras.\n",
    "    - figsize: tamanho da figura (largura, altura), padrão (8, 5).\n",
    "    \"\"\"\n",
    "    \n",
    "    ax.barh(y, x, edgecolor='black', color=cor, zorder=2)\n",
    "\n",
    "    # Muda a cor dos eixos\n",
    "    for spine in ['top', 'bottom', 'left', 'right']:\n",
    "        ax.spines[spine].set_color('gray')       \n",
    "\n",
    "    # Remove os tracinhos dos eixos\n",
    "    ax.tick_params(axis='x', which='both', bottom=False, top=False)  \n",
    "    ax.tick_params(axis='y', which='both', left=False, right=False)  \n",
    "\n",
    "    # Adiciona um grid\n",
    "    ax.grid(True, axis='x', zorder=0)\n",
    "\n",
    "    # Título do gráfico\n",
    "    plt.suptitle(titulo, fontsize=14, fontweight='bold')\n",
    "\n",
    "    # Subtítulo do gráfico\n",
    "    if subtitulo:\n",
    "        ax.set_title(subtitulo, fontsize=10)\n",
    "\n",
    "    # Rótulos x e y\n",
    "    ax.set_xlabel(rotulo_x, fontweight='bold')\n",
    "    ax.set_ylabel(rotulo_y, fontweight='bold')"
   ]
  },
  {
   "cell_type": "markdown",
   "metadata": {},
   "source": [
    "### Número de registros por membro"
   ]
  },
  {
   "cell_type": "code",
   "execution_count": 7,
   "metadata": {},
   "outputs": [],
   "source": [
    "# Função para contar todas as combinações existentes na hierarquia de formação e membro\n",
    "def count_all_combinations(df, formacao, membro):\n",
    "    combinations = df.groupby([formacao, membro]).size()\n",
    "    combinations_dict = {f\"{a}_{b}\": count for (a, b), count in combinations.items()}\n",
    "    return combinations_dict"
   ]
  },
  {
   "cell_type": "markdown",
   "metadata": {},
   "source": [
    "### Número de registros Litologia x Membro"
   ]
  },
  {
   "cell_type": "code",
   "execution_count": 8,
   "metadata": {},
   "outputs": [],
   "source": [
    "# Função para contar todas as combinações existentes da hierarquia Formação_Membro com uma litologia específica\n",
    "def count_combinations_litologia(df, litologia):\n",
    "    filtered_df = df[df['Litologia'] == litologia]\n",
    "    combinations = filtered_df.groupby([\"UnidadeF\", \"UnidadeM\"]).size()\n",
    "    combinations_dict = {f\"{a}_{b}\": count for (a, b), count in combinations.items()}\n",
    "    return combinations_dict"
   ]
  },
  {
   "cell_type": "code",
   "execution_count": 9,
   "metadata": {},
   "outputs": [],
   "source": [
    "# Função para contar todas as combinações existentes da hierarquia Formação_Membro com uma litologia específica em todo o dicionário 'dados'\n",
    "def count_all_combinations_litologia(df_dict, litologia):\n",
    "    total_combinations = {}\n",
    "    \n",
    "    for df in df_dict.values():\n",
    "        filtered_df = df[df['Litologia'] == litologia] \n",
    "        combinations = filtered_df.groupby([\"UnidadeF\", \"UnidadeM\"]).size()\n",
    "        for (a, b), count in combinations.items():\n",
    "            key = f\"{a}_{b}\"\n",
    "            if key in total_combinations:\n",
    "                total_combinations[key] += count\n",
    "            else:\n",
    "                total_combinations[key] = count\n",
    "    \n",
    "    return total_combinations"
   ]
  },
  {
   "cell_type": "code",
   "execution_count": 10,
   "metadata": {},
   "outputs": [],
   "source": [
    "def criar_grafico_registros_litologia_membro(poco, litologia, cor):\n",
    "    countsFM = count_combinations_litologia(dados[poco], litologia)\n",
    "\n",
    "    formacoes = list(countsFM.keys())\n",
    "    registros = list(countsFM.values())\n",
    "\n",
    "    titulo = f\"Número de Registros de {litologia} por Membro ({poco})\"\n",
    "    rotulo_X = f\"Número de Registros de {litologia}\"\n",
    "    \n",
    "    fig, ax = plt.subplots(figsize=(8,5))\n",
    "    criar_grafico_barra_horizontal(ax, registros, formacoes, titulo, \"\", rotulo_X, \"Membro\", cor)\n",
    "\n",
    "    return fig"
   ]
  },
  {
   "cell_type": "code",
   "execution_count": 11,
   "metadata": {},
   "outputs": [],
   "source": [
    "def criar_grafico_todos_registros_litologia_membro(df_dict, litologia, cor):\n",
    "    countsFM = count_all_combinations_litologia(df_dict, litologia)\n",
    "\n",
    "    formacoes = list(countsFM.keys())\n",
    "    registros = list(countsFM.values())\n",
    "\n",
    "    titulo = f\"Registros de {litologia} por Membro (Todos os Poços)\"\n",
    "    rotulo_X = f\"Número de Registros de {litologia}\"\n",
    "\n",
    "    fig, ax = plt.subplots(figsize=(8,5))\n",
    "    criar_grafico_barra_horizontal(ax, registros, formacoes, titulo, \"\", rotulo_X, \"Membro\", cor)\n",
    "    \n",
    "    return fig"
   ]
  },
  {
   "cell_type": "code",
   "execution_count": 12,
   "metadata": {},
   "outputs": [],
   "source": [
    "import os\n",
    "from matplotlib.backends.backend_pdf import PdfPages\n",
    "import matplotlib.pyplot as plt\n",
    "\n",
    "# Caminho da pasta onde os arquivos PDF serão armazenados\n",
    "output_folder = 'Litologias-membro-poco/'\n",
    "os.makedirs(output_folder, exist_ok=True)\n",
    "\n",
    "for key, value in litologias_cores.items():\n",
    "    # Define o nome do arquivo PDF para a litologia atual\n",
    "    pdf_filename = os.path.join(output_folder, f'{key}.pdf')\n",
    "    \n",
    "    with PdfPages(pdf_filename) as pdf:\n",
    "        # Cria o gráfico para a combinação atual de 'key', 'value'\n",
    "        fig_1 = criar_grafico_todos_registros_litologia_membro(dados, key, value)\n",
    "        pdf.savefig(fig_1) # Salva o gráfico no arquivo PDF\n",
    "        plt.close(fig_1)\n",
    "        for poco in dados.keys():\n",
    "            # Cria o gráfico para a combinação atual de 'poco' e 'key'\n",
    "            fig = criar_grafico_registros_litologia_membro(poco, key, value)\n",
    "            pdf.savefig(fig)  # Salva o gráfico no arquivo PDF\n",
    "            plt.close(fig)  "
   ]
  }
 ],
 "metadata": {
  "kernelspec": {
   "display_name": "Python 3",
   "language": "python",
   "name": "python3"
  },
  "language_info": {
   "codemirror_mode": {
    "name": "ipython",
    "version": 3
   },
   "file_extension": ".py",
   "mimetype": "text/x-python",
   "name": "python",
   "nbconvert_exporter": "python",
   "pygments_lexer": "ipython3",
   "version": "3.10.2"
  }
 },
 "nbformat": 4,
 "nbformat_minor": 2
}
