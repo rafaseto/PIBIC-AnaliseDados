{
 "cells": [
  {
   "cell_type": "markdown",
   "metadata": {},
   "source": [
    "## Importa funções para o pré-processamento"
   ]
  },
  {
   "cell_type": "code",
   "execution_count": 1,
   "metadata": {},
   "outputs": [],
   "source": [
    "from pre_processamento import *\n",
    "\n",
    "from dlisio import dlis\n",
    "import pandas as pd\n",
    "import numpy as np\n",
    "\n",
    "# A função 'glob' do módulo 'glob' é usada para procurar todos os arquivos em um diretório com determinada extensão\n",
    "import glob"
   ]
  },
  {
   "cell_type": "markdown",
   "metadata": {},
   "source": [
    "## Carrega os dados"
   ]
  },
  {
   "cell_type": "code",
   "execution_count": 2,
   "metadata": {},
   "outputs": [],
   "source": [
    "nomes_arquivos = []     # Armazena os nomes dos arquivos .dlis\n",
    "leituras_dlis = []      # Armazena as leituras dos arquivos .dlis\n",
    "nomes_anp = []          # Armazena os nomes obtidos das leituras\n",
    "\n",
    "for file in glob.glob(r'**/Data' + \"/*.dlis\", recursive=True):\n",
    "    # Salva o nome do arquivo\n",
    "    nomes_arquivos.append(file)\n",
    "\n",
    "    # Salva os dados da leitura\n",
    "    leitura, *tail = dlis.load(f'{file}')\n",
    "    leituras_dlis.append(leitura)\n",
    "\n",
    "    # Salva o nome do poço\n",
    "    nome = leitura.origins[0].well_name\n",
    "    nomes_anp.append(nome)"
   ]
  },
  {
   "cell_type": "code",
   "execution_count": 3,
   "metadata": {},
   "outputs": [
    {
     "name": "stdout",
     "output_type": "stream",
     "text": [
      "['Data\\\\1-brsa-551-se_brsa_raw.dlis', 'Data\\\\1-brsa-574-se_brsa_raw.dlis', 'Data\\\\1-brsa-595-se_brsa_raw-1.dlis', 'Data\\\\1-brsa-605-se_brsa_raw.dlis', 'Data\\\\1-brsa-659-se_brsa_raw.dlis', 'Data\\\\3-CP-1847-SE.dlis', 'Data\\\\3-CP-1848-SE.dlis', 'Data\\\\3-CP-1851-SE.dlis', 'Data\\\\3-CP-1853-SE.dlis', 'Data\\\\3-CP-1855-SE.dlis', 'Data\\\\3-CP-1857-SE.dlis']\n",
      "['1-FSG-1-SE', '1-FSJQ-1-SE', '1-BRSA-595-SE', '1-BRSA-605-SE', '1-BRSA-659-SE', '3-BRSA-900-SE', '3-BRSA-889-SE', '3-BRSA-912-SE', '3-BRSA-897-SE', '3-BRSA-910-SE', '3-BRSA-907-SE']\n"
     ]
    }
   ],
   "source": [
    "print(nomes_arquivos)\n",
    "print(nomes_anp)"
   ]
  },
  {
   "cell_type": "markdown",
   "metadata": {},
   "source": [
    "## Padroniza nomes fora do padão 'X-BRSA-XXX-SE'"
   ]
  },
  {
   "cell_type": "code",
   "execution_count": 4,
   "metadata": {},
   "outputs": [],
   "source": [
    "nomes_anp[0] = '1-BRSA-551-SE'\n",
    "nomes_anp[1] = '1-BRSA-574-SE'"
   ]
  },
  {
   "cell_type": "code",
   "execution_count": 5,
   "metadata": {},
   "outputs": [
    {
     "data": {
      "text/plain": [
       "['1-BRSA-551-SE',\n",
       " '1-BRSA-574-SE',\n",
       " '1-BRSA-595-SE',\n",
       " '1-BRSA-605-SE',\n",
       " '1-BRSA-659-SE',\n",
       " '3-BRSA-900-SE',\n",
       " '3-BRSA-889-SE',\n",
       " '3-BRSA-912-SE',\n",
       " '3-BRSA-897-SE',\n",
       " '3-BRSA-910-SE',\n",
       " '3-BRSA-907-SE']"
      ]
     },
     "execution_count": 5,
     "metadata": {},
     "output_type": "execute_result"
    }
   ],
   "source": [
    "nomes_anp"
   ]
  },
  {
   "cell_type": "markdown",
   "metadata": {},
   "source": [
    "## Cria dicionário para armazenar os dados e respectivos nomes"
   ]
  },
  {
   "cell_type": "code",
   "execution_count": 7,
   "metadata": {},
   "outputs": [
    {
     "data": {
      "text/plain": [
       "{'1-BRSA-551-SE': LogicalFile(AIT_SONIC_TLD_MCFL_018PUP),\n",
       " '1-BRSA-574-SE': LogicalFile(GEOLOAD.1),\n",
       " '1-BRSA-595-SE': LogicalFile(GEOLOAD.1),\n",
       " '1-BRSA-605-SE': LogicalFile(AIT_SONIC_TLD_MCFL_048PUC),\n",
       " '1-BRSA-659-SE': LogicalFile(GEOLOAD.1),\n",
       " '3-BRSA-900-SE': LogicalFile(GEOLOAD.1),\n",
       " '3-BRSA-889-SE': LogicalFile(GEOLOAD.1),\n",
       " '3-BRSA-912-SE': LogicalFile(GEOLOAD.1),\n",
       " '3-BRSA-897-SE': LogicalFile(GEOLOAD.1),\n",
       " '3-BRSA-910-SE': LogicalFile(GEOLOAD.1),\n",
       " '3-BRSA-907-SE': LogicalFile(GEOLOAD.1)}"
      ]
     },
     "execution_count": 7,
     "metadata": {},
     "output_type": "execute_result"
    }
   ],
   "source": [
    "# Casa itens da lista 'nome_anp_abreviados' com os itens da lista 'leituras_dlis'\n",
    "pares = zip(nomes_anp, leituras_dlis)\n",
    "\n",
    "# Cria dicionário 'dli_dict'\n",
    "dli_dict = dict(pares)\n",
    "dli_dict"
   ]
  },
  {
   "cell_type": "markdown",
   "metadata": {},
   "source": [
    "## Separa TODAS as curvas presentes nos .dlis de cada poço"
   ]
  },
  {
   "cell_type": "code",
   "execution_count": 8,
   "metadata": {},
   "outputs": [],
   "source": [
    "channels_dict = {}\n",
    "\n",
    "for key, poco in dli_dict.items():\n",
    "    channels_list = []\n",
    "    for frame in poco.frames:\n",
    "        channels = frame.channels\n",
    "        channels_list.append([channel.name for channel in channels])\n",
    "    channels_dict[key] = sum(channels_list, [])"
   ]
  },
  {
   "cell_type": "markdown",
   "metadata": {},
   "source": [
    "## Salva as curvas presentes nos .dlis em arquivos CSV"
   ]
  },
  {
   "cell_type": "code",
   "execution_count": 9,
   "metadata": {},
   "outputs": [
    {
     "name": "stdout",
     "output_type": "stream",
     "text": [
      "Arquivo Curvas_CSV/curvas_1-BRSA-551-SE.csv criado com sucesso\n",
      "Arquivo Curvas_CSV/curvas_1-BRSA-574-SE.csv criado com sucesso\n",
      "Arquivo Curvas_CSV/curvas_1-BRSA-595-SE.csv criado com sucesso\n",
      "Arquivo Curvas_CSV/curvas_1-BRSA-605-SE.csv criado com sucesso\n",
      "Arquivo Curvas_CSV/curvas_1-BRSA-659-SE.csv criado com sucesso\n",
      "Arquivo Curvas_CSV/curvas_3-BRSA-900-SE.csv criado com sucesso\n",
      "Arquivo Curvas_CSV/curvas_3-BRSA-889-SE.csv criado com sucesso\n",
      "Arquivo Curvas_CSV/curvas_3-BRSA-912-SE.csv criado com sucesso\n",
      "Arquivo Curvas_CSV/curvas_3-BRSA-897-SE.csv criado com sucesso\n",
      "Arquivo Curvas_CSV/curvas_3-BRSA-910-SE.csv criado com sucesso\n",
      "Arquivo Curvas_CSV/curvas_3-BRSA-907-SE.csv criado com sucesso\n"
     ]
    }
   ],
   "source": [
    "import csv\n",
    "\n",
    "for key, value in channels_dict.items():\n",
    "    file_name = f\"Curvas_CSV/curvas_{key}.csv\"\n",
    "    with open(file_name, 'w', newline='') as csvfile:\n",
    "        writer = csv.writer(csvfile)\n",
    "        writer.writerow([\"Curva\", \"Poco\"])\n",
    "        for item in value:\n",
    "            writer.writerow([item, f'{key}'])\n",
    "\n",
    "    print(f\"Arquivo {file_name} criado com sucesso\")"
   ]
  },
  {
   "cell_type": "markdown",
   "metadata": {},
   "source": [
    "## Concatena os arquivos CSV das curvas em um único arquivo"
   ]
  },
  {
   "cell_type": "code",
   "execution_count": 10,
   "metadata": {},
   "outputs": [
    {
     "name": "stdout",
     "output_type": "stream",
     "text": [
      "Arquivo curvas_pocos.csv criado com sucesso\n"
     ]
    }
   ],
   "source": [
    "import os\n",
    "\n",
    "pasta = \"Curvas_CSV\"\n",
    "\n",
    "# Lista para armazenar os dataframes repectivos aos .csv\n",
    "df_list = []\n",
    "\n",
    "# Itera sobre a pasta Curvas_CSV\n",
    "for arquivo in os.listdir(pasta):\n",
    "    file_path = os.path.join(pasta, arquivo)\n",
    "\n",
    "    # Lê o arquivo CSV como um DF\n",
    "    df = pd.read_csv(file_path)\n",
    "    df_list.append(df)\n",
    "\n",
    "# Concatena os DFs ao longo do eixo das colunas\n",
    "df_concat = pd.concat(df_list, axis=0, ignore_index=True)\n",
    "\n",
    "# Salva o DF concatenado em um .csv\n",
    "df_concat.to_csv(\"curvas_pocos.csv\", index=False)\n",
    "\n",
    "print(\"Arquivo curvas_pocos.csv criado com sucesso\")"
   ]
  },
  {
   "cell_type": "markdown",
   "metadata": {},
   "source": [
    "## Cria dataframes para os poços"
   ]
  },
  {
   "cell_type": "markdown",
   "metadata": {},
   "source": [
    "Alguns poços possuem mais de um 'frame'.\n",
    "\n",
    "Irei criar um 'dataframe' para cada um desses 'frames'.\n",
    "\n",
    "Irei fazer um 'JOIN' usando a coluna 'TDEP'."
   ]
  },
  {
   "cell_type": "markdown",
   "metadata": {},
   "source": [
    "### Teste 1"
   ]
  },
  {
   "cell_type": "code",
   "execution_count": 59,
   "metadata": {},
   "outputs": [],
   "source": [
    "# Iniciando o teste com um poço apenas\n",
    "poco = dli_dict['1-BRSA-605-SE']\n",
    "\n",
    "# Dicionário para armazenar os dataframes dos frames do poço 605\n",
    "dataframes_605 = {}\n",
    "\n",
    "# Iterando sobre os frames do poço\n",
    "for frame in poco.frames:\n",
    "    # indice do frame\n",
    "    indice = poco.frames.index(frame)\n",
    "    \n",
    "    # obtendo os valores das curvas\n",
    "    curvas = frame.curves()\n",
    "\n",
    "    dataframes_605[indice] = pd.DataFrame(columns=curvas)\n"
   ]
  },
  {
   "cell_type": "code",
   "execution_count": 60,
   "metadata": {},
   "outputs": [
    {
     "data": {
      "text/html": [
       "<div>\n",
       "<style scoped>\n",
       "    .dataframe tbody tr th:only-of-type {\n",
       "        vertical-align: middle;\n",
       "    }\n",
       "\n",
       "    .dataframe tbody tr th {\n",
       "        vertical-align: top;\n",
       "    }\n",
       "\n",
       "    .dataframe thead th {\n",
       "        text-align: right;\n",
       "    }\n",
       "</style>\n",
       "<table border=\"1\" class=\"dataframe\">\n",
       "  <thead>\n",
       "    <tr style=\"text-align: right;\">\n",
       "      <th></th>\n",
       "      <th>(1, 264240.0, 8.5, 2009.0, 135.375, 47.26148986816406, 0.26395753026008606, 0.0, 0.0, 0.0, 82.79398345947266)</th>\n",
       "      <th>(2, 264180.0, 8.5, 1731.0, 136.3125, 47.26148986816406, 0.26395753026008606, 2184.0, 0.0, 0.0, 82.79398345947266)</th>\n",
       "      <th>(3, 264120.0, 8.5, 1811.0, 135.75, 47.26148986816406, 0.26395753026008606, 1879.0, 0.0, 0.0, 82.79398345947266)</th>\n",
       "      <th>(4, 264060.0, 8.5, 1776.0, 136.25, 47.26148986816406, 0.26395753026008606, 1297.5, 0.0, 0.0, 82.79398345947266)</th>\n",
       "      <th>(5, 264000.0, 8.5, 1871.0, 135.375, 47.26148986816406, 0.26395753026008606, 1131.0, 0.0, 0.0, 82.79398345947266)</th>\n",
       "      <th>(6, 263940.0, 8.5, 1896.0, 134.9375, 47.26148986816406, 0.26395753026008606, 1095.0, 0.0, 0.0, 82.79398345947266)</th>\n",
       "      <th>(7, 263880.0, 8.5, 1979.0, 136.3125, 47.26148986816406, 0.26395753026008606, 1023.5, 0.0, 0.0, 82.79398345947266)</th>\n",
       "      <th>(8, 263820.0, 8.5, 2042.0, 135.3125, 47.26148986816406, 0.26395753026008606, 941.0, 0.0, 0.0, 82.79398345947266)</th>\n",
       "      <th>(9, 263760.0, 8.5, 1834.0, 135.4375, 47.26148986816406, 0.26395753026008606, 824.5, 0.0, 0.0, 82.79398345947266)</th>\n",
       "      <th>(10, 263700.0, 8.5, 1794.0, 135.4375, 47.26148986816406, 0.26395753026008606, 803.0, 0.0, 0.0, 82.79398345947266)</th>\n",
       "      <th>...</th>\n",
       "      <th>(4231, 10440.0, 8.5, 1132.0, 204.5, 62.600650787353516, 0.5468772053718567, 823.5, 16.10105323791504, 5.987124443054199, 60.0)</th>\n",
       "      <th>(4232, 10380.0, 8.5, 1117.0, 204.5, 64.2231674194336, 0.5584238767623901, 824.5, 16.10105323791504, 5.987124443054199, 60.0)</th>\n",
       "      <th>(4233, 10320.0, 8.5, 1127.0, 204.125, 63.33281326293945, 0.5747538805007935, 805.5, 16.10105323791504, 5.987124443054199, 60.0)</th>\n",
       "      <th>(4234, 10260.0, 8.5, 1118.0, 204.4375, 63.19962692260742, 0.5424395203590393, 804.0, 16.10105323791504, 5.987124443054199, 60.0)</th>\n",
       "      <th>(4235, 10200.0, 8.5, 1129.0, 204.125, 59.82231521606445, 0.4838324189186096, 813.5, 16.10105323791504, 5.987124443054199, 60.0)</th>\n",
       "      <th>(4236, 10140.0, 8.5, 1128.0, 204.375, 59.68840026855469, 0.4633655846118927, 808.5, 16.10105323791504, 5.987124443054199, 60.0)</th>\n",
       "      <th>(4237, 10080.0, 8.5, 1136.0, 204.5625, 59.50723648071289, 0.4595179557800293, 825.5, 16.10105323791504, 5.987124443054199, 60.0)</th>\n",
       "      <th>(4238, 10020.0, 8.5, 1149.0, 204.1875, 59.372772216796875, 0.4608493149280548, 810.5, 16.10105323791504, 5.987124443054199, 60.0)</th>\n",
       "      <th>(4239, 9960.0, 8.5, 1162.0, 204.875, 60.82278060913086, 0.48407942056655884, 824.5, 16.10105323791504, 5.987124443054199, 60.0)</th>\n",
       "      <th>(4240, 9900.0, 8.5, 1181.0, 204.875, 60.82278060913086, 0.48407942056655884, 808.5, 16.10105323791504, 5.987124443054199, 60.0)</th>\n",
       "    </tr>\n",
       "  </thead>\n",
       "  <tbody>\n",
       "  </tbody>\n",
       "</table>\n",
       "<p>0 rows × 4240 columns</p>\n",
       "</div>"
      ],
      "text/plain": [
       "Empty DataFrame\n",
       "Columns: [(1, 264240.0, 8.5, 2009.0, 135.375, 47.26148986816406, 0.26395753026008606, 0.0, 0.0, 0.0, 82.79398345947266), (2, 264180.0, 8.5, 1731.0, 136.3125, 47.26148986816406, 0.26395753026008606, 2184.0, 0.0, 0.0, 82.79398345947266), (3, 264120.0, 8.5, 1811.0, 135.75, 47.26148986816406, 0.26395753026008606, 1879.0, 0.0, 0.0, 82.79398345947266), (4, 264060.0, 8.5, 1776.0, 136.25, 47.26148986816406, 0.26395753026008606, 1297.5, 0.0, 0.0, 82.79398345947266), (5, 264000.0, 8.5, 1871.0, 135.375, 47.26148986816406, 0.26395753026008606, 1131.0, 0.0, 0.0, 82.79398345947266), (6, 263940.0, 8.5, 1896.0, 134.9375, 47.26148986816406, 0.26395753026008606, 1095.0, 0.0, 0.0, 82.79398345947266), (7, 263880.0, 8.5, 1979.0, 136.3125, 47.26148986816406, 0.26395753026008606, 1023.5, 0.0, 0.0, 82.79398345947266), (8, 263820.0, 8.5, 2042.0, 135.3125, 47.26148986816406, 0.26395753026008606, 941.0, 0.0, 0.0, 82.79398345947266), (9, 263760.0, 8.5, 1834.0, 135.4375, 47.26148986816406, 0.26395753026008606, 824.5, 0.0, 0.0, 82.79398345947266), (10, 263700.0, 8.5, 1794.0, 135.4375, 47.26148986816406, 0.26395753026008606, 803.0, 0.0, 0.0, 82.79398345947266), (11, 263640.0, 8.5, 1703.0, 135.3125, 47.26148986816406, 0.26395753026008606, 755.25, 0.0, 0.0, 82.79398345947266), (12, 263580.0, 8.5, 1735.0, 135.375, 47.26148986816406, 0.26395753026008606, 767.75, 0.0, 0.0, 82.79398345947266), (13, 263520.0, 8.5, 1746.0, 135.375, 47.26148986816406, 0.26395753026008606, 735.0, 0.0, 0.0, 82.79398345947266), (14, 263460.0, 8.5, 1614.0, 135.1875, 47.26148986816406, 0.26395753026008606, 704.0, 0.0, 0.0, 82.79398345947266), (15, 263400.0, 8.5, 1677.0, 135.6875, 47.26148986816406, 0.26395753026008606, 674.5, 0.0, 0.0, 82.79398345947266), (16, 263340.0, 8.5, 1711.0, 135.25, 47.26148986816406, 0.26395753026008606, 663.5, 0.001166766625829041, -0.0026169675402343273, 82.79398345947266), (17, 263280.0, 8.5, 1672.0, 134.9375, 47.26148986816406, 0.26395753026008606, 634.5, 0.002333533251658082, -0.005233935080468655, 82.79398345947266), (18, 263220.0, 8.5, 1668.0, 135.5625, 47.26148986816406, 0.26395753026008606, 624.0, 0.003500299993902445, -0.00785090308636427, 82.79398345947266), (19, 263160.0, 8.5, 1720.0, 135.375, 47.26148986816406, 0.26395753026008606, 619.5, 0.004667066503316164, -0.01046787016093731, 82.79398345947266), (20, 263100.0, 8.5, 1712.0, 135.375, 47.26148986816406, 0.26395753026008606, 610.0, 0.0058338334783911705, -0.01308483723551035, 82.79398345947266), (21, 263040.0, 8.5, 1705.0, 135.3125, 47.26148986816406, 0.26395753026008606, 572.0, 0.00700059998780489, -0.01570180617272854, 82.79398345947266), (22, 262980.0, 8.5, 1715.0, 135.0625, 47.26148986816406, 0.26395753026008606, 600.5, 0.008167366497218609, -0.018318774178624153, 82.79398345947266), (23, 262920.0, 8.5, 1682.0, 135.3125, 47.26148986816406, 0.26395753026008606, 577.25, 0.009334133006632328, -0.020935742184519768, 82.79398345947266), (24, 262860.0, 8.5, 1654.0, 135.875, 47.26148986816406, 0.26395753026008606, 564.0, 0.010500899516046047, -0.023552710190415382, 82.79398345947266), (25, 262800.0, 8.5, 1685.0, 135.5625, 47.26148986816406, 0.26395753026008606, 552.75, 0.011667666956782341, -0.026169678196310997, 82.79398345947266), (26, 262740.0, 8.5, 1693.0, 135.5625, 47.26148986816406, 0.26395753026008606, 560.0, 0.01283443346619606, -0.02878664620220661, 82.79398345947266), (27, 262680.0, 8.5, 1687.0, 136.0, 47.26148986816406, 0.26395753026008606, 535.5, 0.01400119997560978, -0.031403616070747375, 82.79398345947266), (28, 262620.0, 8.5, 1666.0, 136.0, 47.26148986816406, 0.26395753026008606, 549.0, 0.015167966485023499, -0.03402058407664299, 82.79398345947266), (29, 262560.0, 8.5, 1688.0, 136.4375, 47.26148986816406, 0.26395753026008606, 512.5, 0.016334732994437218, -0.036637552082538605, 82.79398345947266), (30, 262500.0, 8.5, 1715.0, 136.4375, 47.26148986816406, 0.26395753026008606, 524.75, 0.017501499503850937, -0.03925452008843422, 82.79398345947266), (31, 262440.0, 8.5, 1681.0, 137.75, 47.26148986816406, 0.26395753026008606, 519.25, 0.018668266013264656, -0.041871488094329834, 82.79398345947266), (32, 262380.0, 8.5, 1673.0, 138.8125, 47.26148986816406, 0.26395753026008606, 532.5, 0.019835032522678375, -0.04448845610022545, 82.79398345947266), (33, 262320.0, 8.5, 1655.0, 138.75, 47.26148986816406, 0.26395753026008606, 522.0, 0.021001799032092094, -0.04710542410612106, 82.79398345947266), (34, 262260.0, 8.5, 1663.0, 138.125, 47.26148986816406, 0.26395753026008606, 518.5, 0.022168567404150963, -0.04972239211201668, 82.79398345947266), (35, 262200.0, 8.5, 1685.0, 136.75, 47.26148986816406, 0.26395753026008606, 519.5, 0.023335333913564682, -0.05233936011791229, 82.79398345947266), (36, 262140.0, 8.5, 1684.0, 135.875, 47.26148986816406, 0.26395753026008606, 527.5, 0.0245021004229784, -0.05495632812380791, 82.79398345947266), (37, 262080.0, 8.5, 1697.0, 135.4375, 47.26148986816406, 0.26395753026008606, 528.0, 0.02566886693239212, -0.05757329240441322, 82.79398345947266), (38, 262020.0, 8.5, 1639.0, 135.875, 47.26148986816406, 0.26395753026008606, 514.5, 0.02683563344180584, -0.06019025668501854, 83.00997924804688), (39, 261960.0, 8.5, 1623.0, 136.0625, 47.26148986816406, 0.26395753026008606, 514.0, 0.02800239995121956, -0.06280722469091415, 82.52178192138672), (40, 261900.0, 8.5, 1676.0, 136.0, 47.26148986816406, 0.26395753026008606, 506.5, 0.029169166460633278, -0.06542418897151947, 81.99078369140625), (41, 261840.0, 8.5, 1765.0, 135.0625, 47.26148986816406, 0.26395753026008606, 500.0, 0.030335932970046997, -0.06804115325212479, 81.7874984741211), (42, 261780.0, 8.5, 1712.0, 135.25, 47.26148986816406, 0.26395753026008606, 506.5, 0.031502701342105865, -0.0706581175327301, 81.61672973632812), (43, 261720.0, 8.5, 1690.0, 136.0625, 47.26148986816406, 0.26395753026008606, 513.5, 0.032669465988874435, -0.07327508181333542, 81.65242767333984), (44, 261660.0, 8.5, 1666.0, 135.375, 47.26148986816406, 0.26395753026008606, 494.5, 0.033836234360933304, -0.07589204609394073, 81.90928649902344), (45, 261600.0, 8.5, 1707.0, 135.375, 47.26148986816406, 0.26395753026008606, 501.25, 0.035002999007701874, -0.07850901037454605, 83.18089294433594), (46, 261540.0, 8.5, 1727.0, 134.6875, 47.26148986816406, 0.26395753026008606, 497.75, 0.03616976737976074, -0.08112597465515137, 85.40005493164062), (47, 261480.0, 8.5, 1697.0, 135.1875, 47.26148986816406, 0.26395753026008606, 477.25, 0.03733653202652931, -0.08374293893575668, 87.10980224609375), (48, 261420.0, 8.5, 1665.0, 135.1875, 47.26148986816406, 0.26395753026008606, 505.5, 0.03850330039858818, -0.086359903216362, 93.18437194824219), (49, 261360.0, 8.5, 1668.0, 135.4375, 47.26148986816406, 0.26395753026008606, 502.25, 0.03967006504535675, -0.08897686749696732, 92.75927734375), (50, 261300.0, 8.5, 1727.0, 135.0, 47.26148986816406, 0.26395753026008606, 500.25, 0.04083683341741562, -0.09159383922815323, 93.9876480102539), (51, 261240.0, 8.5, 1704.0, 135.25, 47.26148986816406, 0.26395753026008606, 497.25, 0.04200359806418419, -0.09421080350875854, 95.37108612060547), (52, 261180.0, 8.5, 1674.0, 134.9375, 47.26148986816406, 0.26395753026008606, 517.5, 0.04317036643624306, -0.09682776778936386, 91.88298797607422), (53, 261120.0, 8.5, 1764.0, 135.375, 47.26148986816406, 0.26395753026008606, 498.0, 0.044337134808301926, -0.09944473206996918, 89.69271087646484), (54, 261060.0, 8.5, 1758.0, 135.9375, 47.26148986816406, 0.26395753026008606, 507.25, 0.045503899455070496, -0.1020616963505745, 85.15349578857422), (55, 261000.0, 8.5, 1695.0, 134.1875, 47.26148986816406, 0.26395753026008606, 491.75, 0.046670667827129364, -0.10467866063117981, 86.16976165771484), (56, 260940.0, 8.5, 1647.0, 135.9375, 47.26148986816406, 0.26395753026008606, 505.0, 0.047837432473897934, -0.10729562491178513, 78.51502990722656), (57, 260880.0, 8.5, 1611.0, 135.25, 47.26148986816406, 0.26395753026008606, 502.0, 0.0490042008459568, -0.10991258919239044, 78.12572479248047), (58, 260820.0, 8.5, 1697.0, 134.625, 47.26148986816406, 0.26395753026008606, 508.0, 0.05017096549272537, -0.11252955347299576, 80.73978424072266), (59, 260760.0, 8.5, 1711.0, 134.6875, 47.26148986816406, 0.26395753026008606, 498.5, 0.05133773386478424, -0.11514651775360107, 83.58341979980469), (60, 260700.0, 8.5, 1733.0, 134.875, 47.26148986816406, 0.26395753026008606, 512.0, 0.05250449851155281, -0.11776348203420639, 91.1062240600586), (61, 260640.0, 8.5, 1746.0, 134.875, 47.26148986816406, 0.26395753026008606, 501.5, 0.05367126688361168, -0.1203804463148117, 92.91429901123047), (62, 260580.0, 8.5, 1737.0, 134.9375, 47.26148986816406, 0.26395753026008606, 510.0, 0.05483803153038025, -0.12299741059541702, 92.37914276123047), (63, 260520.0, 8.5, 1638.0, 134.375, 47.26148986816406, 0.26395753026008606, 495.0, 0.05600479990243912, -0.12561437487602234, 90.22500610351562), (64, 260460.0, 8.5, 1650.0, 134.625, 47.26148986816406, 0.26395753026008606, 492.5, 0.05717156454920769, -0.12823134660720825, 90.88055419921875), (65, 260400.0, 8.5, 1721.0, 134.5, 47.26148986816406, 0.26395753026008606, 482.5, 0.058338332921266556, -0.13084830343723297, 90.88375091552734), (66, 260340.0, 8.5, 1712.0, 134.5, 47.26148986816406, 0.26395753026008606, 500.25, 0.059505101293325424, -0.13346527516841888, 88.23606872558594), (67, 260280.0, 8.5, 1691.0, 134.5625, 47.26148986816406, 0.26395753026008606, 488.25, 0.060671865940093994, -0.1360822319984436, 87.92271423339844), (68, 260220.0, 8.5, 1736.0, 134.25, 47.26148986816406, 0.26395753026008606, 512.75, 0.06183863431215286, -0.13869920372962952, 87.48013305664062), (69, 260160.0, 8.5, 1779.0, 133.125, 47.26148986816406, 0.26395753026008606, 502.75, 0.06300540268421173, -0.14131616055965424, 87.86666107177734), (70, 260100.0, 8.5, 1763.0, 133.6875, 47.26148986816406, 0.26395753026008606, 504.0, 0.06417216360569, -0.14393313229084015, 90.44287872314453), (71, 260040.0, 8.5, 1719.0, 134.3125, 47.26148986816406, 0.26395753026008606, 499.5, 0.06533893197774887, -0.14655010402202606, 91.55154418945312), (72, 259980.0, 8.5, 1697.0, 133.9375, 47.26148986816406, 0.2264719307422638, 499.25, 0.07028444856405258, -0.14538832008838654, 91.67530059814453), (73, 259920.0, 8.5, 1751.0, 133.9375, 47.26148986816406, 0.22461259365081787, 505.75, 0.0754205510020256, -0.1440359354019165, 90.61579132080078), (74, 259860.0, 8.5, 1761.0, 133.5, 47.26148986816406, 0.22357966005802155, 522.75, 0.08066409826278687, -0.14257612824440002, 88.30391693115234), (75, 259800.0, 8.5, 1735.0, 133.25, 47.26148986816406, 0.22337305545806885, 489.75, 0.0859292671084404, -0.14109469950199127, 88.0802993774414), (76, 259740.0, 8.5, 1666.0, 134.75, 47.26148986816406, 0.22337305545806885, 502.0, 0.09119442850351334, -0.13961327075958252, 87.58380126953125), (77, 259680.0, 8.5, 1657.0, 133.625, 47.26148986816406, 0.22332140803337097, 500.75, 0.09646500647068024, -0.1381264179944992, 87.56937408447266), (78, 259620.0, 8.5, 1678.0, 134.1875, 47.26148986816406, 0.22333002090454102, 508.25, 0.10173468291759491, -0.1366404891014099, 88.96178436279297), (79, 259560.0, 8.5, 1672.0, 134.9375, 47.26148986816406, 0.22298569977283478, 495.5, 0.10704050958156586, -0.13511839509010315, 85.30308532714844), (80, 259500.0, 8.5, 1659.0, 135.1875, 47.26148986816406, 0.2209455966949463, 498.5, 0.11256305128335953, -0.13337957859039307, 80.91133880615234), (81, 259440.0, 8.5, 1667.0, 135.625, 47.26148986816406, 0.2202741801738739, 508.5, 0.11815787851810455, -0.13156849145889282, 79.8177490234375), (82, 259380.0, 8.5, 1736.0, 135.1875, 47.26148986816406, 0.22122104465961456, 504.5, 0.12365090847015381, -0.12985919415950775, 80.80409240722656), (83, 259320.0, 8.5, 1726.0, 135.0625, 47.26148986816406, 0.2215653657913208, 504.0, 0.12910716235637665, -0.1281866729259491, 80.52128601074219), (84, 259260.0, 8.5, 1645.0, 134.5625, 47.26148986816406, 0.22173751890659332, 500.75, 0.13454505801200867, -0.12653250992298126, 83.78376007080078), (85, 259200.0, 8.5, 1657.0, 134.25, 47.26148986816406, 0.22079065442085266, 488.25, 0.14008423686027527, -0.12477705627679825, 85.93856048583984), (86, 259140.0, 8.5, 1692.0, 134.0, 47.26148986816406, 0.2215653657913208, 497.0, 0.1455404907464981, -0.12310454249382019, 84.50555419921875), (87, 259080.0, 8.5, 1682.0, 133.875, 47.26148986816406, 0.22066155076026917, 497.5, 0.15109354257583618, -0.1213352158665657, 84.30191802978516), (88, 259020.0, 8.5, 1659.0, 132.8125, 47.26148986816406, 0.21949943900108337, 503.5, 0.15677234530448914, -0.11944014579057693, 82.77848052978516), (89, 258960.0, 8.5, 1708.0, 134.5, 47.26148986816406, 0.22130712866783142, 501.5, 0.1622561663389206, -0.11774005740880966, 84.04779052734375), (90, 258900.0, 8.5, 1677.0, 134.625, 47.26148986816406, 0.22117801010608673, 500.5, 0.16775380074977875, -0.11602615565061569, 84.6930160522461), (91, 258840.0, 8.5, 1594.0, 134.25, 47.26148986816406, 0.22104890644550323, 500.5, 0.173265278339386, -0.11429841071367264, 87.89176177978516), (92, 258780.0, 8.5, 1631.0, 134.5625, 47.26148986816406, 0.2205324023962021, 500.0, 0.1788322478532791, -0.1125151738524437, 88.08497619628906), (93, 258720.0, 8.5, 1674.0, 134.0, 47.26148986816406, 0.22104890644550323, 497.0, 0.18434371054172516, -0.11078743636608124, 86.8899917602539), (94, 258660.0, 8.5, 1706.0, 133.875, 47.26148986816406, 0.2215653657913208, 508.0, 0.189799964427948, -0.10911492258310318, 86.65869140625), (95, 258600.0, 8.5, 1633.0, 134.75, 47.26148986816406, 0.22147464752197266, 502.5, 0.19525621831417084, -0.10744240134954453, 87.75122833251953), (96, 258540.0, 8.5, 1637.0, 133.8125, 47.26148986816406, 0.22141817212104797, 494.25, 0.20069870352745056, -0.10578365623950958, 88.59087371826172), (97, 258480.0, 8.5, 1661.0, 135.375, 47.26148986816406, 0.21990786492824554, 506.75, 0.206293523311615, -0.10397256910800934, 90.39238739013672), (98, 258420.0, 8.5, 1706.0, 136.125, 47.26148986816406, 0.20585252344608307, 504.0, 0.21195828914642334, -0.10209153592586517, 91.05757141113281), (99, 258360.0, 8.5, 1672.0, 136.0625, 47.26148986816406, 0.1949031800031662, 497.0, 0.21766522526741028, -0.10016833990812302, 92.40655517578125), (100, 258300.0, 8.5, 1641.0, 137.9375, 47.26148986816406, 0.1791551411151886, 499.5, 0.22334401309490204, -0.09827326983213425, 93.85942840576172), ...]\n",
       "Index: []\n",
       "\n",
       "[0 rows x 4240 columns]"
      ]
     },
     "execution_count": 60,
     "metadata": {},
     "output_type": "execute_result"
    }
   ],
   "source": [
    "dataframes_605[0]"
   ]
  },
  {
   "cell_type": "code",
   "execution_count": 54,
   "metadata": {},
   "outputs": [
    {
     "data": {
      "text/plain": [
       "array([(   1, 264240., 1234.8523 , 0.7907106 ,   0.  , 0.8127777 ),\n",
       "       (   2, 264210., 1234.7153 , 0.79074144,   0.  , 0.81280535),\n",
       "       (   3, 264180., 1234.0337 , 0.79075444,   0.  , 0.8127714 ), ...,\n",
       "       (8476,   9990.,  156.57849, 7.8798385 , 412.25, 7.0442214 ),\n",
       "       (8477,   9960.,  156.57849, 7.8798385 , 412.25, 7.0442214 ),\n",
       "       (8478,   9930.,  156.57849, 7.8798385 , 404.25, 7.0442214 )],\n",
       "      dtype=[('FRAMENO', '<i4'), (('T.CHANNEL-I.TDEP-O.10-C.3', 'TDEP'), '<f4'), (('T.CHANNEL-I.AHTCO90-O.10-C.0', 'AHTCO90'), '<f4'), (('T.CHANNEL-I.AHF30-O.10-C.0', 'AHF30'), '<f4'), (('T.CHANNEL-I.TIME-O.10-C.3', 'TIME'), '<f4'), (('T.CHANNEL-I.AHF90-O.10-C.0', 'AHF90'), '<f4')])"
      ]
     },
     "execution_count": 54,
     "metadata": {},
     "output_type": "execute_result"
    }
   ],
   "source": [
    "poco = dli_dict['1-BRSA-605-SE']\n",
    "data = poco.frames[2].curves()\n",
    "data"
   ]
  },
  {
   "cell_type": "code",
   "execution_count": 66,
   "metadata": {},
   "outputs": [
    {
     "ename": "KeyError",
     "evalue": "'GR'",
     "output_type": "error",
     "traceback": [
      "\u001b[1;31m---------------------------------------------------------------------------\u001b[0m",
      "\u001b[1;31mKeyError\u001b[0m                                  Traceback (most recent call last)",
      "Cell \u001b[1;32mIn[66], line 27\u001b[0m\n\u001b[0;32m     23\u001b[0m \u001b[38;5;28;01mfor\u001b[39;00m frame \u001b[38;5;129;01min\u001b[39;00m poco\u001b[38;5;241m.\u001b[39mframes:\n\u001b[0;32m     25\u001b[0m     curvas \u001b[38;5;241m=\u001b[39m frame\u001b[38;5;241m.\u001b[39mcurves()\n\u001b[1;32m---> 27\u001b[0m     dataframe \u001b[38;5;241m=\u001b[39m pd\u001b[38;5;241m.\u001b[39mconcat([dataframe, pd\u001b[38;5;241m.\u001b[39mDataFrame(\u001b[43mcurvas\u001b[49m\u001b[43m[\u001b[49m\u001b[43mcurvas_utilizadas_sem_duplicados\u001b[49m\u001b[43m]\u001b[49m)])\n\u001b[0;32m     29\u001b[0m \u001b[38;5;66;03m# Criando um pandas dataframe do poço respectivo à atual iteração e armazenando o mesmo em dlis_df\u001b[39;00m\n\u001b[0;32m     30\u001b[0m dlis_df_dict[chave] \u001b[38;5;241m=\u001b[39m dataframe\n",
      "\u001b[1;31mKeyError\u001b[0m: 'GR'"
     ]
    }
   ],
   "source": [
    "dlis_df_dict = {}   # Conterá os dataframes respectivos aos poços\n",
    "\n",
    "# Curvas de perfis escolhidas\n",
    "curvas_escolhidas = ['TDEP', 'GR', 'NPHI', 'RHOB', 'DRHO', 'HDRS', 'LLD', 'BSZ', 'BS', 'CALI', 'DCALI', 'DCAL', 'PE', 'DTC']\n",
    "\n",
    "# Iterando sobre os arquivos lógicos de todos os poços (que estão armazenados em 'dli_dict'),\n",
    "# '.values()' se refere aos valores do dicionário (não às chaves)\n",
    "for chave, poco in dli_dict.items():\n",
    "\n",
    "    # Armazenando as curvas que serão utilizadas em uma lista\n",
    "    curvas_utilizadas = [\n",
    "        channel.name                                    # Os elementos da lista serão os nomes das curvas\n",
    "        for channel in poco.channels                    # As curvas são acessadas por meio de 'poco.channels'\n",
    "        if channel.name in curvas_escolhidas            # As curvas que não utilizaremos não serão armazenadas na lista\n",
    "    ]\n",
    "    conjunto_aux = set(curvas_utilizadas)\n",
    "    curvas_utilizadas_sem_duplicados = list(conjunto_aux)\n",
    "    \n",
    "    #frames = [np.atleast_1d(frame) for frame in poco.frames]\n",
    "    #curvas = np.concatenate(frames, axis=0)\n",
    "    dataframe = pd.DataFrame()\n",
    "    \n",
    "    for frame in poco.frames:\n",
    "\n",
    "        curvas = frame.curves()\n",
    "\n",
    "        dataframe = pd.concat([dataframe, pd.DataFrame(curvas[curvas_utilizadas_sem_duplicados])])\n",
    "\n",
    "    # Criando um pandas dataframe do poço respectivo à atual iteração e armazenando o mesmo em dlis_df\n",
    "    dlis_df_dict[chave] = dataframe\n"
   ]
  },
  {
   "cell_type": "code",
   "execution_count": 64,
   "metadata": {},
   "outputs": [
    {
     "data": {
      "text/plain": [
       "dict_keys(['551', '574', '595', '605', '659', '900', '889', '912', '897', '910', '907'])"
      ]
     },
     "execution_count": 64,
     "metadata": {},
     "output_type": "execute_result"
    }
   ],
   "source": [
    "dlis_df_dict.keys()"
   ]
  },
  {
   "cell_type": "markdown",
   "metadata": {},
   "source": [
    "## Transforma os valores -999.25 em nulos"
   ]
  },
  {
   "cell_type": "code",
   "execution_count": null,
   "metadata": {},
   "outputs": [],
   "source": [
    "for poco in dlis_df_dict.values():\n",
    "    poco.replace([-999.25], [None], inplace = True)"
   ]
  },
  {
   "cell_type": "markdown",
   "metadata": {},
   "source": [
    "## Aplicando os mnemônicos"
   ]
  },
  {
   "cell_type": "code",
   "execution_count": null,
   "metadata": {},
   "outputs": [],
   "source": [
    "aplica_mnemonico(dlis_df_dict, ['BS', 'BSZ'], 'BS')\n",
    "aplica_mnemonico(dlis_df_dict, ['LLD', 'HDRS'], 'RESD')\n",
    "aplica_mnemonico(dlis_df_dict, ['RHOB', 'RHOZ'], 'RHOB')"
   ]
  },
  {
   "cell_type": "markdown",
   "metadata": {},
   "source": [
    "## Renomeia CALI para CAL"
   ]
  },
  {
   "cell_type": "code",
   "execution_count": null,
   "metadata": {},
   "outputs": [],
   "source": [
    "for poco in dlis_df_dict.values():\n",
    "    renomeia_coluna(poco, 'CALI', 'CAL')"
   ]
  },
  {
   "cell_type": "markdown",
   "metadata": {},
   "source": [
    "## Adiciona coluna DCAL"
   ]
  },
  {
   "cell_type": "code",
   "execution_count": null,
   "metadata": {},
   "outputs": [],
   "source": [
    "add_DCAL(dlis_df_dict)"
   ]
  },
  {
   "cell_type": "markdown",
   "metadata": {},
   "source": [
    "## Preenche os poços com curvas faltando"
   ]
  },
  {
   "cell_type": "code",
   "execution_count": null,
   "metadata": {},
   "outputs": [],
   "source": [
    "# Se um dos poços não tiver uma dessas curvas, adicionamos a coluna da curva e mantemos os valores como None\n",
    "curvas_obrigatorias = ['BS', 'CAL', 'DCAL', 'DRHO', 'DTC', 'GR', 'NPHI', 'PE', 'RESD', 'RHOB', 'TDEP']\n",
    "\n",
    "# Percorre todos os poços\n",
    "for poco in dlis_df_dict.values():\n",
    "    # Percorre todas as curvas obrigatórias\n",
    "    for curva in curvas_obrigatorias:\n",
    "        # Se o poço não tiver a curva\n",
    "        if curva not in poco.columns:\n",
    "            # Adiciona a coluna e os valores dela = None\n",
    "            poco[curva] = None"
   ]
  },
  {
   "cell_type": "markdown",
   "metadata": {},
   "source": [
    "## Temos as seguintes curvas "
   ]
  },
  {
   "cell_type": "code",
   "execution_count": null,
   "metadata": {},
   "outputs": [
    {
     "name": "stdout",
     "output_type": "stream",
     "text": [
      "551: ['BS', 'CAL', 'DCAL', 'DRHO', 'DTC', 'GR', 'NPHI', 'PE', 'RESD', 'RHOB', 'TDEP']\n",
      "574: ['BS', 'CAL', 'DCAL', 'DRHO', 'DTC', 'GR', 'NPHI', 'PE', 'RESD', 'RHOB', 'TDEP']\n",
      "595: ['BS', 'CAL', 'DCAL', 'DRHO', 'DTC', 'GR', 'NPHI', 'PE', 'RESD', 'RHOB', 'TDEP']\n",
      "605: ['BS', 'CAL', 'DCAL', 'DRHO', 'DTC', 'GR', 'NPHI', 'PE', 'RESD', 'RHOB', 'TDEP']\n",
      "659: ['BS', 'CAL', 'DCAL', 'DRHO', 'DTC', 'GR', 'NPHI', 'PE', 'RESD', 'RHOB', 'TDEP']\n",
      "900: ['BS', 'CAL', 'DCAL', 'DRHO', 'DTC', 'GR', 'NPHI', 'PE', 'RESD', 'RHOB', 'TDEP']\n",
      "889: ['BS', 'CAL', 'DCAL', 'DRHO', 'DTC', 'GR', 'NPHI', 'PE', 'RESD', 'RHOB', 'TDEP']\n",
      "912: ['BS', 'CAL', 'DCAL', 'DRHO', 'DTC', 'GR', 'NPHI', 'PE', 'RESD', 'RHOB', 'TDEP']\n",
      "897: ['BS', 'CAL', 'DCAL', 'DRHO', 'DTC', 'GR', 'NPHI', 'PE', 'RESD', 'RHOB', 'TDEP']\n",
      "910: ['BS', 'CAL', 'DCAL', 'DRHO', 'DTC', 'GR', 'NPHI', 'PE', 'RESD', 'RHOB', 'TDEP']\n",
      "907: ['BS', 'CAL', 'DCAL', 'DRHO', 'DTC', 'GR', 'NPHI', 'PE', 'RESD', 'RHOB', 'TDEP']\n"
     ]
    }
   ],
   "source": [
    "for key, poco in dlis_df_dict.items():\n",
    "    curvas = sorted(poco.keys())\n",
    "    print(f\"{key}: {curvas}\")"
   ]
  },
  {
   "cell_type": "markdown",
   "metadata": {},
   "source": [
    "## Remove valores DRHO e DCAL indesejados (Só depois)"
   ]
  },
  {
   "cell_type": "code",
   "execution_count": null,
   "metadata": {},
   "outputs": [],
   "source": [
    "#limita_curva(dlis_df_dict, \"DRHO\", -0.15, 0.15)\n",
    "#limita_curva(dlis_df_dict, \"DCAL\", -2, 2)"
   ]
  },
  {
   "cell_type": "markdown",
   "metadata": {},
   "source": [
    "## Inverte a ordem das linhas dos dataframes"
   ]
  },
  {
   "cell_type": "code",
   "execution_count": null,
   "metadata": {},
   "outputs": [],
   "source": [
    "for key in dlis_df_dict.keys():\n",
    "    dlis_df_dict[key] = dlis_df_dict[key].iloc[::-1]"
   ]
  },
  {
   "cell_type": "markdown",
   "metadata": {},
   "source": [
    "## Ordena os dataframes"
   ]
  },
  {
   "cell_type": "code",
   "execution_count": null,
   "metadata": {},
   "outputs": [],
   "source": [
    "ordem_desejada = ['TDEP', 'GR', 'RESD', 'BS', 'CAL', 'DCAL', 'NPHI', 'PE', 'DRHO', 'RHOB', 'DTC']\n",
    "\n",
    "for key in dlis_df_dict.keys():\n",
    "    dlis_df_dict[key] = dlis_df_dict[key].reindex(columns=ordem_desejada)"
   ]
  },
  {
   "cell_type": "markdown",
   "metadata": {},
   "source": [
    "## Salva os dados dos dataframes em arquivos CSV"
   ]
  },
  {
   "cell_type": "code",
   "execution_count": null,
   "metadata": {},
   "outputs": [
    {
     "name": "stdout",
     "output_type": "stream",
     "text": [
      "Arquivo Pocos_CSV/poco_551.csv criado com sucesso.\n",
      "Arquivo Pocos_CSV/poco_574.csv criado com sucesso.\n",
      "Arquivo Pocos_CSV/poco_595.csv criado com sucesso.\n",
      "Arquivo Pocos_CSV/poco_605.csv criado com sucesso.\n",
      "Arquivo Pocos_CSV/poco_659.csv criado com sucesso.\n",
      "Arquivo Pocos_CSV/poco_900.csv criado com sucesso.\n",
      "Arquivo Pocos_CSV/poco_889.csv criado com sucesso.\n",
      "Arquivo Pocos_CSV/poco_912.csv criado com sucesso.\n",
      "Arquivo Pocos_CSV/poco_897.csv criado com sucesso.\n",
      "Arquivo Pocos_CSV/poco_910.csv criado com sucesso.\n",
      "Arquivo Pocos_CSV/poco_907.csv criado com sucesso.\n"
     ]
    }
   ],
   "source": [
    "for key, value in dlis_df_dict.items():\n",
    "    file_name = f\"Pocos_CSV/poco_{key}.csv\"\n",
    "    value.to_csv(file_name, index=False)\n",
    "    print(f\"Arquivo {file_name} criado com sucesso.\")"
   ]
  }
 ],
 "metadata": {
  "kernelspec": {
   "display_name": "Python 3",
   "language": "python",
   "name": "python3"
  },
  "language_info": {
   "codemirror_mode": {
    "name": "ipython",
    "version": 3
   },
   "file_extension": ".py",
   "mimetype": "text/x-python",
   "name": "python",
   "nbconvert_exporter": "python",
   "pygments_lexer": "ipython3",
   "version": "3.10.2"
  }
 },
 "nbformat": 4,
 "nbformat_minor": 2
}
