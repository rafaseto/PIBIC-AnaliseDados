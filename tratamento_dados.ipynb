{
 "cells": [
  {
   "cell_type": "markdown",
   "metadata": {},
   "source": [
    "## Importa funções para o pré-processamento"
   ]
  },
  {
   "cell_type": "code",
   "execution_count": 1,
   "metadata": {},
   "outputs": [],
   "source": [
    "from pre_processamento import *\n",
    "\n",
    "from dlisio import dlis\n",
    "import pandas as pd\n",
    "import numpy as np\n",
    "\n",
    "# A função 'glob' do módulo 'glob' é usada para procurar todos os arquivos em um diretório com determinada extensão\n",
    "import glob"
   ]
  },
  {
   "cell_type": "markdown",
   "metadata": {},
   "source": [
    "## Carrega os dados"
   ]
  },
  {
   "cell_type": "code",
   "execution_count": 2,
   "metadata": {},
   "outputs": [],
   "source": [
    "nomes_arquivos = []     # Armazena os nomes dos arquivos .dlis\n",
    "leituras_dlis = []      # Armazena as leituras dos arquivos .dlis\n",
    "nomes_anp = []          # Armazena os nomes obtidos das leituras\n",
    "\n",
    "for file in glob.glob(r'**/Data' + \"/*.dlis\", recursive=True):\n",
    "    # Salva o nome do arquivo\n",
    "    nomes_arquivos.append(file)\n",
    "\n",
    "    # Salva os dados da leitura\n",
    "    leitura, *tail = dlis.load(f'{file}')\n",
    "    leituras_dlis.append(leitura)\n",
    "\n",
    "    # Salva o nome do poço\n",
    "    nome = leitura.origins[0].well_name\n",
    "    nomes_anp.append(nome)"
   ]
  },
  {
   "cell_type": "code",
   "execution_count": 3,
   "metadata": {},
   "outputs": [
    {
     "name": "stdout",
     "output_type": "stream",
     "text": [
      "['Data\\\\1-brsa-551-se_brsa_raw.dlis', 'Data\\\\1-brsa-574-se_brsa_raw.dlis', 'Data\\\\1-brsa-595-se_brsa_raw-1.dlis', 'Data\\\\1-brsa-605-se_brsa_raw.dlis', 'Data\\\\1-brsa-659-se_brsa_raw.dlis', 'Data\\\\3-CP-1847-SE.dlis', 'Data\\\\3-CP-1848-SE.dlis', 'Data\\\\3-CP-1851-SE.dlis', 'Data\\\\3-CP-1853-SE.dlis', 'Data\\\\3-CP-1855-SE.dlis', 'Data\\\\3-CP-1857-SE.dlis']\n",
      "['1-FSG-1-SE', '1-FSJQ-1-SE', '1-BRSA-595-SE', '1-BRSA-605-SE', '1-BRSA-659-SE', '3-BRSA-900-SE', '3-BRSA-889-SE', '3-BRSA-912-SE', '3-BRSA-897-SE', '3-BRSA-910-SE', '3-BRSA-907-SE']\n"
     ]
    }
   ],
   "source": [
    "print(nomes_arquivos)\n",
    "print(nomes_anp)"
   ]
  },
  {
   "cell_type": "markdown",
   "metadata": {},
   "source": [
    "## Padroniza nomes fora do padão 'X-BRSA-XXX-SE'"
   ]
  },
  {
   "cell_type": "code",
   "execution_count": 4,
   "metadata": {},
   "outputs": [],
   "source": [
    "nomes_anp[0] = '1-BRSA-551-SE'\n",
    "nomes_anp[1] = '1-BRSA-574-SE'"
   ]
  },
  {
   "cell_type": "code",
   "execution_count": 5,
   "metadata": {},
   "outputs": [
    {
     "data": {
      "text/plain": [
       "['1-BRSA-551-SE',\n",
       " '1-BRSA-574-SE',\n",
       " '1-BRSA-595-SE',\n",
       " '1-BRSA-605-SE',\n",
       " '1-BRSA-659-SE',\n",
       " '3-BRSA-900-SE',\n",
       " '3-BRSA-889-SE',\n",
       " '3-BRSA-912-SE',\n",
       " '3-BRSA-897-SE',\n",
       " '3-BRSA-910-SE',\n",
       " '3-BRSA-907-SE']"
      ]
     },
     "execution_count": 5,
     "metadata": {},
     "output_type": "execute_result"
    }
   ],
   "source": [
    "nomes_anp"
   ]
  },
  {
   "cell_type": "markdown",
   "metadata": {},
   "source": [
    "## Cria dicionário para armazenar os dados e respectivos nomes"
   ]
  },
  {
   "cell_type": "code",
   "execution_count": 6,
   "metadata": {},
   "outputs": [
    {
     "data": {
      "text/plain": [
       "{'1-BRSA-551-SE': LogicalFile(AIT_SONIC_TLD_MCFL_018PUP),\n",
       " '1-BRSA-574-SE': LogicalFile(GEOLOAD.1),\n",
       " '1-BRSA-595-SE': LogicalFile(GEOLOAD.1),\n",
       " '1-BRSA-605-SE': LogicalFile(AIT_SONIC_TLD_MCFL_048PUC),\n",
       " '1-BRSA-659-SE': LogicalFile(GEOLOAD.1),\n",
       " '3-BRSA-900-SE': LogicalFile(GEOLOAD.1),\n",
       " '3-BRSA-889-SE': LogicalFile(GEOLOAD.1),\n",
       " '3-BRSA-912-SE': LogicalFile(GEOLOAD.1),\n",
       " '3-BRSA-897-SE': LogicalFile(GEOLOAD.1),\n",
       " '3-BRSA-910-SE': LogicalFile(GEOLOAD.1),\n",
       " '3-BRSA-907-SE': LogicalFile(GEOLOAD.1)}"
      ]
     },
     "execution_count": 6,
     "metadata": {},
     "output_type": "execute_result"
    }
   ],
   "source": [
    "# Casa itens da lista 'nome_anp_abreviados' com os itens da lista 'leituras_dlis'\n",
    "pares = zip(nomes_anp, leituras_dlis)\n",
    "\n",
    "# Cria dicionário 'dli_dict'\n",
    "dli_dict = dict(pares)\n",
    "dli_dict"
   ]
  },
  {
   "cell_type": "markdown",
   "metadata": {},
   "source": [
    "## Separa TODAS as curvas presentes nos .dlis de cada poço"
   ]
  },
  {
   "cell_type": "code",
   "execution_count": 7,
   "metadata": {},
   "outputs": [],
   "source": [
    "channels_dict = {}\n",
    "\n",
    "for key, poco in dli_dict.items():\n",
    "    channels_list = []\n",
    "    for frame in poco.frames:\n",
    "        channels = frame.channels\n",
    "        channels_list.append([channel.name for channel in channels])\n",
    "    channels_dict[key] = sum(channels_list, [])"
   ]
  },
  {
   "cell_type": "markdown",
   "metadata": {},
   "source": [
    "## Salva as curvas presentes nos .dlis em arquivos CSV"
   ]
  },
  {
   "cell_type": "code",
   "execution_count": 8,
   "metadata": {},
   "outputs": [
    {
     "name": "stdout",
     "output_type": "stream",
     "text": [
      "Arquivo Curvas_CSV/curvas_1-BRSA-551-SE.csv criado com sucesso\n",
      "Arquivo Curvas_CSV/curvas_1-BRSA-574-SE.csv criado com sucesso\n",
      "Arquivo Curvas_CSV/curvas_1-BRSA-595-SE.csv criado com sucesso\n",
      "Arquivo Curvas_CSV/curvas_1-BRSA-605-SE.csv criado com sucesso\n",
      "Arquivo Curvas_CSV/curvas_1-BRSA-659-SE.csv criado com sucesso\n",
      "Arquivo Curvas_CSV/curvas_3-BRSA-900-SE.csv criado com sucesso\n",
      "Arquivo Curvas_CSV/curvas_3-BRSA-889-SE.csv criado com sucesso\n",
      "Arquivo Curvas_CSV/curvas_3-BRSA-912-SE.csv criado com sucesso\n",
      "Arquivo Curvas_CSV/curvas_3-BRSA-897-SE.csv criado com sucesso\n",
      "Arquivo Curvas_CSV/curvas_3-BRSA-910-SE.csv criado com sucesso\n",
      "Arquivo Curvas_CSV/curvas_3-BRSA-907-SE.csv criado com sucesso\n"
     ]
    }
   ],
   "source": [
    "import csv\n",
    "\n",
    "for key, value in channels_dict.items():\n",
    "    file_name = f\"Curvas_CSV/curvas_{key}.csv\"\n",
    "    with open(file_name, 'w', newline='') as csvfile:\n",
    "        writer = csv.writer(csvfile)\n",
    "        writer.writerow([\"Curva\", \"Poco\"])\n",
    "        for item in value:\n",
    "            writer.writerow([item, f'P_{key}'])\n",
    "\n",
    "    print(f\"Arquivo {file_name} criado com sucesso\")"
   ]
  },
  {
   "cell_type": "markdown",
   "metadata": {},
   "source": [
    "## Concatena os arquivos CSV das curvas em um único arquivo"
   ]
  },
  {
   "cell_type": "code",
   "execution_count": 62,
   "metadata": {},
   "outputs": [
    {
     "name": "stdout",
     "output_type": "stream",
     "text": [
      "Arquivo curvas_pocos.csv criado com sucesso\n"
     ]
    }
   ],
   "source": [
    "import os\n",
    "\n",
    "pasta = \"Curvas_CSV\"\n",
    "\n",
    "# Lista para armazenar os dataframes repectivos aos .csv\n",
    "df_list = []\n",
    "\n",
    "# Itera sobre a pasta Curvas_CSV\n",
    "for arquivo in os.listdir(pasta):\n",
    "    file_path = os.path.join(pasta, arquivo)\n",
    "\n",
    "    # Lê o arquivo CSV como um DF\n",
    "    df = pd.read_csv(file_path)\n",
    "    df_list.append(df)\n",
    "\n",
    "# Concatena os DFs ao longo do eixo das colunas\n",
    "df_concat = pd.concat(df_list, axis=0, ignore_index=True)\n",
    "\n",
    "# Salva o DF concatenado em um .csv\n",
    "df_concat.to_csv(\"curvas_pocos.csv\", index=False)\n",
    "\n",
    "print(\"Arquivo curvas_pocos.csv criado com sucesso\")"
   ]
  },
  {
   "cell_type": "markdown",
   "metadata": {},
   "source": [
    "## Cria dataframes para os poços"
   ]
  },
  {
   "cell_type": "code",
   "execution_count": 130,
   "metadata": {},
   "outputs": [
    {
     "data": {
      "text/plain": [
       "array([(   1, 283800., 8.5, 1550.3876, 1510., 0.0000000e+00, 47.783665, 16.035276 , 103.75  , -86.    , 103.75  , 103.75   , 4.9949034e-05, 0.27464288, 308.2635   , 4.3050237, -3034.6292 , 1.,  43.,  0., 0., 4.1423117e+04, 7.4867726e-06, 84.410095, 1.5237742e+06, 6.8329636e-04, 0., 30.101185, 0., 0.37930325, 831.9735, 636.8355, -0.00802613, 1541.3779, 11.788948, 1287., 12., 108.35645, 0.40109283, 613.9815 , 0.,  0.01779176, 2128.4858, 11.370857, 398.5  , 11., 102.66097, 0.1836244 , 424.1175, 0., -0.06408696, 1725.0688, 9.506232, 45.6875  , 10., 95.15834, 0., -0.134748, 9.138985, 4.043232 , 4.663786, 26.20668 , 3.1616232, 6.152328, -0.268554, 1652.6624, 2166.4666, 1766.1321, -999.25, 2.7210531, 2.2816007, 2.5834467, 54.148296, 6.6096e-41, 4.9658103,  0.       , 42.025665, 102.16333 , 0.7874884, 139.70149 , -2088.4517, -2111.5833, 129.73312 , 5.386333 , 0.69164497, 0.69164497, 1884.4413 , 0.        , -0.0013665 , 0., 0.8779553, 2.1269135, 1451.8804, 1459.6238, 344.7986 , 1736.3544 , 388.85196, 5.0206337, 1884.4412, 0.87795526, -999.25     , -999.25  , 37.65113, 9.705746, 254.88292, 4.929674, 14.92128, -14.8861885, 0., 0., 250.93994, 50.03928, -5.6995125, 7., 2.8004875, 119.513596, 103.48188, 40.736183,    0. ,  -7.8759694, 8047.468  , 3051.1099, [-999.25    , -999.25    , -999.25    , -999.25    ], [-999.25     , -999.25     , -999.25     , -999.25     ], [-999.25     , -999.25     , -999.25     , -999.25     ], 0, 0, 0, 504, 0, -3.2783794e+01, 0, 4497.3394, 4497.3394, 0.00397397, 0.02482864, 0.03660958, 0.0000000e+00,  0.0000000e+00, 0., 0., [-15.095953,  15.097228, -15.110248,  15.129903,  27.139786,  50.76357 ], 99.89807),\n",
       "       (   2, 283740., 8.5, 1553.0099, 1462., 1.1610000e+00, 47.77779 ,  1.6031911, 100.4375, -82.0625, 100.4375,  97.15625, 9.9898069e-05, 0.27464288, 308.2635   , 4.3050237, -3034.6292 , 1.,  43.,  0., 0., 4.3115699e+04, 7.4874074e-06, 84.410095, 1.5234545e+05, 2.1610912e-03, 0., 30.101185, 0., 0.37930325, 831.9735, 636.8355, -0.00802613, 1541.3779, 11.788948, 1287., 12., 108.35645, 0.40109283, 613.9815 , 0.,  0.01779176, 2128.4858, 11.370857, 398.5  , 11., 102.66097, 0.1836244 , 424.1175, 0., -0.06408696, 1725.0688, 9.506232, 45.6875  , 10., 95.15834, 0., -0.134748, 9.138985, 4.043232 , 4.663786, 26.20668 , 3.1616232, 6.152328, -0.268554, 1652.6624, 2166.4666, 1766.1321, -999.25, 2.7210531, 2.2816007, 2.5834467, 54.148296, 6.6096e-41, 4.9658103,  0.       , 42.025665, 102.16333 , 0.7874884, 139.70149 , -2088.4517, -2111.5833, 129.73312 , 5.386333 , 0.69164497, 0.69164497, 1884.4413 , 0.        , -0.0013665 , 0., 0.8779553, 2.1269135, 1451.8804, 1459.6238, 344.7986 , 1736.3544 , 388.85196, 5.0206337, 1884.4412, 0.87795526, -999.25     , -999.25  , 37.65113, 9.708387, 254.88292, 4.929674, 14.92128, -14.8861885, 0., 0., 251.87979, 50.03928, -5.6995125, 7., 2.8004875, 118.52676 , 102.49559, 40.736183, 1161. ,  -7.8892903, 8045.766  , 3051.1099, [-999.25    , -999.25    , -999.25    , -999.25    ], [-999.25     , -999.25     , -999.25     , -999.25     ], [-999.25     , -999.25     , -999.25     , -999.25     ], 0, 0, 0, 504, 0, -3.2783794e+01, 0, 4484.6885, 4484.6885, 0.00397397, 0.02482864, 0.03660958, 6.0560839e-04, -3.1781257e-03, 0., 0., [-15.095953,  15.097228, -15.110248,  15.129903,  27.139786,  50.76357 ], 99.89807),\n",
       "       (   3, 283680., 8.5, 1564.1757, 1542., 2.3065000e+00, 47.77192 ,  1.6019325, 102.4375, -83.6875, 102.4375, 101.05729, 1.4984711e-04, 0.27464288, 308.2635   , 4.3050237, -3034.6292 , 1.,  43.,  0., 0., 4.6065156e+04, 7.4880413e-06, 84.410095, 1.5222584e+05, 2.1620314e-03, 0., 30.101185, 0., 0.37930325, 831.9735, 636.8355, -0.00802613, 1541.3779, 11.788948, 1287., 12., 108.35645, 0.40109283, 613.9815 , 0.,  0.01779176, 2128.4858, 11.370857, 398.5  , 11., 102.66097, 0.1836244 , 424.1175, 0., -0.06408696, 1725.0688, 9.506232, 45.6875  , 10., 95.15834, 0., -0.134748, 9.138985, 4.043232 , 4.663786, 26.20668 , 3.1616232, 6.152328, -0.268554, 1652.6624, 2166.4666, 1766.1321, -999.25, 2.7210531, 2.2816007, 2.5834467, 54.148296, 6.6096e-41, 4.9658103,  0.       , 42.025665, 102.16333 , 0.7874884, 139.70149 , -2088.4517, -2111.5833, 129.73312 , 5.386333 , 0.69164497, 0.69164497, 1884.4413 , 0.        , -0.0013665 , 0., 0.8779553, 2.1269135, 1451.8804, 1459.6238, 344.7986 , 1736.3544 , 388.85196, 5.0206337, 1884.4412, 0.87795526, -999.25     , -999.25  , 37.65113, 9.710938, 254.88292, 4.929674, 14.92128, -14.8861885, 0., 0., 250.00009, 50.03928, -5.6995125, 7., 2.8004875, 118.469215, 102.45396, 40.736183, 1145.5,  -7.9460125, 8044.065  , 3051.1099, [-999.25    , -999.25    , -999.25    , -999.25    ], [-999.25     , -999.25     , -999.25     , -999.25     ], [-999.25     , -999.25     , -999.25     , -999.25     ], 0, 0, 0, 504, 0, -3.2783794e+01, 0, 4601.7075, 4601.7075, 0.00397397, 0.02482864, 0.03660958, 1.2112168e-03, -6.3562514e-03, 0., 0., [-15.095953,  15.097228, -15.110248,  15.129903,  27.139786,  50.76357 ], 99.89807),\n",
       "       ...,\n",
       "       (4554,  10620., 8.5, 2729.6594,  993., 2.6921345e+03, 21.039684, 15.466356 , 139.1875,   1.25  , 139.1875, 139.38995, 1.9728313e-01, 0.18084279,   0.6010043, 4.1190233,    56.57028, 2., 301., 62., 0., 3.6120616e-02, 3.2032290e+00,  0.      , 1.2584664e+00, 9.5687437e-01, 0., 24.09702 , 0., 0.38259915, 495.756 , 622.7715, -0.02136232, 1533.7607, 11.792   , 1287., 12., 108.35645, 0.41635162, 747.5895 , 0., -0.00158692, 2131.269 , 11.517342, 229.875, 11., 102.66097, 0.19442762, 492.6795, 0., -0.02966311, 1727.2661, 9.906013, 15.234375, 10., 95.15834, 0., -0.404244, 3.815304, 1.5302509, 1.266326, 19.932056, 0.610352 , 2.062983, -0.207519, 1642.6748, 2167.8535, 1766.5482, -999.25, 2.7210531, 2.2816007, 2.5878856, 55.03608 , 6.6276e-41, 4.9560447,  0.       , 37.83373 ,  19.699377, 0.7874884,  22.09581 , -2088.4517, -2111.5833,  25.01545 , 4.907074 , 0.69027877, 0.69027877,  987.31085, 0.22717464,  0.00043869, 0., 1.0345876, 1.2957267, 1451.8804, 1459.6238, 180.05473,  923.12067, 193.2972 , 4.881206 ,  958.526 , 1.0028551 ,    1.7114593, 3000.    , 37.65113, 9.768787, 255.68086, 4.929674, 14.92128, -14.8861885, 0., 0., 251.87979, 46.74516, -5.7451677, 7., 2.7548323, 207.86327 , 126.91913, 39.91402 ,  653.5, -13.866671 ,  301.14203, 3867.9749, [  16.832668,    4.226124,   16.42914 ,    0.      ], [   3.4921403,   16.741817 ,    6.5302725,   -9.24712  ], [  -7.2808585,    4.5568914,  -10.55644  ,   -2.4107747], 0, 0, 0, -17, 0,  1.6795212e-02, 0, 4217.4414, 4217.4414, 0.00384545, 0.02482864, 0.03660958, 1.7190437e+01,  5.4608431e+00, 0., 0., [-15.098886,  15.100034, -15.109098,  15.131692,  26.649172,  50.776222], 78.80093),\n",
       "       (4555,  10560., 8.5, 2727.8186,  999., 2.6927976e+03, 21.033812, 15.466356 , 139.5   ,   2.125 , 139.5   , 138.93954, 1.9728313e-01, 0.18084279,   0.6010043, 4.1190233,    56.57028, 2., 301., 62., 0., 3.6120616e-02, 3.2032290e+00,  0.      , 1.2584664e+00, 9.5687437e-01, 0., 23.959957, 0., 0.38281277, 792.4185, 596.4015, -0.00836182, 1533.8706, 11.779793, 1609., 12., 108.35645, 0.41635162, 480.81302, 0.,  0.01156617, 2131.086 , 11.471565, 352.5  , 11., 102.66097, 0.19442762, 834.171 , 0., -0.00280762, 1727.2295, 9.88465 , 15.234375, 10., 95.15834, 0., -0.404244, 3.815304, 1.5302509, 1.266326, 19.932056, 0.610352 , 2.062983, -0.207519, 1642.6748, 2167.8535, 1766.5482, -999.25, 2.7210531, 2.2816007, 2.5878856, 55.03608 , 6.6276e-41, 4.9560447, -0.0048828, 37.83373 ,  19.482319, 0.7874884,  34.46522 , -2088.4517, -2111.5833,  24.739817, 5.66432  , 0.69027877, 0.69027877,  968.75073, 0.22717464,  0.00043869, 0., 1.0345876, 1.2957267, 1451.8804, 1459.6238, 181.55869,  906.29626, 208.70811, 5.1366706,  958.526 , 1.0028551 ,    1.6309139, 2976.215 , 37.65113, 9.768787, 256.27933, 4.929674, 14.92128, -14.8861885, 0., 0., 251.87979, 46.74516, -5.7451677, 7., 2.7548323, 208.70715 , 126.91913, 39.915672,  663. , -13.857319 ,  299.44064, 3867.9749, [  16.832668,    4.226124,   16.42914 ,    0.      ], [   3.4921403,   16.741817 ,    6.5302725,   -9.24712  ], [  -7.2808585,    4.5568914,  -10.55644  ,   -2.4107747], 0, 0, 0, 169, 0,  1.9251224e-02, 0, 4230.0923, 4230.0923, 0.00384545, 0.02482864, 0.03660958, 1.7190437e+01,  5.4608431e+00, 0., 0., [-15.09866 ,  15.099043, -15.109894,  15.133764,  27.0903  ,  50.77959 ], 78.80093),\n",
       "       (4556,  10500., 8.5, 2726.4639,  989., 2.6934604e+03, 21.027937, 15.466356 , 140.1875,   1.625 , 140.1875, 140.13712, 1.9728313e-01, 0.18084279,   0.6010043, 4.1190233,    56.57028, 2., 301., 62., 0., 3.6120616e-02, 3.2032290e+00,  0.      , 1.2584664e+00, 9.5687437e-01, 0., 23.959957, 0., 0.38281277, 792.4185, 596.4015, -0.00836182, 1533.8706, 11.779793, 1609., 12., 108.35645, 0.41635162, 480.81302, 0.,  0.01156617, 2131.086 , 11.471565, 352.5  , 11., 102.66097, 0.19442762, 834.171 , 0., -0.00280762, 1727.2295, 9.88465 , 15.234375, 10., 95.15834, 0.,  0.640053, 3.77094 , 1.516212 , 2.270121, 19.756275, 0.610352 , 2.062983, -0.207519, 1642.8136, 2167.8535, 1766.5482, -999.25, 2.7210531, 2.2816007, 2.5878856, 55.03608 , 6.6276e-41, 4.9560447, -0.0048828, 37.83373 ,  19.482319, 0.7874884,  23.361065, -2088.4517, -2111.5833,  24.739817, 5.9610844, 0.69027877, 0.69027877, 1031.2094 , 0.22717464,  0.00043869, 0., 1.0345876, 1.2957267, 1451.8804, 1459.6238, 231.22124,  962.9139 , 208.70811, 5.1366706,  958.526 , 1.0028551 ,    1.642272 , 1304.9021, 37.65113, 9.768787, 255.88036, 4.929674, 14.92128, -14.8861885, 0., 0., 250.00009, 46.74516, -5.7451677, 7., 2.7548323, 209.78981 , 126.91913, 39.915466,  663. , -13.850437 ,  297.7393 , 3867.9749, [  16.832668,    4.226124,   16.42914 ,    0.      ], [   3.4921403,   16.741817 ,    6.5302725,   -9.24712  ], [  -7.2808585,    4.5568914,  -10.55644  ,   -2.4107747], 0, 0, 0, 100, 0,  4.3908104e-02, 0, 4187.396 , 4187.396 , 0.00384545, 0.02482864, 0.03660958, 1.7190437e+01,  5.4608431e+00, 0., 0., [-15.09866 ,  15.099043, -15.109894,  15.133764,  27.0903  ,  50.77959 ], 78.80093)],\n",
       "      dtype=[('FRAMENO', '<i4'), (('T.CHANNEL-I.TDEP-O.111-C.0', 'TDEP'), '<f4'), (('T.CHANNEL-I.BS-O.111-C.0', 'BS'), '<f4'), (('T.CHANNEL-I.CS-O.111-C.0', 'CS'), '<f4'), (('T.CHANNEL-I.TENS-O.111-C.0', 'TENS'), '<f4'), (('T.CHANNEL-I.ETIM-O.111-C.0', 'ETIM'), '<f4'), (('T.CHANNEL-I.GTEM-O.111-C.0', 'GTEM'), '<f4'), (('T.CHANNEL-I.RT-O.111-C.0', 'RT'), '<f4'), (('T.CHANNEL-I.RSP-O.111-C.0', 'RSP'), '<f4'), (('T.CHANNEL-I.RSPA-O.111-C.0', 'RSPA'), '<f4'), (('T.CHANNEL-I.SP-O.111-C.0', 'SP'), '<f4'), (('T.CHANNEL-I.SPAR-O.111-C.0', 'SPAR'), '<f4'), (('T.CHANNEL-I.ITT-O.111-C.0', 'ITT'), '<f4'), (('T.CHANNEL-I.SPHI-O.111-C.0', 'SPHI'), '<f4'), (('T.CHANNEL-I.PXND_HILT-O.111-C.0', 'PXND_HILT'), '<f4'), (('T.CHANNEL-I.RHGX_HILT-O.111-C.0', 'RHGX_HILT'), '<f4'), (('T.CHANNEL-I.UMA_HILT-O.111-C.0', 'UMA_HILT'), '<f4'), (('T.CHANNEL-I.HPATT-O.111-C.0', 'HPATT'), '<f4'), (('T.CHANNEL-I.HLRGB-O.111-C.0', 'HLRGB'), '<f4'), (('T.CHANNEL-I.HMRGB-O.111-C.0', 'HMRGB'), '<f4'), (('T.CHANNEL-I.PHIE_HILT-O.111-C.0', 'PHIE_HILT'), '<f4'), (('T.CHANNEL-I.RMFA_HILT-O.111-C.0', 'RMFA_HILT'), '<f4'), (('T.CHANNEL-I.RO_HILT-O.111-C.0', 'RO_HILT'), '<f4'), (('T.CHANNEL-I.VCL_HILT-O.111-C.0', 'VCL_HILT'), '<f4'), (('T.CHANNEL-I.RWA_HILT-O.111-C.0', 'RWA_HILT'), '<f4'), (('T.CHANNEL-I.SW_HILT-O.111-C.0', 'SW_HILT'), '<f4'), (('T.CHANNEL-I.HZOI-O.111-C.0', 'HZOI'), '<f4'), (('T.CHANNEL-I.NCYT-O.111-C.0', 'NCYT'), '<f4'), (('T.CHANNEL-I.QCBSL-O.111-C.0', 'QCBSL'), '<f4'), (('T.CHANNEL-I.BSD1-O.111-C.0', 'BSD1'), '<f4'), (('T.CHANNEL-I.BPO1-O.111-C.0', 'BPO1'), '<f4'), (('T.CHANNEL-I.BPO2-O.111-C.0', 'BPO2'), '<f4'), (('T.CHANNEL-I.BSFF-O.111-C.0', 'BSFF'), '<f4'), (('T.CHANNEL-I.BPHV-O.111-C.0', 'BPHV'), '<f4'), (('T.CHANNEL-I.BCQR-O.111-C.0', 'BCQR'), '<f4'), (('T.CHANNEL-I.BLEW-O.111-C.0', 'BLEW'), '<f4'), (('T.CHANNEL-I.BOFC-O.111-C.0', 'BOFC'), '<f4'), (('T.CHANNEL-I.BDTH-O.111-C.0', 'BDTH'), '<f4'), (('T.CHANNEL-I.SSD1-O.111-C.0', 'SSD1'), '<f4'), (('T.CHANNEL-I.SPO1-O.111-C.0', 'SPO1'), '<f4'), (('T.CHANNEL-I.SPO2-O.111-C.0', 'SPO2'), '<f4'), (('T.CHANNEL-I.SSFF-O.111-C.0', 'SSFF'), '<f4'), (('T.CHANNEL-I.SPHV-O.111-C.0', 'SPHV'), '<f4'), (('T.CHANNEL-I.SCQR-O.111-C.0', 'SCQR'), '<f4'), (('T.CHANNEL-I.SLEW-O.111-C.0', 'SLEW'), '<f4'), (('T.CHANNEL-I.SOFC-O.111-C.0', 'SOFC'), '<f4'), (('T.CHANNEL-I.SDTH-O.111-C.0', 'SDTH'), '<f4'), (('T.CHANNEL-I.LSD1-O.111-C.0', 'LSD1'), '<f4'), (('T.CHANNEL-I.LPO1-O.111-C.0', 'LPO1'), '<f4'), (('T.CHANNEL-I.LPO2-O.111-C.0', 'LPO2'), '<f4'), (('T.CHANNEL-I.LSFF-O.111-C.0', 'LSFF'), '<f4'), (('T.CHANNEL-I.LPHV-O.111-C.0', 'LPHV'), '<f4'), (('T.CHANNEL-I.LCQR-O.111-C.0', 'LCQR'), '<f4'), (('T.CHANNEL-I.LLEW-O.111-C.0', 'LLEW'), '<f4'), (('T.CHANNEL-I.LOFC-O.111-C.0', 'LOFC'), '<f4'), (('T.CHANNEL-I.LDTH-O.111-C.0', 'LDTH'), '<f4'), (('T.CHANNEL-I.QCMCFL-O.111-C.0', 'QCMCFL'), '<f4'), (('T.CHANNEL-I.RXVM-O.111-C.0', 'RXVM'), '<f4'), (('T.CHANNEL-I.RXIB-O.111-C.0', 'RXIB'), '<f4'), (('T.CHANNEL-I.RXIG-O.111-C.0', 'RXIG'), '<f4'), (('T.CHANNEL-I.RXVB-O.111-C.0', 'RXVB'), '<f4'), (('T.CHANNEL-I.RXPS-O.111-C.0', 'RXPS'), '<f4'), (('T.CHANNEL-I.RDA0-O.111-C.0', 'RDA0'), '<f4'), (('T.CHANNEL-I.RD1P-O.111-C.0', 'RD1P'), '<f4'), (('T.CHANNEL-I.RD1Q-O.111-C.0', 'RD1Q'), '<f4'), (('T.CHANNEL-I.RBPHV-O.111-C.0', 'RBPHV'), '<f4'), (('T.CHANNEL-I.RSPHV-O.111-C.0', 'RSPHV'), '<f4'), (('T.CHANNEL-I.RLPHV-O.111-C.0', 'RLPHV'), '<f4'), (('T.CHANNEL-I.RHET-O.111-C.0', 'RHET'), '<f4'), (('T.CHANNEL-I.MP5V-O.111-C.0', 'MP5V'), '<f4'), (('T.CHANNEL-I.MP12-O.111-C.0', 'MP12'), '<f4'), (('T.CHANNEL-I.MA5V-O.111-C.0', 'MA5V'), '<f4'), (('T.CHANNEL-I.CTMP-O.111-C.0', 'CTMP'), '<f4'), (('T.CHANNEL-I.MDIG-O.111-C.0', 'MDIG'), '<f4'), (('T.CHANNEL-I.TREF-O.111-C.0', 'TREF'), '<f4'), (('T.CHANNEL-I.NSGD-O.111-C.0', 'NSGD'), '<f4'), (('T.CHANNEL-I.HTEM-O.111-C.0', 'HTEM'), '<f4'), (('T.CHANNEL-I.ECGR-O.111-C.0', 'ECGR'), '<f4'), (('T.CHANNEL-I.CFGR-O.111-C.0', 'CFGR'), '<f4'), (('T.CHANNEL-I.RGR-O.111-C.0', 'RGR'), '<f4'), (('T.CHANNEL-I.GTHV-O.111-C.0', 'GTHV'), '<f4'), (('T.CHANNEL-I.GCHV-O.111-C.0', 'GCHV'), '<f4'), (('T.CHANNEL-I.GR-O.111-C.0', 'GR'), '<f4'), (('T.CHANNEL-I.RTNR-O.111-C.0', 'RTNR'), '<f4'), (('T.CHANNEL-I.NPHI-O.111-C.0', 'NPHI'), '<f4'), (('T.CHANNEL-I.NPL-O.111-C.0', 'NPL'), '<f4'), (('T.CHANNEL-I.RGCN-O.111-C.0', 'RGCN'), '<f4'), (('T.CHANNEL-I.DRTA-O.111-C.0', 'DRTA'), '<f4'), (('T.CHANNEL-I.DNPH-O.111-C.0', 'DNPH'), '<f4'), (('T.CHANNEL-I.QCPOR-O.111-C.0', 'QCPOR'), '<f4'), (('T.CHANNEL-I.TNPH-O.111-C.0', 'TNPH'), '<f4'), (('T.CHANNEL-I.TALP-O.111-C.0', 'TALP'), '<f4'), (('T.CHANNEL-I.NTHV-O.111-C.0', 'NTHV'), '<f4'), (('T.CHANNEL-I.NCHV-O.111-C.0', 'NCHV'), '<f4'), (('T.CHANNEL-I.RCFT-O.111-C.0', 'RCFT'), '<f4'), (('T.CHANNEL-I.RCNT-O.111-C.0', 'RCNT'), '<f4'), (('T.CHANNEL-I.CFTC-O.111-C.0', 'CFTC'), '<f4'), (('T.CHANNEL-I.TNRA-O.111-C.0', 'TNRA'), '<f4'), (('T.CHANNEL-I.CNTC-O.111-C.0', 'CNTC'), '<f4'), (('T.CHANNEL-I.NPOR-O.111-C.0', 'NPOR'), '<f4'), (('T.CHANNEL-I.GDEV-O.111-C.0', 'GDEV'), '<f4'), (('T.CHANNEL-I.HWER-O.111-C.0', 'HWER'), '<f4'), (('T.CHANNEL-I.ATEMP-O.111-C.0', 'ATEMP'), '<f4'), (('T.CHANNEL-I.TGST-O.111-C.0', 'TGST'), '<f4'), (('T.CHANNEL-I.HHVO-O.111-C.0', 'HHVO'), '<f4'), (('T.CHANNEL-I.HP5V-O.111-C.0', 'HP5V'), '<f4'), (('T.CHANNEL-I.HP15-O.111-C.0', 'HP15'), '<f4'), (('T.CHANNEL-I.HM15-O.111-C.0', 'HM15'), '<f4'), (('T.CHANNEL-I.HAGR-O.111-C.0', 'HAGR'), '<f4'), (('T.CHANNEL-I.HDGR-O.111-C.0', 'HDGR'), '<f4'), (('T.CHANNEL-I.HV-O.111-C.0', 'HV'), '<f4'), (('T.CHANNEL-I.CTEM-O.111-C.0', 'CTEM'), '<f4'), (('T.CHANNEL-I.DCAL-O.111-C.0', 'DCAL'), '<f4'), (('T.CHANNEL-I.FCD-O.111-C.0', 'FCD'), '<f4'), (('T.CHANNEL-I.HDAR-O.111-C.0', 'HDAR'), '<f4'), (('T.CHANNEL-I.AHSCA-O.111-C.0', 'AHSCA'), '<f4'), (('T.CHANNEL-I.AHSFI-O.111-C.0', 'AHSFI'), '<f4'), (('T.CHANNEL-I.AHTCA-O.111-C.0', 'AHTCA'), '<f4'), (('T.CHANNEL-I.TIME-O.111-C.0', 'TIME'), '<f4'), (('T.CHANNEL-I.CVEL-O.111-C.0', 'CVEL'), '<f4'), (('T.CHANNEL-I.BHPR-O.111-C.0', 'BHPR'), '<f4'), (('T.CHANNEL-I.SVEL-O.111-C.0', 'SVEL'), '<f4'), (('T.CHANNEL-I.EBSZ-O.111-C.0', 'EBSZ'), '<f4', (4,)), (('T.CHANNEL-I.ESSZ-O.111-C.0', 'ESSZ'), '<f4', (4,)), (('T.CHANNEL-I.ELSZ-O.111-C.0', 'ELSZ'), '<f4', (4,)), (('T.CHANNEL-I.BDIG-O.111-C.0', 'BDIG'), '<i2'), (('T.CHANNEL-I.SDIG-O.111-C.0', 'SDIG'), '<i2'), (('T.CHANNEL-I.LDIG-O.111-C.0', 'LDIG'), '<i2'), (('T.CHANNEL-I.RDIA-O.111-C.0', 'RDIA'), '<i2'), (('T.CHANNEL-I.NDIA-O.111-C.0', 'NDIA'), '<i2'), (('T.CHANNEL-I.HWEC-O.111-C.0', 'HWEC'), '<f4'), (('T.CHANNEL-I.HDIG-O.111-C.0', 'HDIG'), '<i2'), (('T.CHANNEL-I.DF-O.111-C.0', 'DF'), '<f4'), (('T.CHANNEL-I.CDF-O.111-C.0', 'CDF'), '<f4'), (('T.CHANNEL-I.AREA-O.111-C.0', 'AREA'), '<f4'), (('T.CHANNEL-I.AFCD-O.111-C.0', 'AFCD'), '<f4'), (('T.CHANNEL-I.ABS-O.111-C.0', 'ABS'), '<f4'), (('T.CHANNEL-I.IHV-O.111-C.0', 'IHV'), '<f4'), (('T.CHANNEL-I.ICV-O.111-C.0', 'ICV'), '<f4'), (('T.CHANNEL-I.STIA-O.111-C.0', 'STIA'), '<f4'), (('T.CHANNEL-I.STIT-O.111-C.0', 'STIT'), '<f4'), (('T.CHANNEL-I.AHVCL-O.111-C.0', 'AHVCL'), '<f4', (6,)), (('T.CHANNEL-I.DT-O.111-C.0', 'DT'), '<f4')])"
      ]
     },
     "execution_count": 130,
     "metadata": {},
     "output_type": "execute_result"
    }
   ],
   "source": [
    "poco = dli_dict['551']\n",
    "data = poco.frames[0].curves()\n",
    "data"
   ]
  },
  {
   "cell_type": "code",
   "execution_count": 66,
   "metadata": {},
   "outputs": [
    {
     "ename": "KeyError",
     "evalue": "'GR'",
     "output_type": "error",
     "traceback": [
      "\u001b[1;31m---------------------------------------------------------------------------\u001b[0m",
      "\u001b[1;31mKeyError\u001b[0m                                  Traceback (most recent call last)",
      "Cell \u001b[1;32mIn[66], line 27\u001b[0m\n\u001b[0;32m     23\u001b[0m \u001b[38;5;28;01mfor\u001b[39;00m frame \u001b[38;5;129;01min\u001b[39;00m poco\u001b[38;5;241m.\u001b[39mframes:\n\u001b[0;32m     25\u001b[0m     curvas \u001b[38;5;241m=\u001b[39m frame\u001b[38;5;241m.\u001b[39mcurves()\n\u001b[1;32m---> 27\u001b[0m     dataframe \u001b[38;5;241m=\u001b[39m pd\u001b[38;5;241m.\u001b[39mconcat([dataframe, pd\u001b[38;5;241m.\u001b[39mDataFrame(\u001b[43mcurvas\u001b[49m\u001b[43m[\u001b[49m\u001b[43mcurvas_utilizadas_sem_duplicados\u001b[49m\u001b[43m]\u001b[49m)])\n\u001b[0;32m     29\u001b[0m \u001b[38;5;66;03m# Criando um pandas dataframe do poço respectivo à atual iteração e armazenando o mesmo em dlis_df\u001b[39;00m\n\u001b[0;32m     30\u001b[0m dlis_df_dict[chave] \u001b[38;5;241m=\u001b[39m dataframe\n",
      "\u001b[1;31mKeyError\u001b[0m: 'GR'"
     ]
    }
   ],
   "source": [
    "dlis_df_dict = {}   # Conterá os dataframes respectivos aos poços\n",
    "\n",
    "# Curvas de perfis escolhidas\n",
    "curvas_escolhidas = ['TDEP', 'GR', 'NPHI', 'RHOB', 'DRHO', 'HDRS', 'LLD', 'BSZ', 'BS', 'CALI', 'DCALI', 'PE', 'DTC']\n",
    "\n",
    "# Iterando sobre os arquivos lógicos de todos os poços (que estão armazenados em 'dli_dict'),\n",
    "# '.values()' se refere aos valores do dicionário (não às chaves)\n",
    "for chave, poco in dli_dict.items():\n",
    "\n",
    "    # Armazenando as curvas que serão utilizadas em uma lista\n",
    "    curvas_utilizadas = [\n",
    "        channel.name                                    # Os elementos da lista serão os nomes das curvas\n",
    "        for channel in poco.channels                    # As curvas são acessadas por meio de 'poco.channels'\n",
    "        if channel.name in curvas_escolhidas            # As curvas que não utilizaremos não serão armazenadas na lista\n",
    "    ]\n",
    "    conjunto_aux = set(curvas_utilizadas)\n",
    "    curvas_utilizadas_sem_duplicados = list(conjunto_aux)\n",
    "    \n",
    "    #frames = [np.atleast_1d(frame) for frame in poco.frames]\n",
    "    #curvas = np.concatenate(frames, axis=0)\n",
    "    dataframe = pd.DataFrame()\n",
    "    \n",
    "    for frame in poco.frames:\n",
    "\n",
    "        curvas = frame.curves()\n",
    "\n",
    "        dataframe = pd.concat([dataframe, pd.DataFrame(curvas[curvas_utilizadas_sem_duplicados])])\n",
    "\n",
    "    # Criando um pandas dataframe do poço respectivo à atual iteração e armazenando o mesmo em dlis_df\n",
    "    dlis_df_dict[chave] = dataframe\n"
   ]
  },
  {
   "cell_type": "code",
   "execution_count": 64,
   "metadata": {},
   "outputs": [
    {
     "data": {
      "text/plain": [
       "dict_keys(['551', '574', '595', '605', '659', '900', '889', '912', '897', '910', '907'])"
      ]
     },
     "execution_count": 64,
     "metadata": {},
     "output_type": "execute_result"
    }
   ],
   "source": [
    "dlis_df_dict.keys()"
   ]
  },
  {
   "cell_type": "markdown",
   "metadata": {},
   "source": [
    "## Transforma os valores -999.25 em nulos"
   ]
  },
  {
   "cell_type": "code",
   "execution_count": null,
   "metadata": {},
   "outputs": [],
   "source": [
    "for poco in dlis_df_dict.values():\n",
    "    poco.replace([-999.25], [None], inplace = True)"
   ]
  },
  {
   "cell_type": "markdown",
   "metadata": {},
   "source": [
    "## Aplicando os mnemônicos"
   ]
  },
  {
   "cell_type": "code",
   "execution_count": null,
   "metadata": {},
   "outputs": [],
   "source": [
    "aplica_mnemonico(dlis_df_dict, ['BS', 'BSZ'], 'BS')\n",
    "aplica_mnemonico(dlis_df_dict, ['LLD', 'HDRS'], 'RESD')\n",
    "aplica_mnemonico(dlis_df_dict, ['RHOB', 'RHOZ'], 'RHOB')"
   ]
  },
  {
   "cell_type": "markdown",
   "metadata": {},
   "source": [
    "## Renomeia CALI para CAL"
   ]
  },
  {
   "cell_type": "code",
   "execution_count": null,
   "metadata": {},
   "outputs": [],
   "source": [
    "for poco in dlis_df_dict.values():\n",
    "    renomeia_coluna(poco, 'CALI', 'CAL')"
   ]
  },
  {
   "cell_type": "markdown",
   "metadata": {},
   "source": [
    "## Adiciona coluna DCAL"
   ]
  },
  {
   "cell_type": "code",
   "execution_count": null,
   "metadata": {},
   "outputs": [],
   "source": [
    "add_DCAL(dlis_df_dict)"
   ]
  },
  {
   "cell_type": "markdown",
   "metadata": {},
   "source": [
    "## Preenche os poços com curvas faltando"
   ]
  },
  {
   "cell_type": "code",
   "execution_count": null,
   "metadata": {},
   "outputs": [],
   "source": [
    "# Se um dos poços não tiver uma dessas curvas, adicionamos a coluna da curva e mantemos os valores como None\n",
    "curvas_obrigatorias = ['BS', 'CAL', 'DCAL', 'DRHO', 'DTC', 'GR', 'NPHI', 'PE', 'RESD', 'RHOB', 'TDEP']\n",
    "\n",
    "# Percorre todos os poços\n",
    "for poco in dlis_df_dict.values():\n",
    "    # Percorre todas as curvas obrigatórias\n",
    "    for curva in curvas_obrigatorias:\n",
    "        # Se o poço não tiver a curva\n",
    "        if curva not in poco.columns:\n",
    "            # Adiciona a coluna e os valores dela = None\n",
    "            poco[curva] = None"
   ]
  },
  {
   "cell_type": "markdown",
   "metadata": {},
   "source": [
    "## Temos as seguintes curvas "
   ]
  },
  {
   "cell_type": "code",
   "execution_count": null,
   "metadata": {},
   "outputs": [
    {
     "name": "stdout",
     "output_type": "stream",
     "text": [
      "551: ['BS', 'CAL', 'DCAL', 'DRHO', 'DTC', 'GR', 'NPHI', 'PE', 'RESD', 'RHOB', 'TDEP']\n",
      "574: ['BS', 'CAL', 'DCAL', 'DRHO', 'DTC', 'GR', 'NPHI', 'PE', 'RESD', 'RHOB', 'TDEP']\n",
      "595: ['BS', 'CAL', 'DCAL', 'DRHO', 'DTC', 'GR', 'NPHI', 'PE', 'RESD', 'RHOB', 'TDEP']\n",
      "605: ['BS', 'CAL', 'DCAL', 'DRHO', 'DTC', 'GR', 'NPHI', 'PE', 'RESD', 'RHOB', 'TDEP']\n",
      "659: ['BS', 'CAL', 'DCAL', 'DRHO', 'DTC', 'GR', 'NPHI', 'PE', 'RESD', 'RHOB', 'TDEP']\n",
      "900: ['BS', 'CAL', 'DCAL', 'DRHO', 'DTC', 'GR', 'NPHI', 'PE', 'RESD', 'RHOB', 'TDEP']\n",
      "889: ['BS', 'CAL', 'DCAL', 'DRHO', 'DTC', 'GR', 'NPHI', 'PE', 'RESD', 'RHOB', 'TDEP']\n",
      "912: ['BS', 'CAL', 'DCAL', 'DRHO', 'DTC', 'GR', 'NPHI', 'PE', 'RESD', 'RHOB', 'TDEP']\n",
      "897: ['BS', 'CAL', 'DCAL', 'DRHO', 'DTC', 'GR', 'NPHI', 'PE', 'RESD', 'RHOB', 'TDEP']\n",
      "910: ['BS', 'CAL', 'DCAL', 'DRHO', 'DTC', 'GR', 'NPHI', 'PE', 'RESD', 'RHOB', 'TDEP']\n",
      "907: ['BS', 'CAL', 'DCAL', 'DRHO', 'DTC', 'GR', 'NPHI', 'PE', 'RESD', 'RHOB', 'TDEP']\n"
     ]
    }
   ],
   "source": [
    "for key, poco in dlis_df_dict.items():\n",
    "    curvas = sorted(poco.keys())\n",
    "    print(f\"{key}: {curvas}\")"
   ]
  },
  {
   "cell_type": "markdown",
   "metadata": {},
   "source": [
    "## Remove valores DRHO e DCAL indesejados (Só depois)"
   ]
  },
  {
   "cell_type": "code",
   "execution_count": null,
   "metadata": {},
   "outputs": [],
   "source": [
    "#limita_curva(dlis_df_dict, \"DRHO\", -0.15, 0.15)\n",
    "#limita_curva(dlis_df_dict, \"DCAL\", -2, 2)"
   ]
  },
  {
   "cell_type": "markdown",
   "metadata": {},
   "source": [
    "## Inverte a ordem das linhas dos dataframes"
   ]
  },
  {
   "cell_type": "code",
   "execution_count": null,
   "metadata": {},
   "outputs": [],
   "source": [
    "for key in dlis_df_dict.keys():\n",
    "    dlis_df_dict[key] = dlis_df_dict[key].iloc[::-1]"
   ]
  },
  {
   "cell_type": "markdown",
   "metadata": {},
   "source": [
    "## Ordena os dataframes"
   ]
  },
  {
   "cell_type": "code",
   "execution_count": null,
   "metadata": {},
   "outputs": [],
   "source": [
    "ordem_desejada = ['TDEP', 'GR', 'RESD', 'BS', 'CAL', 'DCAL', 'NPHI', 'PE', 'DRHO', 'RHOB', 'DTC']\n",
    "\n",
    "for key in dlis_df_dict.keys():\n",
    "    dlis_df_dict[key] = dlis_df_dict[key].reindex(columns=ordem_desejada)"
   ]
  },
  {
   "cell_type": "markdown",
   "metadata": {},
   "source": [
    "## Salva os dados dos dataframes em arquivos CSV"
   ]
  },
  {
   "cell_type": "code",
   "execution_count": null,
   "metadata": {},
   "outputs": [
    {
     "name": "stdout",
     "output_type": "stream",
     "text": [
      "Arquivo Pocos_CSV/poco_551.csv criado com sucesso.\n",
      "Arquivo Pocos_CSV/poco_574.csv criado com sucesso.\n",
      "Arquivo Pocos_CSV/poco_595.csv criado com sucesso.\n",
      "Arquivo Pocos_CSV/poco_605.csv criado com sucesso.\n",
      "Arquivo Pocos_CSV/poco_659.csv criado com sucesso.\n",
      "Arquivo Pocos_CSV/poco_900.csv criado com sucesso.\n",
      "Arquivo Pocos_CSV/poco_889.csv criado com sucesso.\n",
      "Arquivo Pocos_CSV/poco_912.csv criado com sucesso.\n",
      "Arquivo Pocos_CSV/poco_897.csv criado com sucesso.\n",
      "Arquivo Pocos_CSV/poco_910.csv criado com sucesso.\n",
      "Arquivo Pocos_CSV/poco_907.csv criado com sucesso.\n"
     ]
    }
   ],
   "source": [
    "for key, value in dlis_df_dict.items():\n",
    "    file_name = f\"Pocos_CSV/poco_{key}.csv\"\n",
    "    value.to_csv(file_name, index=False)\n",
    "    print(f\"Arquivo {file_name} criado com sucesso.\")"
   ]
  }
 ],
 "metadata": {
  "kernelspec": {
   "display_name": "Python 3",
   "language": "python",
   "name": "python3"
  },
  "language_info": {
   "codemirror_mode": {
    "name": "ipython",
    "version": 3
   },
   "file_extension": ".py",
   "mimetype": "text/x-python",
   "name": "python",
   "nbconvert_exporter": "python",
   "pygments_lexer": "ipython3",
   "version": "3.10.2"
  }
 },
 "nbformat": 4,
 "nbformat_minor": 2
}
