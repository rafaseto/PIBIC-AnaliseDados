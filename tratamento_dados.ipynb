{
 "cells": [
  {
   "cell_type": "markdown",
   "metadata": {},
   "source": [
    "## Importa funções para o pré-processamento"
   ]
  },
  {
   "cell_type": "code",
   "execution_count": 1,
   "metadata": {},
   "outputs": [],
   "source": [
    "from pre_processamento import *\n",
    "\n",
    "from dlisio import dlis\n",
    "import pandas as pd\n",
    "import numpy as np\n",
    "\n",
    "# A função 'glob' do módulo 'glob' é usada para procurar todos os arquivos em um diretório com determinada extensão\n",
    "import glob"
   ]
  },
  {
   "cell_type": "markdown",
   "metadata": {},
   "source": [
    "## Carrega os dados"
   ]
  },
  {
   "cell_type": "code",
   "execution_count": 2,
   "metadata": {},
   "outputs": [],
   "source": [
    "nomes_arquivos = []     # Armazena os nomes dos arquivos .dlis\n",
    "leituras_dlis = []      # Armazena as leituras dos arquivos .dlis\n",
    "nomes_anp = []          # Armazena os nomes obtidos das leituras\n",
    "\n",
    "for file in glob.glob(r'**/Data' + \"/*.dlis\", recursive=True):\n",
    "    # Salva o nome do arquivo\n",
    "    nomes_arquivos.append(file)\n",
    "\n",
    "    # Salva os dados da leitura\n",
    "    leitura, *tail = dlis.load(f'{file}')\n",
    "    leituras_dlis.append(leitura)\n",
    "\n",
    "    # Salva o nome do poço\n",
    "    nome = leitura.origins[0].well_name\n",
    "    nomes_anp.append(nome)"
   ]
  },
  {
   "cell_type": "code",
   "execution_count": 3,
   "metadata": {},
   "outputs": [
    {
     "name": "stdout",
     "output_type": "stream",
     "text": [
      "['Data\\\\1-brsa-551-se_brsa_raw.dlis', 'Data\\\\1-brsa-574-se_brsa_raw.dlis', 'Data\\\\1-brsa-595-se_brsa_raw-1.dlis', 'Data\\\\1-brsa-605-se_brsa_raw.dlis', 'Data\\\\1-brsa-659-se_brsa_raw.dlis']\n",
      "['1-FSG-1-SE', '1-FSJQ-1-SE', '1-BRSA-595-SE', '1-BRSA-605-SE', '1-BRSA-659-SE']\n"
     ]
    }
   ],
   "source": [
    "print(nomes_arquivos)\n",
    "print(nomes_anp)"
   ]
  },
  {
   "cell_type": "markdown",
   "metadata": {},
   "source": [
    "## Cria dicionário para armazenar os dados e respectivos nomes"
   ]
  },
  {
   "cell_type": "code",
   "execution_count": 4,
   "metadata": {},
   "outputs": [
    {
     "data": {
      "text/plain": [
       "{'1-FSG-1-SE': LogicalFile(AIT_SONIC_TLD_MCFL_018PUP),\n",
       " '1-FSJQ-1-SE': LogicalFile(GEOLOAD.1),\n",
       " '1-BRSA-595-SE': LogicalFile(GEOLOAD.1),\n",
       " '1-BRSA-605-SE': LogicalFile(AIT_SONIC_TLD_MCFL_048PUC),\n",
       " '1-BRSA-659-SE': LogicalFile(GEOLOAD.1)}"
      ]
     },
     "execution_count": 4,
     "metadata": {},
     "output_type": "execute_result"
    }
   ],
   "source": [
    "# Casa itens da lista 'nome_anp_abreviados' com os itens da lista 'leituras_dlis'\n",
    "pares = zip(nomes_anp, leituras_dlis)\n",
    "\n",
    "# Cria dicionário 'dli_dict'\n",
    "dli_dict = dict(pares)\n",
    "dli_dict"
   ]
  },
  {
   "cell_type": "markdown",
   "metadata": {},
   "source": [
    "## Separa TODAS as curvas presentes nos .dlis de cada poço"
   ]
  },
  {
   "cell_type": "code",
   "execution_count": 5,
   "metadata": {},
   "outputs": [],
   "source": [
    "channels_dict = {}\n",
    "\n",
    "for key, poco in dli_dict.items():\n",
    "    channels_list = []\n",
    "    for frame in poco.frames:\n",
    "        channels = frame.channels\n",
    "        channels_list.append([channel.name for channel in channels])\n",
    "    channels_dict[key] = sum(channels_list, [])"
   ]
  },
  {
   "cell_type": "markdown",
   "metadata": {},
   "source": [
    "## Concatena os arquivos CSV das curvas em um único arquivo"
   ]
  },
  {
   "cell_type": "code",
   "execution_count": 6,
   "metadata": {},
   "outputs": [
    {
     "name": "stdout",
     "output_type": "stream",
     "text": [
      "Arquivo Curvas_CSV/curvas_pocos.csv criado com sucesso\n"
     ]
    }
   ],
   "source": [
    "import os\n",
    "\n",
    "pasta = \"Curvas_CSV\"\n",
    "\n",
    "# Lista para armazenar os dataframes repectivos aos .csv\n",
    "df_list = []\n",
    "\n",
    "# Itera sobre a pasta Curvas_CSV\n",
    "for arquivo in os.listdir(pasta):\n",
    "    file_path = os.path.join(pasta, arquivo)\n",
    "\n",
    "    # Lê o arquivo CSV como um DF\n",
    "    df = pd.read_csv(file_path)\n",
    "    df_list.append(df)\n",
    "\n",
    "# Concatena os DFs ao longo do eixo das colunas\n",
    "df_concat = pd.concat(df_list, axis=0, ignore_index=True)\n",
    "\n",
    "# Salva o DF concatenado em um .csv\n",
    "df_concat.to_csv(\"Curvas_CSV/curvas_pocos.csv\", index=False)\n",
    "\n",
    "print(\"Arquivo Curvas_CSV/curvas_pocos.csv criado com sucesso\")"
   ]
  },
  {
   "cell_type": "markdown",
   "metadata": {},
   "source": [
    "## Processa os 'frames' do poço 1-BRSA-551-SE"
   ]
  },
  {
   "cell_type": "markdown",
   "metadata": {},
   "source": [
    "#### Quantidade de 'frames' do poço 1-BRSA-551-SE"
   ]
  },
  {
   "cell_type": "code",
   "execution_count": 31,
   "metadata": {},
   "outputs": [
    {
     "data": {
      "text/plain": [
       "[Frame(60B),\n",
       " Frame(10B),\n",
       " Frame(5B),\n",
       " Frame(30B),\n",
       " Frame(120B),\n",
       " Frame(180B),\n",
       " Frame(20B),\n",
       " Frame(1B),\n",
       " Frame(2B)]"
      ]
     },
     "execution_count": 31,
     "metadata": {},
     "output_type": "execute_result"
    }
   ],
   "source": [
    "dli_dict['1-FSG-1-SE'].frames"
   ]
  },
  {
   "cell_type": "markdown",
   "metadata": {},
   "source": [
    "#### Cria um 'dataframe' para cada 'frame'"
   ]
  },
  {
   "cell_type": "markdown",
   "metadata": {},
   "source": [
    "## Processa os 'frames' do poço 1-BRSA-605-SE"
   ]
  },
  {
   "cell_type": "markdown",
   "metadata": {},
   "source": [
    "#### Quantidade de 'frames' no poço 1-BRSA-605-SE"
   ]
  },
  {
   "cell_type": "code",
   "execution_count": 4,
   "metadata": {},
   "outputs": [
    {
     "data": {
      "text/plain": [
       "[Frame(60B), Frame(10B), Frame(30B), Frame(20B)]"
      ]
     },
     "execution_count": 4,
     "metadata": {},
     "output_type": "execute_result"
    }
   ],
   "source": [
    "dli_dict['1-BRSA-605-SE'].frames"
   ]
  },
  {
   "cell_type": "markdown",
   "metadata": {},
   "source": [
    "#### Cria um 'dataframe' para cada 'frame'"
   ]
  },
  {
   "cell_type": "code",
   "execution_count": 5,
   "metadata": {},
   "outputs": [],
   "source": [
    "dataframes_605 = {}\n",
    "poco = dli_dict['1-BRSA-605-SE']\n",
    "\n",
    "for frame in poco.frames:\n",
    "    indice = poco.frames.index(frame)\n",
    "\n",
    "    curves = pd.DataFrame(frame.curves())\n",
    "\n",
    "    dataframes_605[indice] = curves"
   ]
  },
  {
   "cell_type": "markdown",
   "metadata": {},
   "source": [
    "#### Move a vírgula uma casa para a esquerda em todos os valores das colunas TDEP"
   ]
  },
  {
   "cell_type": "code",
   "execution_count": 6,
   "metadata": {},
   "outputs": [],
   "source": [
    "for value in dataframes_605.values():\n",
    "    value[\"TDEP\"] = value[\"TDEP\"] / 10"
   ]
  },
  {
   "cell_type": "markdown",
   "metadata": {},
   "source": [
    "#### Converte de polegada para metro"
   ]
  },
  {
   "cell_type": "code",
   "execution_count": 7,
   "metadata": {},
   "outputs": [],
   "source": [
    "for value in dataframes_605.values():\n",
    "    value[\"TDEP\"] = value[\"TDEP\"] * 0.0254"
   ]
  },
  {
   "cell_type": "markdown",
   "metadata": {},
   "source": [
    "#### Salva os dataframes como arquivos CSV"
   ]
  },
  {
   "cell_type": "code",
   "execution_count": 8,
   "metadata": {},
   "outputs": [
    {
     "name": "stdout",
     "output_type": "stream",
     "text": [
      "Arquivo Frames_605/frame_0.csv criado com sucesso.\n",
      "Arquivo Frames_605/frame_1.csv criado com sucesso.\n",
      "Arquivo Frames_605/frame_2.csv criado com sucesso.\n",
      "Arquivo Frames_605/frame_3.csv criado com sucesso.\n"
     ]
    }
   ],
   "source": [
    "for key, value in dataframes_605.items():\n",
    "    file_name = f\"Frames_605/frame_{key}.csv\"\n",
    "    value.to_csv(file_name, index=False)\n",
    "    print(f\"Arquivo {file_name} criado com sucesso.\")"
   ]
  },
  {
   "cell_type": "markdown",
   "metadata": {},
   "source": [
    "#### Remove valores de profundidade que não estão presentes no primeiro frame"
   ]
  },
  {
   "cell_type": "code",
   "execution_count": 9,
   "metadata": {},
   "outputs": [],
   "source": [
    "for key, value in dataframes_605.items():\n",
    "    dataframes_605[key] = value[value[\"TDEP\"].isin(dataframes_605[0][\"TDEP\"])]"
   ]
  },
  {
   "cell_type": "markdown",
   "metadata": {},
   "source": [
    "#### Junta os 4 dataframes "
   ]
  },
  {
   "cell_type": "code",
   "execution_count": 10,
   "metadata": {},
   "outputs": [],
   "source": [
    "dataframes_605_merged = dataframes_605[0]\n",
    "\n",
    "for i in range(1, len(dataframes_605)):\n",
    "    dataframes_605_merged = pd.merge(dataframes_605_merged, dataframes_605[i], on='TDEP', how='outer', suffixes=(None, \"_new\"))"
   ]
  },
  {
   "cell_type": "markdown",
   "metadata": {},
   "source": [
    "#### Mantém apenas as curvas escolhidas"
   ]
  },
  {
   "cell_type": "code",
   "execution_count": 11,
   "metadata": {},
   "outputs": [],
   "source": [
    "curvas_escolhidas = ['TDEP', 'GR', 'NPHI', 'RHOB', 'RHOZ', 'DRHO', 'BSZ', 'BS', 'HCAL', 'CAL', 'CALI', 'DCALI', 'DCAL', 'PE', 'DT', 'DTC', 'ILD', 'RILD', 'IEL', 'AIT90', 'AHT90', 'RT90', 'AT90', 'AO90', 'RT', 'AF90', 'AHF90', 'AFH90', 'LLD', 'RLLD', 'HDRS', 'HLLD', 'LL7', 'RLL7']\n",
    "\n",
    "# Remove colunas duplicadas \n",
    "dataframes_605_merged = dataframes_605_merged.loc[:, ~dataframes_605_merged.columns.duplicated()]\n",
    "\n",
    "# Filtra de modo a manter apenas as curvas escolhidas\n",
    "dataframes_605_merged_filtered = dataframes_605_merged.filter(items=curvas_escolhidas)"
   ]
  },
  {
   "cell_type": "code",
   "execution_count": 12,
   "metadata": {},
   "outputs": [
    {
     "data": {
      "text/html": [
       "<div>\n",
       "<style scoped>\n",
       "    .dataframe tbody tr th:only-of-type {\n",
       "        vertical-align: middle;\n",
       "    }\n",
       "\n",
       "    .dataframe tbody tr th {\n",
       "        vertical-align: top;\n",
       "    }\n",
       "\n",
       "    .dataframe thead th {\n",
       "        text-align: right;\n",
       "    }\n",
       "</style>\n",
       "<table border=\"1\" class=\"dataframe\">\n",
       "  <thead>\n",
       "    <tr style=\"text-align: right;\">\n",
       "      <th></th>\n",
       "      <th>TDEP</th>\n",
       "      <th>GR</th>\n",
       "      <th>NPHI</th>\n",
       "      <th>RHOZ</th>\n",
       "      <th>BS</th>\n",
       "      <th>HCAL</th>\n",
       "      <th>DT</th>\n",
       "      <th>AHF90</th>\n",
       "    </tr>\n",
       "  </thead>\n",
       "  <tbody>\n",
       "    <tr>\n",
       "      <th>0</th>\n",
       "      <td>671.169617</td>\n",
       "      <td>47.261490</td>\n",
       "      <td>0.263958</td>\n",
       "      <td>-999.25000</td>\n",
       "      <td>8.5</td>\n",
       "      <td>3.887136</td>\n",
       "      <td>82.793983</td>\n",
       "      <td>0.812778</td>\n",
       "    </tr>\n",
       "    <tr>\n",
       "      <th>1</th>\n",
       "      <td>671.017212</td>\n",
       "      <td>47.261490</td>\n",
       "      <td>0.263958</td>\n",
       "      <td>-999.25000</td>\n",
       "      <td>8.5</td>\n",
       "      <td>3.887136</td>\n",
       "      <td>82.793983</td>\n",
       "      <td>0.812771</td>\n",
       "    </tr>\n",
       "    <tr>\n",
       "      <th>2</th>\n",
       "      <td>670.864807</td>\n",
       "      <td>47.261490</td>\n",
       "      <td>0.263958</td>\n",
       "      <td>-999.25000</td>\n",
       "      <td>8.5</td>\n",
       "      <td>3.887136</td>\n",
       "      <td>82.793983</td>\n",
       "      <td>0.811494</td>\n",
       "    </tr>\n",
       "    <tr>\n",
       "      <th>3</th>\n",
       "      <td>670.712402</td>\n",
       "      <td>47.261490</td>\n",
       "      <td>0.263958</td>\n",
       "      <td>-999.25000</td>\n",
       "      <td>8.5</td>\n",
       "      <td>3.887136</td>\n",
       "      <td>82.793983</td>\n",
       "      <td>0.810167</td>\n",
       "    </tr>\n",
       "    <tr>\n",
       "      <th>4</th>\n",
       "      <td>670.559998</td>\n",
       "      <td>47.261490</td>\n",
       "      <td>0.263958</td>\n",
       "      <td>-999.25000</td>\n",
       "      <td>8.5</td>\n",
       "      <td>3.887136</td>\n",
       "      <td>82.793983</td>\n",
       "      <td>0.809051</td>\n",
       "    </tr>\n",
       "    <tr>\n",
       "      <th>...</th>\n",
       "      <td>...</td>\n",
       "      <td>...</td>\n",
       "      <td>...</td>\n",
       "      <td>...</td>\n",
       "      <td>...</td>\n",
       "      <td>...</td>\n",
       "      <td>...</td>\n",
       "      <td>...</td>\n",
       "    </tr>\n",
       "    <tr>\n",
       "      <th>4235</th>\n",
       "      <td>25.755600</td>\n",
       "      <td>59.688400</td>\n",
       "      <td>0.463366</td>\n",
       "      <td>2.14924</td>\n",
       "      <td>8.5</td>\n",
       "      <td>3.812884</td>\n",
       "      <td>60.000000</td>\n",
       "      <td>7.044221</td>\n",
       "    </tr>\n",
       "    <tr>\n",
       "      <th>4236</th>\n",
       "      <td>25.603199</td>\n",
       "      <td>59.507236</td>\n",
       "      <td>0.459518</td>\n",
       "      <td>2.14924</td>\n",
       "      <td>8.5</td>\n",
       "      <td>3.812884</td>\n",
       "      <td>60.000000</td>\n",
       "      <td>7.044221</td>\n",
       "    </tr>\n",
       "    <tr>\n",
       "      <th>4237</th>\n",
       "      <td>25.450800</td>\n",
       "      <td>59.372772</td>\n",
       "      <td>0.460849</td>\n",
       "      <td>2.14924</td>\n",
       "      <td>8.5</td>\n",
       "      <td>3.802276</td>\n",
       "      <td>60.000000</td>\n",
       "      <td>7.044221</td>\n",
       "    </tr>\n",
       "    <tr>\n",
       "      <th>4238</th>\n",
       "      <td>25.298399</td>\n",
       "      <td>60.822781</td>\n",
       "      <td>0.484079</td>\n",
       "      <td>2.14924</td>\n",
       "      <td>8.5</td>\n",
       "      <td>3.823491</td>\n",
       "      <td>60.000000</td>\n",
       "      <td>7.044221</td>\n",
       "    </tr>\n",
       "    <tr>\n",
       "      <th>4239</th>\n",
       "      <td>25.146000</td>\n",
       "      <td>60.822781</td>\n",
       "      <td>0.484079</td>\n",
       "      <td>NaN</td>\n",
       "      <td>8.5</td>\n",
       "      <td>NaN</td>\n",
       "      <td>60.000000</td>\n",
       "      <td>NaN</td>\n",
       "    </tr>\n",
       "  </tbody>\n",
       "</table>\n",
       "<p>4240 rows × 8 columns</p>\n",
       "</div>"
      ],
      "text/plain": [
       "            TDEP         GR      NPHI       RHOZ   BS      HCAL         DT  \\\n",
       "0     671.169617  47.261490  0.263958 -999.25000  8.5  3.887136  82.793983   \n",
       "1     671.017212  47.261490  0.263958 -999.25000  8.5  3.887136  82.793983   \n",
       "2     670.864807  47.261490  0.263958 -999.25000  8.5  3.887136  82.793983   \n",
       "3     670.712402  47.261490  0.263958 -999.25000  8.5  3.887136  82.793983   \n",
       "4     670.559998  47.261490  0.263958 -999.25000  8.5  3.887136  82.793983   \n",
       "...          ...        ...       ...        ...  ...       ...        ...   \n",
       "4235   25.755600  59.688400  0.463366    2.14924  8.5  3.812884  60.000000   \n",
       "4236   25.603199  59.507236  0.459518    2.14924  8.5  3.812884  60.000000   \n",
       "4237   25.450800  59.372772  0.460849    2.14924  8.5  3.802276  60.000000   \n",
       "4238   25.298399  60.822781  0.484079    2.14924  8.5  3.823491  60.000000   \n",
       "4239   25.146000  60.822781  0.484079        NaN  8.5       NaN  60.000000   \n",
       "\n",
       "         AHF90  \n",
       "0     0.812778  \n",
       "1     0.812771  \n",
       "2     0.811494  \n",
       "3     0.810167  \n",
       "4     0.809051  \n",
       "...        ...  \n",
       "4235  7.044221  \n",
       "4236  7.044221  \n",
       "4237  7.044221  \n",
       "4238  7.044221  \n",
       "4239       NaN  \n",
       "\n",
       "[4240 rows x 8 columns]"
      ]
     },
     "execution_count": 12,
     "metadata": {},
     "output_type": "execute_result"
    }
   ],
   "source": [
    "dataframes_605_merged_filtered"
   ]
  },
  {
   "cell_type": "code",
   "execution_count": 13,
   "metadata": {},
   "outputs": [],
   "source": [
    "dlis_df_dict = {}   # Conterá os dataframes respectivos aos poços\n",
    "\n",
    "# Curvas de perfis escolhidas\n",
    "curvas_escolhidas = ['TDEP', 'GR', 'NPHI', 'RHOB', 'RHOZ', 'DRHO', 'BSZ', 'BS', 'HCAL', 'CAL', 'CALI', 'DCALI', 'DCAL', 'PE', 'DT', 'DTC', 'ILD', 'RILD', 'IEL', 'AIT90', 'AHT90', 'RT90', 'AT90', 'AO90', 'RT', 'AF90', 'AHF90', 'AFH90', 'LLD', 'RLLD', 'HDRS', 'HLLD', 'LL7', 'RLL7']\n",
    "\n",
    "\n",
    "# Iterando sobre os arquivos lógicos de todos os poços (que estão armazenados em 'dli_dict'),\n",
    "# '.values()' se refere aos valores do dicionário (não às chaves)\n",
    "for chave, poco in dli_dict.items():\n",
    "\n",
    "    # Armazenando as curvas que serão utilizadas em uma lista\n",
    "    curvas_utilizadas = [\n",
    "        channel.name                                    # Os elementos da lista serão os nomes das curvas\n",
    "        for channel in poco.channels                    # As curvas são acessadas por meio de 'poco.channels'\n",
    "        if channel.name in curvas_escolhidas            # As curvas que não utilizaremos não serão armazenadas na lista\n",
    "    ]\n",
    "    conjunto_aux = set(curvas_utilizadas)\n",
    "    curvas_utilizadas_sem_duplicados = list(conjunto_aux)\n",
    "    \n",
    "    #frames = [np.atleast_1d(frame) for frame in poco.frames]\n",
    "    #curvas = np.concatenate(frames, axis=0)\n",
    "    try:\n",
    "        dataframe = pd.DataFrame()\n",
    "        \n",
    "        for frame in poco.frames:\n",
    "\n",
    "            curvas = frame.curves()\n",
    "\n",
    "            dataframe = pd.concat([dataframe, pd.DataFrame(curvas[curvas_utilizadas_sem_duplicados])])\n",
    "\n",
    "        # Criando um pandas dataframe do poço respectivo à atual iteração e armazenando o mesmo em dlis_df\n",
    "        dlis_df_dict[chave] = dataframe\n",
    "    except:\n",
    "        pass\n"
   ]
  },
  {
   "cell_type": "code",
   "execution_count": 14,
   "metadata": {},
   "outputs": [
    {
     "data": {
      "text/plain": [
       "dict_keys(['1-FSJQ-1-SE', '1-BRSA-595-SE', '1-BRSA-659-SE', '3-BRSA-900-SE', '3-BRSA-889-SE', '3-BRSA-912-SE', '3-BRSA-897-SE', '3-BRSA-910-SE', '3-BRSA-907-SE', '1-BRSA-605-SE'])"
      ]
     },
     "execution_count": 14,
     "metadata": {},
     "output_type": "execute_result"
    }
   ],
   "source": [
    "dlis_df_dict['1-BRSA-605-SE'] = dataframes_605_merged_filtered\n",
    "dlis_df_dict.keys()"
   ]
  },
  {
   "cell_type": "markdown",
   "metadata": {},
   "source": [
    "## Transforma os valores -999.25 em nulos"
   ]
  },
  {
   "cell_type": "code",
   "execution_count": 15,
   "metadata": {},
   "outputs": [],
   "source": [
    "for poco in dlis_df_dict.values():\n",
    "    poco.replace([-999.25], [None], inplace = True)"
   ]
  },
  {
   "cell_type": "markdown",
   "metadata": {},
   "source": [
    "## Aplicando os mnemônicos"
   ]
  },
  {
   "cell_type": "code",
   "execution_count": 16,
   "metadata": {},
   "outputs": [],
   "source": [
    "aplica_mnemonico(dlis_df_dict, ['BS', 'BSZ'], 'BS')\n",
    "aplica_mnemonico(dlis_df_dict, ['LLD',\t'LL7',\t'RLLD',\t 'RLL7', 'HDRS', 'HLLD', 'ILD',\t'RILD',\t'IEL',\t'AIT90', 'AHT90', 'RT90', 'AT90', 'AO90', 'RT', 'AF90',\t'AHF90', 'AFH90'], 'RESD')\n",
    "aplica_mnemonico(dlis_df_dict, ['RHOB', 'RHOZ'], 'RHOB')\n",
    "aplica_mnemonico(dlis_df_dict, ['DTC', 'DT'], 'DT')\n",
    "aplica_mnemonico(dlis_df_dict, ['HCAL', 'CAL', 'CALI'], 'CAL')\n",
    "aplica_mnemonico(dlis_df_dict, ['DCAL', 'DCALI'], 'DCAL')\n",
    "aplica_mnemonico(dlis_df_dict, ['DRHO', 'HDRA'], 'DRHO')"
   ]
  },
  {
   "cell_type": "markdown",
   "metadata": {},
   "source": [
    "## Adiciona coluna DCAL"
   ]
  },
  {
   "cell_type": "code",
   "execution_count": 17,
   "metadata": {},
   "outputs": [],
   "source": [
    "add_DCAL(dlis_df_dict)"
   ]
  },
  {
   "cell_type": "markdown",
   "metadata": {},
   "source": [
    "## Preenche os poços com curvas faltando"
   ]
  },
  {
   "cell_type": "code",
   "execution_count": 18,
   "metadata": {},
   "outputs": [
    {
     "data": {
      "text/html": [
       "<div>\n",
       "<style scoped>\n",
       "    .dataframe tbody tr th:only-of-type {\n",
       "        vertical-align: middle;\n",
       "    }\n",
       "\n",
       "    .dataframe tbody tr th {\n",
       "        vertical-align: top;\n",
       "    }\n",
       "\n",
       "    .dataframe thead th {\n",
       "        text-align: right;\n",
       "    }\n",
       "</style>\n",
       "<table border=\"1\" class=\"dataframe\">\n",
       "  <thead>\n",
       "    <tr style=\"text-align: right;\">\n",
       "      <th></th>\n",
       "      <th>NPHI</th>\n",
       "      <th>RHOB</th>\n",
       "      <th>CAL</th>\n",
       "      <th>BS</th>\n",
       "      <th>DRHO</th>\n",
       "      <th>GR</th>\n",
       "      <th>RESD</th>\n",
       "      <th>DCAL</th>\n",
       "      <th>DT</th>\n",
       "      <th>TDEP</th>\n",
       "    </tr>\n",
       "  </thead>\n",
       "  <tbody>\n",
       "    <tr>\n",
       "      <th>0</th>\n",
       "      <td>None</td>\n",
       "      <td>None</td>\n",
       "      <td>None</td>\n",
       "      <td>None</td>\n",
       "      <td>None</td>\n",
       "      <td>None</td>\n",
       "      <td>None</td>\n",
       "      <td>NaN</td>\n",
       "      <td>None</td>\n",
       "      <td>702.5</td>\n",
       "    </tr>\n",
       "    <tr>\n",
       "      <th>1</th>\n",
       "      <td>0.31343</td>\n",
       "      <td>2.336259</td>\n",
       "      <td>8.640228</td>\n",
       "      <td>8.5</td>\n",
       "      <td>-0.008506</td>\n",
       "      <td>124.306984</td>\n",
       "      <td>None</td>\n",
       "      <td>0.140228</td>\n",
       "      <td>102.5</td>\n",
       "      <td>702.4</td>\n",
       "    </tr>\n",
       "    <tr>\n",
       "      <th>2</th>\n",
       "      <td>0.31343</td>\n",
       "      <td>2.336259</td>\n",
       "      <td>8.640228</td>\n",
       "      <td>8.5</td>\n",
       "      <td>-0.008506</td>\n",
       "      <td>124.306984</td>\n",
       "      <td>None</td>\n",
       "      <td>0.140228</td>\n",
       "      <td>102.5</td>\n",
       "      <td>702.3</td>\n",
       "    </tr>\n",
       "    <tr>\n",
       "      <th>3</th>\n",
       "      <td>0.31343</td>\n",
       "      <td>2.336259</td>\n",
       "      <td>8.640228</td>\n",
       "      <td>8.5</td>\n",
       "      <td>-0.008506</td>\n",
       "      <td>124.306984</td>\n",
       "      <td>None</td>\n",
       "      <td>0.140228</td>\n",
       "      <td>102.5</td>\n",
       "      <td>702.2</td>\n",
       "    </tr>\n",
       "    <tr>\n",
       "      <th>4</th>\n",
       "      <td>0.31343</td>\n",
       "      <td>2.336259</td>\n",
       "      <td>8.640228</td>\n",
       "      <td>8.5</td>\n",
       "      <td>-0.008506</td>\n",
       "      <td>124.306984</td>\n",
       "      <td>None</td>\n",
       "      <td>0.140228</td>\n",
       "      <td>102.5</td>\n",
       "      <td>702.1</td>\n",
       "    </tr>\n",
       "    <tr>\n",
       "      <th>...</th>\n",
       "      <td>...</td>\n",
       "      <td>...</td>\n",
       "      <td>...</td>\n",
       "      <td>...</td>\n",
       "      <td>...</td>\n",
       "      <td>...</td>\n",
       "      <td>...</td>\n",
       "      <td>...</td>\n",
       "      <td>...</td>\n",
       "      <td>...</td>\n",
       "    </tr>\n",
       "    <tr>\n",
       "      <th>6721</th>\n",
       "      <td>None</td>\n",
       "      <td>None</td>\n",
       "      <td>None</td>\n",
       "      <td>None</td>\n",
       "      <td>None</td>\n",
       "      <td>21.289391</td>\n",
       "      <td>None</td>\n",
       "      <td>NaN</td>\n",
       "      <td>None</td>\n",
       "      <td>30.4</td>\n",
       "    </tr>\n",
       "    <tr>\n",
       "      <th>6722</th>\n",
       "      <td>None</td>\n",
       "      <td>None</td>\n",
       "      <td>None</td>\n",
       "      <td>None</td>\n",
       "      <td>None</td>\n",
       "      <td>21.888773</td>\n",
       "      <td>None</td>\n",
       "      <td>NaN</td>\n",
       "      <td>None</td>\n",
       "      <td>30.3</td>\n",
       "    </tr>\n",
       "    <tr>\n",
       "      <th>6723</th>\n",
       "      <td>None</td>\n",
       "      <td>None</td>\n",
       "      <td>None</td>\n",
       "      <td>None</td>\n",
       "      <td>None</td>\n",
       "      <td>22.753702</td>\n",
       "      <td>None</td>\n",
       "      <td>NaN</td>\n",
       "      <td>None</td>\n",
       "      <td>30.2</td>\n",
       "    </tr>\n",
       "    <tr>\n",
       "      <th>6724</th>\n",
       "      <td>None</td>\n",
       "      <td>None</td>\n",
       "      <td>None</td>\n",
       "      <td>None</td>\n",
       "      <td>None</td>\n",
       "      <td>23.106503</td>\n",
       "      <td>None</td>\n",
       "      <td>NaN</td>\n",
       "      <td>None</td>\n",
       "      <td>30.1</td>\n",
       "    </tr>\n",
       "    <tr>\n",
       "      <th>6725</th>\n",
       "      <td>None</td>\n",
       "      <td>None</td>\n",
       "      <td>None</td>\n",
       "      <td>None</td>\n",
       "      <td>None</td>\n",
       "      <td>23.341702</td>\n",
       "      <td>None</td>\n",
       "      <td>NaN</td>\n",
       "      <td>None</td>\n",
       "      <td>30.0</td>\n",
       "    </tr>\n",
       "  </tbody>\n",
       "</table>\n",
       "<p>6726 rows × 10 columns</p>\n",
       "</div>"
      ],
      "text/plain": [
       "         NPHI      RHOB       CAL    BS      DRHO          GR  RESD      DCAL  \\\n",
       "0        None      None      None  None      None        None  None       NaN   \n",
       "1     0.31343  2.336259  8.640228   8.5 -0.008506  124.306984  None  0.140228   \n",
       "2     0.31343  2.336259  8.640228   8.5 -0.008506  124.306984  None  0.140228   \n",
       "3     0.31343  2.336259  8.640228   8.5 -0.008506  124.306984  None  0.140228   \n",
       "4     0.31343  2.336259  8.640228   8.5 -0.008506  124.306984  None  0.140228   \n",
       "...       ...       ...       ...   ...       ...         ...   ...       ...   \n",
       "6721     None      None      None  None      None   21.289391  None       NaN   \n",
       "6722     None      None      None  None      None   21.888773  None       NaN   \n",
       "6723     None      None      None  None      None   22.753702  None       NaN   \n",
       "6724     None      None      None  None      None   23.106503  None       NaN   \n",
       "6725     None      None      None  None      None   23.341702  None       NaN   \n",
       "\n",
       "         DT   TDEP  \n",
       "0      None  702.5  \n",
       "1     102.5  702.4  \n",
       "2     102.5  702.3  \n",
       "3     102.5  702.2  \n",
       "4     102.5  702.1  \n",
       "...     ...    ...  \n",
       "6721   None   30.4  \n",
       "6722   None   30.3  \n",
       "6723   None   30.2  \n",
       "6724   None   30.1  \n",
       "6725   None   30.0  \n",
       "\n",
       "[6726 rows x 10 columns]"
      ]
     },
     "execution_count": 18,
     "metadata": {},
     "output_type": "execute_result"
    }
   ],
   "source": [
    "dlis_df_dict['1-BRSA-595-SE']"
   ]
  },
  {
   "cell_type": "code",
   "execution_count": 19,
   "metadata": {},
   "outputs": [],
   "source": [
    "# Se um dos poços não tiver uma dessas curvas, adicionamos a coluna da curva e mantemos os valores como None\n",
    "curvas_obrigatorias = ['TDEP', 'BS', 'CAL', 'DCAL', 'GR', 'RESD', 'DT', 'RHOB', 'DRHO', 'NPHI', 'PE']\n",
    "\n",
    "# Percorre todos os poços\n",
    "for poco in dlis_df_dict.values():\n",
    "    # Percorre todas as curvas obrigatórias\n",
    "    for curva in curvas_obrigatorias:\n",
    "        # Se o poço não tiver a curva\n",
    "        if curva not in poco.columns:\n",
    "            # Adiciona a coluna e os valores dela = None\n",
    "            poco[curva] = None"
   ]
  },
  {
   "cell_type": "code",
   "execution_count": 20,
   "metadata": {},
   "outputs": [
    {
     "data": {
      "text/html": [
       "<div>\n",
       "<style scoped>\n",
       "    .dataframe tbody tr th:only-of-type {\n",
       "        vertical-align: middle;\n",
       "    }\n",
       "\n",
       "    .dataframe tbody tr th {\n",
       "        vertical-align: top;\n",
       "    }\n",
       "\n",
       "    .dataframe thead th {\n",
       "        text-align: right;\n",
       "    }\n",
       "</style>\n",
       "<table border=\"1\" class=\"dataframe\">\n",
       "  <thead>\n",
       "    <tr style=\"text-align: right;\">\n",
       "      <th></th>\n",
       "      <th>TDEP</th>\n",
       "      <th>GR</th>\n",
       "      <th>NPHI</th>\n",
       "      <th>RHOB</th>\n",
       "      <th>BS</th>\n",
       "      <th>CAL</th>\n",
       "      <th>DT</th>\n",
       "      <th>RESD</th>\n",
       "      <th>DCAL</th>\n",
       "      <th>DRHO</th>\n",
       "      <th>PE</th>\n",
       "    </tr>\n",
       "  </thead>\n",
       "  <tbody>\n",
       "    <tr>\n",
       "      <th>0</th>\n",
       "      <td>671.169617</td>\n",
       "      <td>47.261490</td>\n",
       "      <td>0.263958</td>\n",
       "      <td>None</td>\n",
       "      <td>8.5</td>\n",
       "      <td>3.887136</td>\n",
       "      <td>82.793983</td>\n",
       "      <td>0.812778</td>\n",
       "      <td>-4.612864</td>\n",
       "      <td>None</td>\n",
       "      <td>None</td>\n",
       "    </tr>\n",
       "    <tr>\n",
       "      <th>1</th>\n",
       "      <td>671.017212</td>\n",
       "      <td>47.261490</td>\n",
       "      <td>0.263958</td>\n",
       "      <td>None</td>\n",
       "      <td>8.5</td>\n",
       "      <td>3.887136</td>\n",
       "      <td>82.793983</td>\n",
       "      <td>0.812771</td>\n",
       "      <td>-4.612864</td>\n",
       "      <td>None</td>\n",
       "      <td>None</td>\n",
       "    </tr>\n",
       "    <tr>\n",
       "      <th>2</th>\n",
       "      <td>670.864807</td>\n",
       "      <td>47.261490</td>\n",
       "      <td>0.263958</td>\n",
       "      <td>None</td>\n",
       "      <td>8.5</td>\n",
       "      <td>3.887136</td>\n",
       "      <td>82.793983</td>\n",
       "      <td>0.811494</td>\n",
       "      <td>-4.612864</td>\n",
       "      <td>None</td>\n",
       "      <td>None</td>\n",
       "    </tr>\n",
       "    <tr>\n",
       "      <th>3</th>\n",
       "      <td>670.712402</td>\n",
       "      <td>47.261490</td>\n",
       "      <td>0.263958</td>\n",
       "      <td>None</td>\n",
       "      <td>8.5</td>\n",
       "      <td>3.887136</td>\n",
       "      <td>82.793983</td>\n",
       "      <td>0.810167</td>\n",
       "      <td>-4.612864</td>\n",
       "      <td>None</td>\n",
       "      <td>None</td>\n",
       "    </tr>\n",
       "    <tr>\n",
       "      <th>4</th>\n",
       "      <td>670.559998</td>\n",
       "      <td>47.261490</td>\n",
       "      <td>0.263958</td>\n",
       "      <td>None</td>\n",
       "      <td>8.5</td>\n",
       "      <td>3.887136</td>\n",
       "      <td>82.793983</td>\n",
       "      <td>0.809051</td>\n",
       "      <td>-4.612864</td>\n",
       "      <td>None</td>\n",
       "      <td>None</td>\n",
       "    </tr>\n",
       "    <tr>\n",
       "      <th>...</th>\n",
       "      <td>...</td>\n",
       "      <td>...</td>\n",
       "      <td>...</td>\n",
       "      <td>...</td>\n",
       "      <td>...</td>\n",
       "      <td>...</td>\n",
       "      <td>...</td>\n",
       "      <td>...</td>\n",
       "      <td>...</td>\n",
       "      <td>...</td>\n",
       "      <td>...</td>\n",
       "    </tr>\n",
       "    <tr>\n",
       "      <th>4235</th>\n",
       "      <td>25.755600</td>\n",
       "      <td>59.688400</td>\n",
       "      <td>0.463366</td>\n",
       "      <td>2.14924</td>\n",
       "      <td>8.5</td>\n",
       "      <td>3.812884</td>\n",
       "      <td>60.000000</td>\n",
       "      <td>7.044221</td>\n",
       "      <td>-4.687116</td>\n",
       "      <td>None</td>\n",
       "      <td>None</td>\n",
       "    </tr>\n",
       "    <tr>\n",
       "      <th>4236</th>\n",
       "      <td>25.603199</td>\n",
       "      <td>59.507236</td>\n",
       "      <td>0.459518</td>\n",
       "      <td>2.14924</td>\n",
       "      <td>8.5</td>\n",
       "      <td>3.812884</td>\n",
       "      <td>60.000000</td>\n",
       "      <td>7.044221</td>\n",
       "      <td>-4.687116</td>\n",
       "      <td>None</td>\n",
       "      <td>None</td>\n",
       "    </tr>\n",
       "    <tr>\n",
       "      <th>4237</th>\n",
       "      <td>25.450800</td>\n",
       "      <td>59.372772</td>\n",
       "      <td>0.460849</td>\n",
       "      <td>2.14924</td>\n",
       "      <td>8.5</td>\n",
       "      <td>3.802276</td>\n",
       "      <td>60.000000</td>\n",
       "      <td>7.044221</td>\n",
       "      <td>-4.697723</td>\n",
       "      <td>None</td>\n",
       "      <td>None</td>\n",
       "    </tr>\n",
       "    <tr>\n",
       "      <th>4238</th>\n",
       "      <td>25.298399</td>\n",
       "      <td>60.822781</td>\n",
       "      <td>0.484079</td>\n",
       "      <td>2.14924</td>\n",
       "      <td>8.5</td>\n",
       "      <td>3.823491</td>\n",
       "      <td>60.000000</td>\n",
       "      <td>7.044221</td>\n",
       "      <td>-4.676509</td>\n",
       "      <td>None</td>\n",
       "      <td>None</td>\n",
       "    </tr>\n",
       "    <tr>\n",
       "      <th>4239</th>\n",
       "      <td>25.146000</td>\n",
       "      <td>60.822781</td>\n",
       "      <td>0.484079</td>\n",
       "      <td>NaN</td>\n",
       "      <td>8.5</td>\n",
       "      <td>NaN</td>\n",
       "      <td>60.000000</td>\n",
       "      <td>NaN</td>\n",
       "      <td>NaN</td>\n",
       "      <td>None</td>\n",
       "      <td>None</td>\n",
       "    </tr>\n",
       "  </tbody>\n",
       "</table>\n",
       "<p>4240 rows × 11 columns</p>\n",
       "</div>"
      ],
      "text/plain": [
       "            TDEP         GR      NPHI     RHOB   BS       CAL         DT  \\\n",
       "0     671.169617  47.261490  0.263958     None  8.5  3.887136  82.793983   \n",
       "1     671.017212  47.261490  0.263958     None  8.5  3.887136  82.793983   \n",
       "2     670.864807  47.261490  0.263958     None  8.5  3.887136  82.793983   \n",
       "3     670.712402  47.261490  0.263958     None  8.5  3.887136  82.793983   \n",
       "4     670.559998  47.261490  0.263958     None  8.5  3.887136  82.793983   \n",
       "...          ...        ...       ...      ...  ...       ...        ...   \n",
       "4235   25.755600  59.688400  0.463366  2.14924  8.5  3.812884  60.000000   \n",
       "4236   25.603199  59.507236  0.459518  2.14924  8.5  3.812884  60.000000   \n",
       "4237   25.450800  59.372772  0.460849  2.14924  8.5  3.802276  60.000000   \n",
       "4238   25.298399  60.822781  0.484079  2.14924  8.5  3.823491  60.000000   \n",
       "4239   25.146000  60.822781  0.484079      NaN  8.5       NaN  60.000000   \n",
       "\n",
       "          RESD      DCAL  DRHO    PE  \n",
       "0     0.812778 -4.612864  None  None  \n",
       "1     0.812771 -4.612864  None  None  \n",
       "2     0.811494 -4.612864  None  None  \n",
       "3     0.810167 -4.612864  None  None  \n",
       "4     0.809051 -4.612864  None  None  \n",
       "...        ...       ...   ...   ...  \n",
       "4235  7.044221 -4.687116  None  None  \n",
       "4236  7.044221 -4.687116  None  None  \n",
       "4237  7.044221 -4.697723  None  None  \n",
       "4238  7.044221 -4.676509  None  None  \n",
       "4239       NaN       NaN  None  None  \n",
       "\n",
       "[4240 rows x 11 columns]"
      ]
     },
     "execution_count": 20,
     "metadata": {},
     "output_type": "execute_result"
    }
   ],
   "source": [
    "dlis_df_dict['1-BRSA-605-SE']"
   ]
  },
  {
   "cell_type": "markdown",
   "metadata": {},
   "source": [
    "## Temos as seguintes curvas "
   ]
  },
  {
   "cell_type": "code",
   "execution_count": 21,
   "metadata": {},
   "outputs": [
    {
     "name": "stdout",
     "output_type": "stream",
     "text": [
      "1-FSJQ-1-SE: ['BS', 'CAL', 'DCAL', 'DRHO', 'DT', 'GR', 'NPHI', 'PE', 'RESD', 'RHOB', 'TDEP']\n",
      "1-BRSA-595-SE: ['BS', 'CAL', 'DCAL', 'DRHO', 'DT', 'GR', 'NPHI', 'PE', 'RESD', 'RHOB', 'TDEP']\n",
      "1-BRSA-659-SE: ['BS', 'CAL', 'DCAL', 'DRHO', 'DT', 'GR', 'NPHI', 'PE', 'RESD', 'RHOB', 'TDEP']\n",
      "3-BRSA-900-SE: ['BS', 'CAL', 'DCAL', 'DRHO', 'DT', 'GR', 'NPHI', 'PE', 'RESD', 'RHOB', 'TDEP']\n",
      "3-BRSA-889-SE: ['BS', 'CAL', 'DCAL', 'DRHO', 'DT', 'GR', 'NPHI', 'PE', 'RESD', 'RHOB', 'TDEP']\n",
      "3-BRSA-912-SE: ['BS', 'CAL', 'DCAL', 'DRHO', 'DT', 'GR', 'NPHI', 'PE', 'RESD', 'RHOB', 'TDEP']\n",
      "3-BRSA-897-SE: ['BS', 'CAL', 'DCAL', 'DRHO', 'DT', 'GR', 'NPHI', 'PE', 'RESD', 'RHOB', 'TDEP']\n",
      "3-BRSA-910-SE: ['BS', 'CAL', 'DCAL', 'DRHO', 'DT', 'GR', 'NPHI', 'PE', 'RESD', 'RHOB', 'TDEP']\n",
      "3-BRSA-907-SE: ['BS', 'CAL', 'DCAL', 'DRHO', 'DT', 'GR', 'NPHI', 'PE', 'RESD', 'RHOB', 'TDEP']\n",
      "1-BRSA-605-SE: ['BS', 'CAL', 'DCAL', 'DRHO', 'DT', 'GR', 'NPHI', 'PE', 'RESD', 'RHOB', 'TDEP']\n"
     ]
    }
   ],
   "source": [
    "for key, poco in dlis_df_dict.items():\n",
    "    curvas = sorted(poco.keys())\n",
    "    print(f\"{key}: {curvas}\")"
   ]
  },
  {
   "cell_type": "markdown",
   "metadata": {},
   "source": [
    "## Remove valores DRHO e DCAL indesejados (Só depois)"
   ]
  },
  {
   "cell_type": "code",
   "execution_count": null,
   "metadata": {},
   "outputs": [],
   "source": [
    "#limita_curva(dlis_df_dict, \"DRHO\", -0.15, 0.15)\n",
    "#limita_curva(dlis_df_dict, \"DCAL\", -2, 2)"
   ]
  },
  {
   "cell_type": "markdown",
   "metadata": {},
   "source": [
    "## Inverte a ordem das linhas dos dataframes"
   ]
  },
  {
   "cell_type": "code",
   "execution_count": 22,
   "metadata": {},
   "outputs": [],
   "source": [
    "for key in dlis_df_dict.keys():\n",
    "    dlis_df_dict[key] = dlis_df_dict[key].iloc[::-1]"
   ]
  },
  {
   "cell_type": "markdown",
   "metadata": {},
   "source": [
    "## Ordena as colunas dos dataframes"
   ]
  },
  {
   "cell_type": "code",
   "execution_count": 23,
   "metadata": {},
   "outputs": [],
   "source": [
    "# Simon e Vandelli vao definir a ordem de preferencia\n",
    "ordem_desejada = ['TDEP', 'BS', 'CAL', 'DCAL', 'GR', 'RESD', 'DT', 'RHOB', 'DRHO', 'NPHI', 'PE']\n",
    "\n",
    "for key in dlis_df_dict.keys():\n",
    "    dlis_df_dict[key] = dlis_df_dict[key].reindex(columns=ordem_desejada)"
   ]
  },
  {
   "cell_type": "markdown",
   "metadata": {},
   "source": [
    "## Salva os dados dos dataframes em arquivos CSV"
   ]
  },
  {
   "cell_type": "code",
   "execution_count": 24,
   "metadata": {},
   "outputs": [
    {
     "name": "stdout",
     "output_type": "stream",
     "text": [
      "Arquivo Pocos_CSV/poco_1-FSJQ-1-SE.csv criado com sucesso.\n",
      "Arquivo Pocos_CSV/poco_1-BRSA-595-SE.csv criado com sucesso.\n",
      "Arquivo Pocos_CSV/poco_1-BRSA-659-SE.csv criado com sucesso.\n",
      "Arquivo Pocos_CSV/poco_3-BRSA-900-SE.csv criado com sucesso.\n",
      "Arquivo Pocos_CSV/poco_3-BRSA-889-SE.csv criado com sucesso.\n",
      "Arquivo Pocos_CSV/poco_3-BRSA-912-SE.csv criado com sucesso.\n",
      "Arquivo Pocos_CSV/poco_3-BRSA-897-SE.csv criado com sucesso.\n",
      "Arquivo Pocos_CSV/poco_3-BRSA-910-SE.csv criado com sucesso.\n",
      "Arquivo Pocos_CSV/poco_3-BRSA-907-SE.csv criado com sucesso.\n",
      "Arquivo Pocos_CSV/poco_1-BRSA-605-SE.csv criado com sucesso.\n"
     ]
    }
   ],
   "source": [
    "for key, value in dlis_df_dict.items():\n",
    "    file_name = f\"Pocos_CSV/poco_{key}.csv\"\n",
    "    value.to_csv(file_name, index=False)\n",
    "    print(f\"Arquivo {file_name} criado com sucesso.\")"
   ]
  }
 ],
 "metadata": {
  "kernelspec": {
   "display_name": "Python 3",
   "language": "python",
   "name": "python3"
  },
  "language_info": {
   "codemirror_mode": {
    "name": "ipython",
    "version": 3
   },
   "file_extension": ".py",
   "mimetype": "text/x-python",
   "name": "python",
   "nbconvert_exporter": "python",
   "pygments_lexer": "ipython3",
   "version": "3.10.2"
  }
 },
 "nbformat": 4,
 "nbformat_minor": 2
}
