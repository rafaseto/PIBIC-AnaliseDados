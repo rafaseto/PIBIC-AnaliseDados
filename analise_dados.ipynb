{
 "cells": [
  {
   "cell_type": "markdown",
   "metadata": {},
   "source": [
    "## Importa funções para o pré-processamento"
   ]
  },
  {
   "cell_type": "code",
   "execution_count": 1,
   "metadata": {},
   "outputs": [],
   "source": [
    "from pre_processamento import *\n",
    "\n",
    "from dlisio import dlis\n",
    "import pandas as pd\n",
    "\n",
    "# A função 'glob' do módulo 'glob' é usada para procurar todos os arquivos em um diretório com determinada extensão\n",
    "import glob"
   ]
  },
  {
   "cell_type": "markdown",
   "metadata": {},
   "source": [
    "## Carrega os dados"
   ]
  },
  {
   "cell_type": "code",
   "execution_count": 2,
   "metadata": {},
   "outputs": [],
   "source": [
    "dli_dict = {}        # Conterá os arquivos lógicos\n",
    "filenames = []  # Conterá os caminhos dos arquivos dlis\n",
    "nomes_anp = []      # Conterá os nomes ANP dos poços\n",
    "charId_inicio, charId_fim = 7, 10   # Índices de início e fim da substring identificadora do poço\n",
    "\n",
    "# Utilizando a função 'glob' do módulo 'glob' para procurar todos os arquivos com extensão DLIS em 'Data'\n",
    "for file in glob.glob(r'**/Data' + \"/*.dlis\", recursive=True):\n",
    "    \n",
    "    # Carregando os arquivos dlis com 'load' e armazenando-os em 'leitura'\n",
    "    # 'tail' recebe valores restantes, caso a função retorne mais de uma peça de informação\n",
    "    leitura, *tail = dlis.load(f'{file}')\n",
    "    \n",
    "    nome = leitura.origins[0].well_name\n",
    "\n",
    "    nomes_anp.append(nome)    # armazenando o nome do poço\n",
    "    \n",
    "    filenames.append(file)      # armazenando o caminho dos arquivos dlis\n",
    "    \n",
    "    nome_abreviado = nome[charId_inicio : charId_fim]   # identificador do poço, e.g. '900'\n",
    "    \n",
    "    # Armazenando o arquivo lógico como valor em um dicionário onde a chave é o identificador do poço\n",
    "    dli_dict[nome_abreviado] = leitura   "
   ]
  },
  {
   "cell_type": "code",
   "execution_count": 25,
   "metadata": {},
   "outputs": [
    {
     "data": {
      "text/plain": [
       "{'-SE': LogicalFile(AIT_SONIC_TLD_MCFL_018PUP),\n",
       " '1-S': LogicalFile(GEOLOAD.1),\n",
       " '595': LogicalFile(GEOLOAD.1),\n",
       " '605': LogicalFile(AIT_SONIC_TLD_MCFL_048PUC),\n",
       " '659': LogicalFile(GEOLOAD.1),\n",
       " '900': LogicalFile(GEOLOAD.1),\n",
       " '889': LogicalFile(GEOLOAD.1),\n",
       " '912': LogicalFile(GEOLOAD.1),\n",
       " '897': LogicalFile(GEOLOAD.1),\n",
       " '910': LogicalFile(GEOLOAD.1),\n",
       " '907': LogicalFile(GEOLOAD.1)}"
      ]
     },
     "execution_count": 25,
     "metadata": {},
     "output_type": "execute_result"
    }
   ],
   "source": [
    "dli_dict"
   ]
  },
  {
   "cell_type": "code",
   "execution_count": 32,
   "metadata": {},
   "outputs": [
    {
     "data": {
      "text/plain": [
       "[Channel(TDEP),\n",
       " Channel(BS),\n",
       " Channel(TENS),\n",
       " Channel(SP),\n",
       " Channel(GR),\n",
       " Channel(NPHI),\n",
       " Channel(TIME),\n",
       " Channel(IHV),\n",
       " Channel(ICV),\n",
       " Channel(DT)]"
      ]
     },
     "execution_count": 32,
     "metadata": {},
     "output_type": "execute_result"
    }
   ],
   "source": [
    "dli_dict['605'].frames[0].channels"
   ]
  },
  {
   "cell_type": "markdown",
   "metadata": {},
   "source": [
    "## Cria dataframes para os poços"
   ]
  },
  {
   "cell_type": "code",
   "execution_count": 44,
   "metadata": {},
   "outputs": [],
   "source": [
    "dlis_df_dict = {}   # Conterá os dataframes respectivos aos poços\n",
    "\n",
    "# Curvas de perfis escolhidas\n",
    "curvas_escolhidas = ['GR', 'BS', 'NPHI', 'CALI', 'RHOB', 'DRHO', 'PE', 'HDRS', 'HMRS', 'DTC', 'BSZ']\n",
    "\n",
    "# Iterando sobre os arquivos lógicos de todos os poços (que estão armazenados em 'dli_dict'),\n",
    "# '.values()' se refere aos valores do dicionário (não às chaves)\n",
    "for chave, poco in dli_dict.items():\n",
    "    try:\n",
    "        # Armazenando as curvas que serão utilizadas em uma lista\n",
    "        curvas_utilizadas = [\n",
    "            channel.name                                    # Os elementos da lista serão os nomes das curvas\n",
    "            for channel in poco.channels                    # As curvas são acessadas por meio de 'poco.channels'\n",
    "            if channel.name in curvas_escolhidas            # As curvas que não utilizaremos não serão armazenadas na lista\n",
    "        ]\n",
    "\n",
    "\n",
    "        curvas = poco.frames[0].curves()\n",
    "\n",
    "        # Criando um pandas dataframe do poço respectivo à atual iteração e armazenando o mesmo em dlis_df\n",
    "        dlis_df_dict[chave] = pd.DataFrame(curvas[curvas_utilizadas])\n",
    "    except:\n",
    "        pass"
   ]
  },
  {
   "cell_type": "code",
   "execution_count": 45,
   "metadata": {},
   "outputs": [
    {
     "ename": "KeyError",
     "evalue": "'605'",
     "output_type": "error",
     "traceback": [
      "\u001b[1;31m---------------------------------------------------------------------------\u001b[0m",
      "\u001b[1;31mKeyError\u001b[0m                                  Traceback (most recent call last)",
      "Cell \u001b[1;32mIn[45], line 1\u001b[0m\n\u001b[1;32m----> 1\u001b[0m \u001b[43mdlis_df_dict\u001b[49m\u001b[43m[\u001b[49m\u001b[38;5;124;43m'\u001b[39;49m\u001b[38;5;124;43m605\u001b[39;49m\u001b[38;5;124;43m'\u001b[39;49m\u001b[43m]\u001b[49m\n",
      "\u001b[1;31mKeyError\u001b[0m: '605'"
     ]
    }
   ],
   "source": [
    "dlis_df_dict['605']"
   ]
  },
  {
   "cell_type": "code",
   "execution_count": null,
   "metadata": {},
   "outputs": [],
   "source": [
    "# Transformados os valores -999.25 em nulos\n",
    "for poco in dlis_df_dict.values():\n",
    "    poco.replace([-999.25], [None], inplace = True)"
   ]
  },
  {
   "cell_type": "markdown",
   "metadata": {},
   "source": [
    "## Adiciona coluna DCALI"
   ]
  },
  {
   "cell_type": "code",
   "execution_count": null,
   "metadata": {},
   "outputs": [],
   "source": [
    "add_DCALI(dlis_df_dict)\n",
    "\n",
    "limita_curva(dlis_df_dict, \"DCALI\", -2, 2)"
   ]
  },
  {
   "cell_type": "markdown",
   "metadata": {},
   "source": [
    "## Remove valores DRHO indesejados"
   ]
  },
  {
   "cell_type": "code",
   "execution_count": null,
   "metadata": {},
   "outputs": [],
   "source": [
    "limita_curva(dlis_df_dict, \"DRHO\", -0.15, 0.15)"
   ]
  }
 ],
 "metadata": {
  "kernelspec": {
   "display_name": "Python 3",
   "language": "python",
   "name": "python3"
  },
  "language_info": {
   "codemirror_mode": {
    "name": "ipython",
    "version": 3
   },
   "file_extension": ".py",
   "mimetype": "text/x-python",
   "name": "python",
   "nbconvert_exporter": "python",
   "pygments_lexer": "ipython3",
   "version": "3.10.2"
  }
 },
 "nbformat": 4,
 "nbformat_minor": 2
}
