{
 "cells": [
  {
   "cell_type": "markdown",
   "metadata": {},
   "source": [
    "## Importa funções para o pré-processamento"
   ]
  },
  {
   "cell_type": "code",
   "execution_count": null,
   "metadata": {},
   "outputs": [],
   "source": [
    "from aux_datapreprocess import *\n",
    "\n",
    "from dlisio import dlis\n",
    "import pandas as pd\n",
    "\n",
    "# A função 'glob' do módulo 'glob' é usada para procurar todos os arquivos em um diretório com determinada extensão\n",
    "import glob"
   ]
  },
  {
   "cell_type": "markdown",
   "metadata": {},
   "source": [
    "## Carrega os dados"
   ]
  },
  {
   "cell_type": "code",
   "execution_count": null,
   "metadata": {},
   "outputs": [],
   "source": [
    "dli_dict = {}        # Conterá os arquivos lógicos\n",
    "filenames = []  # Conterá os caminhos dos arquivos dlis\n",
    "nomes_anp = []      # Conterá os nomes ANP dos poços\n",
    "charId_inicio, charId_fim = 7, 10   # Índices de início e fim da substring identificadora do poço\n",
    "\n",
    "# Utilizando a função 'glob' do módulo 'glob' para procurar todos os arquivos com extensão DLIS em 'Data'\n",
    "for file in glob.glob(r'**/Data' + \"/*.dlis\", recursive=True):\n",
    "    \n",
    "    # Carregando os arquivos dlis com 'load' e armazenando-os em 'leitura'\n",
    "    # 'tail' recebe valores restantes, caso a função retorne mais de uma peça de informação\n",
    "    leitura, *tail = dlis.load(f'{file}')\n",
    "    \n",
    "    nome = leitura.origins[0].well_name\n",
    "\n",
    "    nomes_anp.append(nome)    # armazenando o nome do poço\n",
    "    \n",
    "    filenames.append(file)      # armazenando o caminho dos arquivos dlis\n",
    "    \n",
    "    nome_abreviado = nome[charId_inicio : charId_fim]   # identificador do poço, e.g. '900'\n",
    "    \n",
    "    # Armazenando o arquivo lógico como valor em um dicionário onde a chave é o identificador do poço\n",
    "    dli_dict[nome_abreviado] = leitura   "
   ]
  },
  {
   "cell_type": "markdown",
   "metadata": {},
   "source": [
    "## Cria dataframes para os poços"
   ]
  },
  {
   "cell_type": "code",
   "execution_count": null,
   "metadata": {},
   "outputs": [],
   "source": [
    "dlis_df_dict = {}   # Conterá os dataframes respectivos aos poços\n",
    "\n",
    "# Curvas de perfis que não serão utilizadas\n",
    "curvas_nao_utilizadas = ['WF11', 'AHV', 'AHVT', 'BHV', 'BHVT', 'CS', 'FCPS', 'HDCN', 'HMCN', 'ITT', 'ITTT', 'LSPD', 'MMK', 'NCPS', 'SP', 'TENS']\n",
    "\n",
    "# Iterando sobre os arquivos lógicos de todos os poços (que estão armazenados em 'dli_dict'),\n",
    "# '.values()' se refere aos valores do dicionário (não às chaves)\n",
    "for chave, poco in dli_dict.items():\n",
    "    try:\n",
    "        # Armazenando as curvas que serão utilizadas em uma lista\n",
    "        curvas_utilizadas = [\n",
    "            channel.name                                    # Os elementos da lista serão os nomes das curvas\n",
    "            for channel in poco.channels                    # As curvas são acessadas por meio de 'poco.channels'\n",
    "            if channel.name not in curvas_nao_utilizadas    # As curvas que não utilizaremos não serão armazenadas na lista\n",
    "        ]\n",
    "\n",
    "\n",
    "        curvas = poco.frames[0].curves()\n",
    "\n",
    "        # Criando um pandas dataframe do poço respectivo à atual iteração e armazenando o mesmo em dlis_df\n",
    "        dlis_df_dict[chave] = pd.DataFrame(curvas[curvas_utilizadas])\n",
    "    except:\n",
    "        pass"
   ]
  },
  {
   "cell_type": "code",
   "execution_count": null,
   "metadata": {},
   "outputs": [],
   "source": [
    "# Transformados os valores -999.25 em nulos\n",
    "for poco in dlis_df_dict.values():\n",
    "    poco.replace([-999.25], [None], inplace = True)"
   ]
  },
  {
   "cell_type": "markdown",
   "metadata": {},
   "source": [
    "## Adiciona coluna DCALI"
   ]
  },
  {
   "cell_type": "code",
   "execution_count": null,
   "metadata": {},
   "outputs": [],
   "source": [
    "add_DCALI(dlis_df_dict)\n",
    "\n",
    "limita_curva(dlis_df_dict, \"DCALI\", -2, 2)"
   ]
  },
  {
   "cell_type": "markdown",
   "metadata": {},
   "source": [
    "## Remove valores DRHO indesejados"
   ]
  },
  {
   "cell_type": "code",
   "execution_count": null,
   "metadata": {},
   "outputs": [],
   "source": [
    "limita_curva(dlis_df_dict, \"DRHO\", -0.15, 0.15)"
   ]
  }
 ],
 "metadata": {
  "language_info": {
   "name": "python"
  }
 },
 "nbformat": 4,
 "nbformat_minor": 2
}
